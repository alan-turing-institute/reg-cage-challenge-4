{
 "cells": [
  {
   "cell_type": "code",
   "execution_count": 7,
   "metadata": {},
   "outputs": [],
   "source": [
    "from CybORG import CybORG\n",
    "from CybORG.Simulator.Scenarios import EnterpriseScenarioGenerator\n",
    "from CybORG.Simulator.Actions import Sleep\n",
    "from CybORG.Agents import SleepAgent, EnterpriseGreenAgent, FiniteStateRedAgent\n"
   ]
  },
  {
   "cell_type": "code",
   "execution_count": 8,
   "metadata": {},
   "outputs": [],
   "source": [
    "sg = EnterpriseScenarioGenerator(blue_agent_class=SleepAgent, \n",
    "                                green_agent_class=EnterpriseGreenAgent, \n",
    "                                red_agent_class=SleepAgent)\n",
    "cyborg = CybORG(scenario_generator=sg)"
   ]
  },
  {
   "cell_type": "code",
   "execution_count": 9,
   "metadata": {},
   "outputs": [
    {
     "data": {
      "text/html": [
       "<pre style=\"white-space:pre;overflow-x:auto;line-height:normal;font-family:Menlo,'DejaVu Sans Mono',consolas,'Courier New',monospace\"><span style=\"color: #008080; text-decoration-color: #008080; font-weight: bold\">5</span> Blue agents: <span style=\"color: #800080; text-decoration-color: #800080; font-weight: bold\">dict_keys</span><span style=\"font-weight: bold\">([</span><span style=\"color: #008000; text-decoration-color: #008000\">'blue_agent_0'</span>, <span style=\"color: #008000; text-decoration-color: #008000\">'blue_agent_1'</span>, <span style=\"color: #008000; text-decoration-color: #008000\">'blue_agent_2'</span>, <span style=\"color: #008000; text-decoration-color: #008000\">'blue_agent_3'</span>, <span style=\"color: #008000; text-decoration-color: #008000\">'blue_agent_4'</span><span style=\"font-weight: bold\">])</span>\n",
       "</pre>\n"
      ],
      "text/plain": [
       "\u001b[1;36m5\u001b[0m Blue agents: \u001b[1;35mdict_keys\u001b[0m\u001b[1m(\u001b[0m\u001b[1m[\u001b[0m\u001b[32m'blue_agent_0'\u001b[0m, \u001b[32m'blue_agent_1'\u001b[0m, \u001b[32m'blue_agent_2'\u001b[0m, \u001b[32m'blue_agent_3'\u001b[0m, \u001b[32m'blue_agent_4'\u001b[0m\u001b[1m]\u001b[0m\u001b[1m)\u001b[0m\n"
      ]
     },
     "metadata": {},
     "output_type": "display_data"
    },
    {
     "data": {
      "text/html": [
       "<pre style=\"white-space:pre;overflow-x:auto;line-height:normal;font-family:Menlo,'DejaVu Sans Mono',consolas,'Courier New',monospace\">Pertaining to: blue_agent_0\n",
       "</pre>\n"
      ],
      "text/plain": [
       "Pertaining to: blue_agent_0\n"
      ]
     },
     "metadata": {},
     "output_type": "display_data"
    },
    {
     "data": {
      "text/html": [
       "<pre style=\"white-space:pre;overflow-x:auto;line-height:normal;font-family:Menlo,'DejaVu Sans Mono',consolas,'Courier New',monospace\"><span style=\"color: #008080; text-decoration-color: #008080; font-weight: bold\">11</span> observations types: \n",
       "<span style=\"color: #800080; text-decoration-color: #800080; font-weight: bold\">dict_keys</span><span style=\"font-weight: bold\">([</span><span style=\"color: #008000; text-decoration-color: #008000\">'success'</span>, <span style=\"color: #008000; text-decoration-color: #008000\">'restricted_zone_a_subnet_router'</span>, <span style=\"color: #008000; text-decoration-color: #008000\">'restricted_zone_a_subnet_user_host_0'</span>, \n",
       "<span style=\"color: #008000; text-decoration-color: #008000\">'restricted_zone_a_subnet_user_host_1'</span>, <span style=\"color: #008000; text-decoration-color: #008000\">'restricted_zone_a_subnet_user_host_2'</span>, \n",
       "<span style=\"color: #008000; text-decoration-color: #008000\">'restricted_zone_a_subnet_user_host_3'</span>, <span style=\"color: #008000; text-decoration-color: #008000\">'restricted_zone_a_subnet_user_host_4'</span>, \n",
       "<span style=\"color: #008000; text-decoration-color: #008000\">'restricted_zone_a_subnet_user_host_5'</span>, <span style=\"color: #008000; text-decoration-color: #008000\">'restricted_zone_a_subnet_server_host_0'</span>, \n",
       "<span style=\"color: #008000; text-decoration-color: #008000\">'restricted_zone_a_subnet_server_host_1'</span>, <span style=\"color: #008000; text-decoration-color: #008000\">'restricted_zone_a_subnet_server_host_2'</span><span style=\"font-weight: bold\">])</span>\n",
       "</pre>\n"
      ],
      "text/plain": [
       "\u001b[1;36m11\u001b[0m observations types: \n",
       "\u001b[1;35mdict_keys\u001b[0m\u001b[1m(\u001b[0m\u001b[1m[\u001b[0m\u001b[32m'success'\u001b[0m, \u001b[32m'restricted_zone_a_subnet_router'\u001b[0m, \u001b[32m'restricted_zone_a_subnet_user_host_0'\u001b[0m, \n",
       "\u001b[32m'restricted_zone_a_subnet_user_host_1'\u001b[0m, \u001b[32m'restricted_zone_a_subnet_user_host_2'\u001b[0m, \n",
       "\u001b[32m'restricted_zone_a_subnet_user_host_3'\u001b[0m, \u001b[32m'restricted_zone_a_subnet_user_host_4'\u001b[0m, \n",
       "\u001b[32m'restricted_zone_a_subnet_user_host_5'\u001b[0m, \u001b[32m'restricted_zone_a_subnet_server_host_0'\u001b[0m, \n",
       "\u001b[32m'restricted_zone_a_subnet_server_host_1'\u001b[0m, \u001b[32m'restricted_zone_a_subnet_server_host_2'\u001b[0m\u001b[1m]\u001b[0m\u001b[1m)\u001b[0m\n"
      ]
     },
     "metadata": {},
     "output_type": "display_data"
    },
    {
     "data": {
      "text/html": [
       "<pre style=\"white-space:pre;overflow-x:auto;line-height:normal;font-family:Menlo,'DejaVu Sans Mono',consolas,'Courier New',monospace\"><span style=\"color: #800080; text-decoration-color: #800080; font-weight: bold\">Discrete</span><span style=\"font-weight: bold\">(</span><span style=\"color: #008080; text-decoration-color: #008080; font-weight: bold\">82</span><span style=\"font-weight: bold\">)</span> action labels: \n",
       "<span style=\"font-weight: bold\">[</span><span style=\"color: #008000; text-decoration-color: #008000\">'Analyse restricted_zone_a_subnet_server_host_0'</span>, <span style=\"color: #008000; text-decoration-color: #008000\">'Analyse restricted_zone_a_subnet_server_host_1'</span>, <span style=\"color: #008000; text-decoration-color: #008000\">'Analyse </span>\n",
       "<span style=\"color: #008000; text-decoration-color: #008000\">restricted_zone_a_subnet_server_host_2'</span>, <span style=\"color: #008000; text-decoration-color: #008000\">'[Invalid] Analyse restricted_zone_a_subnet_server_host_3'</span>, <span style=\"color: #008000; text-decoration-color: #008000\">'[Invalid] </span>\n",
       "<span style=\"color: #008000; text-decoration-color: #008000\">Analyse restricted_zone_a_subnet_server_host_4'</span>, <span style=\"color: #008000; text-decoration-color: #008000\">'[Invalid] Analyse restricted_zone_a_subnet_server_host_5'</span>, \n",
       "<span style=\"color: #008000; text-decoration-color: #008000\">'Analyse restricted_zone_a_subnet_user_host_0'</span>, <span style=\"color: #008000; text-decoration-color: #008000\">'Analyse restricted_zone_a_subnet_user_host_1'</span>, <span style=\"color: #008000; text-decoration-color: #008000\">'Analyse </span>\n",
       "<span style=\"color: #008000; text-decoration-color: #008000\">restricted_zone_a_subnet_user_host_2'</span>, <span style=\"color: #008000; text-decoration-color: #008000\">'Analyse restricted_zone_a_subnet_user_host_3'</span>, <span style=\"color: #008000; text-decoration-color: #008000\">'Analyse </span>\n",
       "<span style=\"color: #008000; text-decoration-color: #008000\">restricted_zone_a_subnet_user_host_4'</span>, <span style=\"color: #008000; text-decoration-color: #008000\">'Analyse restricted_zone_a_subnet_user_host_5'</span>, <span style=\"color: #008000; text-decoration-color: #008000\">'[Invalid] Analyse </span>\n",
       "<span style=\"color: #008000; text-decoration-color: #008000\">restricted_zone_a_subnet_user_host_6'</span>, <span style=\"color: #008000; text-decoration-color: #008000\">'[Invalid] Analyse restricted_zone_a_subnet_user_host_7'</span>, <span style=\"color: #008000; text-decoration-color: #008000\">'[Invalid] Analyse</span>\n",
       "<span style=\"color: #008000; text-decoration-color: #008000\">restricted_zone_a_subnet_user_host_8'</span>, <span style=\"color: #008000; text-decoration-color: #008000\">'[Invalid] Analyse restricted_zone_a_subnet_user_host_9'</span>, <span style=\"color: #008000; text-decoration-color: #008000\">'Monitor'</span>, <span style=\"color: #008000; text-decoration-color: #008000\">'Remove</span>\n",
       "<span style=\"color: #008000; text-decoration-color: #008000\">restricted_zone_a_subnet_server_host_0'</span>, <span style=\"color: #008000; text-decoration-color: #008000\">'Remove restricted_zone_a_subnet_server_host_1'</span>, <span style=\"color: #008000; text-decoration-color: #008000\">'Remove </span>\n",
       "<span style=\"color: #008000; text-decoration-color: #008000\">restricted_zone_a_subnet_server_host_2'</span>, <span style=\"color: #008000; text-decoration-color: #008000\">'[Invalid] Remove restricted_zone_a_subnet_server_host_3'</span>, <span style=\"color: #008000; text-decoration-color: #008000\">'[Invalid] </span>\n",
       "<span style=\"color: #008000; text-decoration-color: #008000\">Remove restricted_zone_a_subnet_server_host_4'</span>, <span style=\"color: #008000; text-decoration-color: #008000\">'[Invalid] Remove restricted_zone_a_subnet_server_host_5'</span>, <span style=\"color: #008000; text-decoration-color: #008000\">'Remove </span>\n",
       "<span style=\"color: #008000; text-decoration-color: #008000\">restricted_zone_a_subnet_user_host_0'</span>, <span style=\"color: #008000; text-decoration-color: #008000\">'Remove restricted_zone_a_subnet_user_host_1'</span>, <span style=\"color: #008000; text-decoration-color: #008000\">'Remove </span>\n",
       "<span style=\"color: #008000; text-decoration-color: #008000\">restricted_zone_a_subnet_user_host_2'</span>, <span style=\"color: #008000; text-decoration-color: #008000\">'Remove restricted_zone_a_subnet_user_host_3'</span>, <span style=\"color: #008000; text-decoration-color: #008000\">'Remove </span>\n",
       "<span style=\"color: #008000; text-decoration-color: #008000\">restricted_zone_a_subnet_user_host_4'</span>, <span style=\"color: #008000; text-decoration-color: #008000\">'Remove restricted_zone_a_subnet_user_host_5'</span>, <span style=\"color: #008000; text-decoration-color: #008000\">'[Invalid] Remove </span>\n",
       "<span style=\"color: #008000; text-decoration-color: #008000\">restricted_zone_a_subnet_user_host_6'</span>, <span style=\"color: #008000; text-decoration-color: #008000\">'[Invalid] Remove restricted_zone_a_subnet_user_host_7'</span>, <span style=\"color: #008000; text-decoration-color: #008000\">'[Invalid] Remove </span>\n",
       "<span style=\"color: #008000; text-decoration-color: #008000\">restricted_zone_a_subnet_user_host_8'</span>, <span style=\"color: #008000; text-decoration-color: #008000\">'[Invalid] Remove restricted_zone_a_subnet_user_host_9'</span>, <span style=\"color: #008000; text-decoration-color: #008000\">'Restore </span>\n",
       "<span style=\"color: #008000; text-decoration-color: #008000\">restricted_zone_a_subnet_server_host_0'</span>, <span style=\"color: #008000; text-decoration-color: #008000\">'Restore restricted_zone_a_subnet_server_host_1'</span>, <span style=\"color: #008000; text-decoration-color: #008000\">'Restore </span>\n",
       "<span style=\"color: #008000; text-decoration-color: #008000\">restricted_zone_a_subnet_server_host_2'</span>, <span style=\"color: #008000; text-decoration-color: #008000\">'[Invalid] Restore restricted_zone_a_subnet_server_host_3'</span>, <span style=\"color: #008000; text-decoration-color: #008000\">'[Invalid] </span>\n",
       "<span style=\"color: #008000; text-decoration-color: #008000\">Restore restricted_zone_a_subnet_server_host_4'</span>, <span style=\"color: #008000; text-decoration-color: #008000\">'[Invalid] Restore restricted_zone_a_subnet_server_host_5'</span>, \n",
       "<span style=\"color: #008000; text-decoration-color: #008000\">'Restore restricted_zone_a_subnet_user_host_0'</span>, <span style=\"color: #008000; text-decoration-color: #008000\">'Restore restricted_zone_a_subnet_user_host_1'</span>, <span style=\"color: #008000; text-decoration-color: #008000\">'Restore </span>\n",
       "<span style=\"color: #008000; text-decoration-color: #008000\">restricted_zone_a_subnet_user_host_2'</span>, <span style=\"color: #008000; text-decoration-color: #008000\">'Restore restricted_zone_a_subnet_user_host_3'</span>, <span style=\"color: #008000; text-decoration-color: #008000\">'Restore </span>\n",
       "<span style=\"color: #008000; text-decoration-color: #008000\">restricted_zone_a_subnet_user_host_4'</span>, <span style=\"color: #008000; text-decoration-color: #008000\">'Restore restricted_zone_a_subnet_user_host_5'</span>, <span style=\"color: #008000; text-decoration-color: #008000\">'[Invalid] Restore </span>\n",
       "<span style=\"color: #008000; text-decoration-color: #008000\">restricted_zone_a_subnet_user_host_6'</span>, <span style=\"color: #008000; text-decoration-color: #008000\">'[Invalid] Restore restricted_zone_a_subnet_user_host_7'</span>, <span style=\"color: #008000; text-decoration-color: #008000\">'[Invalid] Restore</span>\n",
       "<span style=\"color: #008000; text-decoration-color: #008000\">restricted_zone_a_subnet_user_host_8'</span>, <span style=\"color: #008000; text-decoration-color: #008000\">'[Invalid] Restore restricted_zone_a_subnet_user_host_9'</span>, <span style=\"color: #008000; text-decoration-color: #008000\">'Sleep'</span>, \n",
       "<span style=\"color: #008000; text-decoration-color: #008000\">'AllowTrafficZone restricted_zone_a_subnet (10.0.60.0/24) &lt;- admin_network_subnet (10.0.8.0/24)'</span>, <span style=\"color: #008000; text-decoration-color: #008000\">'AllowTrafficZone</span>\n",
       "<span style=\"color: #008000; text-decoration-color: #008000\">restricted_zone_a_subnet (10.0.60.0/24) &lt;- contractor_network_subnet (10.0.213.0/24)'</span>, <span style=\"color: #008000; text-decoration-color: #008000\">'AllowTrafficZone </span>\n",
       "<span style=\"color: #008000; text-decoration-color: #008000\">restricted_zone_a_subnet (10.0.60.0/24) &lt;- internet_subnet (10.0.117.0/24)'</span>, <span style=\"color: #008000; text-decoration-color: #008000\">'AllowTrafficZone </span>\n",
       "<span style=\"color: #008000; text-decoration-color: #008000\">restricted_zone_a_subnet (10.0.60.0/24) &lt;- office_network_subnet (10.0.150.0/24)'</span>, <span style=\"color: #008000; text-decoration-color: #008000\">'AllowTrafficZone </span>\n",
       "<span style=\"color: #008000; text-decoration-color: #008000\">restricted_zone_a_subnet (10.0.60.0/24) &lt;- operational_zone_a_subnet (10.0.166.0/24)'</span>, <span style=\"color: #008000; text-decoration-color: #008000\">'AllowTrafficZone </span>\n",
       "<span style=\"color: #008000; text-decoration-color: #008000\">restricted_zone_a_subnet (10.0.60.0/24) &lt;- operational_zone_b_subnet (10.0.178.0/24)'</span>, <span style=\"color: #008000; text-decoration-color: #008000\">'AllowTrafficZone </span>\n",
       "<span style=\"color: #008000; text-decoration-color: #008000\">restricted_zone_a_subnet (10.0.60.0/24) &lt;- public_access_zone_subnet (10.0.220.0/24)'</span>, <span style=\"color: #008000; text-decoration-color: #008000\">'AllowTrafficZone </span>\n",
       "<span style=\"color: #008000; text-decoration-color: #008000\">restricted_zone_a_subnet (10.0.60.0/24) &lt;- restricted_zone_b_subnet (10.0.90.0/24)'</span>, <span style=\"color: #008000; text-decoration-color: #008000\">'BlockTrafficZone </span>\n",
       "<span style=\"color: #008000; text-decoration-color: #008000\">restricted_zone_a_subnet (10.0.60.0/24) &lt;- admin_network_subnet (10.0.8.0/24)'</span>, <span style=\"color: #008000; text-decoration-color: #008000\">'BlockTrafficZone </span>\n",
       "<span style=\"color: #008000; text-decoration-color: #008000\">restricted_zone_a_subnet (10.0.60.0/24) &lt;- contractor_network_subnet (10.0.213.0/24)'</span>, <span style=\"color: #008000; text-decoration-color: #008000\">'BlockTrafficZone </span>\n",
       "<span style=\"color: #008000; text-decoration-color: #008000\">restricted_zone_a_subnet (10.0.60.0/24) &lt;- internet_subnet (10.0.117.0/24)'</span>, <span style=\"color: #008000; text-decoration-color: #008000\">'BlockTrafficZone </span>\n",
       "<span style=\"color: #008000; text-decoration-color: #008000\">restricted_zone_a_subnet (10.0.60.0/24) &lt;- office_network_subnet (10.0.150.0/24)'</span>, <span style=\"color: #008000; text-decoration-color: #008000\">'BlockTrafficZone </span>\n",
       "<span style=\"color: #008000; text-decoration-color: #008000\">restricted_zone_a_subnet (10.0.60.0/24) &lt;- operational_zone_a_subnet (10.0.166.0/24)'</span>, <span style=\"color: #008000; text-decoration-color: #008000\">'BlockTrafficZone </span>\n",
       "<span style=\"color: #008000; text-decoration-color: #008000\">restricted_zone_a_subnet (10.0.60.0/24) &lt;- operational_zone_b_subnet (10.0.178.0/24)'</span>, <span style=\"color: #008000; text-decoration-color: #008000\">'BlockTrafficZone </span>\n",
       "<span style=\"color: #008000; text-decoration-color: #008000\">restricted_zone_a_subnet (10.0.60.0/24) &lt;- public_access_zone_subnet (10.0.220.0/24)'</span>, <span style=\"color: #008000; text-decoration-color: #008000\">'BlockTrafficZone </span>\n",
       "<span style=\"color: #008000; text-decoration-color: #008000\">restricted_zone_a_subnet (10.0.60.0/24) &lt;- restricted_zone_b_subnet (10.0.90.0/24)'</span>, <span style=\"color: #008000; text-decoration-color: #008000\">'DeployDecoy </span>\n",
       "<span style=\"color: #008000; text-decoration-color: #008000\">restricted_zone_a_subnet_server_host_0'</span>, <span style=\"color: #008000; text-decoration-color: #008000\">'DeployDecoy restricted_zone_a_subnet_server_host_1'</span>, <span style=\"color: #008000; text-decoration-color: #008000\">'DeployDecoy </span>\n",
       "<span style=\"color: #008000; text-decoration-color: #008000\">restricted_zone_a_subnet_server_host_2'</span>, <span style=\"color: #008000; text-decoration-color: #008000\">'[Invalid] DeployDecoy restricted_zone_a_subnet_server_host_3'</span>, <span style=\"color: #008000; text-decoration-color: #008000\">'[Invalid]</span>\n",
       "<span style=\"color: #008000; text-decoration-color: #008000\">DeployDecoy restricted_zone_a_subnet_server_host_4'</span>, <span style=\"color: #008000; text-decoration-color: #008000\">'[Invalid] DeployDecoy </span>\n",
       "<span style=\"color: #008000; text-decoration-color: #008000\">restricted_zone_a_subnet_server_host_5'</span>, <span style=\"color: #008000; text-decoration-color: #008000\">'DeployDecoy restricted_zone_a_subnet_user_host_0'</span>, <span style=\"color: #008000; text-decoration-color: #008000\">'DeployDecoy </span>\n",
       "<span style=\"color: #008000; text-decoration-color: #008000\">restricted_zone_a_subnet_user_host_1'</span>, <span style=\"color: #008000; text-decoration-color: #008000\">'DeployDecoy restricted_zone_a_subnet_user_host_2'</span>, <span style=\"color: #008000; text-decoration-color: #008000\">'DeployDecoy </span>\n",
       "<span style=\"color: #008000; text-decoration-color: #008000\">restricted_zone_a_subnet_user_host_3'</span>, <span style=\"color: #008000; text-decoration-color: #008000\">'DeployDecoy restricted_zone_a_subnet_user_host_4'</span>, <span style=\"color: #008000; text-decoration-color: #008000\">'DeployDecoy </span>\n",
       "<span style=\"color: #008000; text-decoration-color: #008000\">restricted_zone_a_subnet_user_host_5'</span>, <span style=\"color: #008000; text-decoration-color: #008000\">'[Invalid] DeployDecoy restricted_zone_a_subnet_user_host_6'</span>, <span style=\"color: #008000; text-decoration-color: #008000\">'[Invalid] </span>\n",
       "<span style=\"color: #008000; text-decoration-color: #008000\">DeployDecoy restricted_zone_a_subnet_user_host_7'</span>, <span style=\"color: #008000; text-decoration-color: #008000\">'[Invalid] DeployDecoy restricted_zone_a_subnet_user_host_8'</span>, \n",
       "<span style=\"color: #008000; text-decoration-color: #008000\">'[Invalid] DeployDecoy restricted_zone_a_subnet_user_host_9'</span><span style=\"font-weight: bold\">]</span>\n",
       "</pre>\n"
      ],
      "text/plain": [
       "\u001b[1;35mDiscrete\u001b[0m\u001b[1m(\u001b[0m\u001b[1;36m82\u001b[0m\u001b[1m)\u001b[0m action labels: \n",
       "\u001b[1m[\u001b[0m\u001b[32m'Analyse restricted_zone_a_subnet_server_host_0'\u001b[0m, \u001b[32m'Analyse restricted_zone_a_subnet_server_host_1'\u001b[0m, \u001b[32m'Analyse \u001b[0m\n",
       "\u001b[32mrestricted_zone_a_subnet_server_host_2'\u001b[0m, \u001b[32m'\u001b[0m\u001b[32m[\u001b[0m\u001b[32mInvalid\u001b[0m\u001b[32m]\u001b[0m\u001b[32m Analyse restricted_zone_a_subnet_server_host_3'\u001b[0m, \u001b[32m'\u001b[0m\u001b[32m[\u001b[0m\u001b[32mInvalid\u001b[0m\u001b[32m]\u001b[0m\u001b[32m \u001b[0m\n",
       "\u001b[32mAnalyse restricted_zone_a_subnet_server_host_4'\u001b[0m, \u001b[32m'\u001b[0m\u001b[32m[\u001b[0m\u001b[32mInvalid\u001b[0m\u001b[32m]\u001b[0m\u001b[32m Analyse restricted_zone_a_subnet_server_host_5'\u001b[0m, \n",
       "\u001b[32m'Analyse restricted_zone_a_subnet_user_host_0'\u001b[0m, \u001b[32m'Analyse restricted_zone_a_subnet_user_host_1'\u001b[0m, \u001b[32m'Analyse \u001b[0m\n",
       "\u001b[32mrestricted_zone_a_subnet_user_host_2'\u001b[0m, \u001b[32m'Analyse restricted_zone_a_subnet_user_host_3'\u001b[0m, \u001b[32m'Analyse \u001b[0m\n",
       "\u001b[32mrestricted_zone_a_subnet_user_host_4'\u001b[0m, \u001b[32m'Analyse restricted_zone_a_subnet_user_host_5'\u001b[0m, \u001b[32m'\u001b[0m\u001b[32m[\u001b[0m\u001b[32mInvalid\u001b[0m\u001b[32m]\u001b[0m\u001b[32m Analyse \u001b[0m\n",
       "\u001b[32mrestricted_zone_a_subnet_user_host_6'\u001b[0m, \u001b[32m'\u001b[0m\u001b[32m[\u001b[0m\u001b[32mInvalid\u001b[0m\u001b[32m]\u001b[0m\u001b[32m Analyse restricted_zone_a_subnet_user_host_7'\u001b[0m, \u001b[32m'\u001b[0m\u001b[32m[\u001b[0m\u001b[32mInvalid\u001b[0m\u001b[32m]\u001b[0m\u001b[32m Analyse\u001b[0m\n",
       "\u001b[32mrestricted_zone_a_subnet_user_host_8'\u001b[0m, \u001b[32m'\u001b[0m\u001b[32m[\u001b[0m\u001b[32mInvalid\u001b[0m\u001b[32m]\u001b[0m\u001b[32m Analyse restricted_zone_a_subnet_user_host_9'\u001b[0m, \u001b[32m'Monitor'\u001b[0m, \u001b[32m'Remove\u001b[0m\n",
       "\u001b[32mrestricted_zone_a_subnet_server_host_0'\u001b[0m, \u001b[32m'Remove restricted_zone_a_subnet_server_host_1'\u001b[0m, \u001b[32m'Remove \u001b[0m\n",
       "\u001b[32mrestricted_zone_a_subnet_server_host_2'\u001b[0m, \u001b[32m'\u001b[0m\u001b[32m[\u001b[0m\u001b[32mInvalid\u001b[0m\u001b[32m]\u001b[0m\u001b[32m Remove restricted_zone_a_subnet_server_host_3'\u001b[0m, \u001b[32m'\u001b[0m\u001b[32m[\u001b[0m\u001b[32mInvalid\u001b[0m\u001b[32m]\u001b[0m\u001b[32m \u001b[0m\n",
       "\u001b[32mRemove restricted_zone_a_subnet_server_host_4'\u001b[0m, \u001b[32m'\u001b[0m\u001b[32m[\u001b[0m\u001b[32mInvalid\u001b[0m\u001b[32m]\u001b[0m\u001b[32m Remove restricted_zone_a_subnet_server_host_5'\u001b[0m, \u001b[32m'Remove \u001b[0m\n",
       "\u001b[32mrestricted_zone_a_subnet_user_host_0'\u001b[0m, \u001b[32m'Remove restricted_zone_a_subnet_user_host_1'\u001b[0m, \u001b[32m'Remove \u001b[0m\n",
       "\u001b[32mrestricted_zone_a_subnet_user_host_2'\u001b[0m, \u001b[32m'Remove restricted_zone_a_subnet_user_host_3'\u001b[0m, \u001b[32m'Remove \u001b[0m\n",
       "\u001b[32mrestricted_zone_a_subnet_user_host_4'\u001b[0m, \u001b[32m'Remove restricted_zone_a_subnet_user_host_5'\u001b[0m, \u001b[32m'\u001b[0m\u001b[32m[\u001b[0m\u001b[32mInvalid\u001b[0m\u001b[32m]\u001b[0m\u001b[32m Remove \u001b[0m\n",
       "\u001b[32mrestricted_zone_a_subnet_user_host_6'\u001b[0m, \u001b[32m'\u001b[0m\u001b[32m[\u001b[0m\u001b[32mInvalid\u001b[0m\u001b[32m]\u001b[0m\u001b[32m Remove restricted_zone_a_subnet_user_host_7'\u001b[0m, \u001b[32m'\u001b[0m\u001b[32m[\u001b[0m\u001b[32mInvalid\u001b[0m\u001b[32m]\u001b[0m\u001b[32m Remove \u001b[0m\n",
       "\u001b[32mrestricted_zone_a_subnet_user_host_8'\u001b[0m, \u001b[32m'\u001b[0m\u001b[32m[\u001b[0m\u001b[32mInvalid\u001b[0m\u001b[32m]\u001b[0m\u001b[32m Remove restricted_zone_a_subnet_user_host_9'\u001b[0m, \u001b[32m'Restore \u001b[0m\n",
       "\u001b[32mrestricted_zone_a_subnet_server_host_0'\u001b[0m, \u001b[32m'Restore restricted_zone_a_subnet_server_host_1'\u001b[0m, \u001b[32m'Restore \u001b[0m\n",
       "\u001b[32mrestricted_zone_a_subnet_server_host_2'\u001b[0m, \u001b[32m'\u001b[0m\u001b[32m[\u001b[0m\u001b[32mInvalid\u001b[0m\u001b[32m]\u001b[0m\u001b[32m Restore restricted_zone_a_subnet_server_host_3'\u001b[0m, \u001b[32m'\u001b[0m\u001b[32m[\u001b[0m\u001b[32mInvalid\u001b[0m\u001b[32m]\u001b[0m\u001b[32m \u001b[0m\n",
       "\u001b[32mRestore restricted_zone_a_subnet_server_host_4'\u001b[0m, \u001b[32m'\u001b[0m\u001b[32m[\u001b[0m\u001b[32mInvalid\u001b[0m\u001b[32m]\u001b[0m\u001b[32m Restore restricted_zone_a_subnet_server_host_5'\u001b[0m, \n",
       "\u001b[32m'Restore restricted_zone_a_subnet_user_host_0'\u001b[0m, \u001b[32m'Restore restricted_zone_a_subnet_user_host_1'\u001b[0m, \u001b[32m'Restore \u001b[0m\n",
       "\u001b[32mrestricted_zone_a_subnet_user_host_2'\u001b[0m, \u001b[32m'Restore restricted_zone_a_subnet_user_host_3'\u001b[0m, \u001b[32m'Restore \u001b[0m\n",
       "\u001b[32mrestricted_zone_a_subnet_user_host_4'\u001b[0m, \u001b[32m'Restore restricted_zone_a_subnet_user_host_5'\u001b[0m, \u001b[32m'\u001b[0m\u001b[32m[\u001b[0m\u001b[32mInvalid\u001b[0m\u001b[32m]\u001b[0m\u001b[32m Restore \u001b[0m\n",
       "\u001b[32mrestricted_zone_a_subnet_user_host_6'\u001b[0m, \u001b[32m'\u001b[0m\u001b[32m[\u001b[0m\u001b[32mInvalid\u001b[0m\u001b[32m]\u001b[0m\u001b[32m Restore restricted_zone_a_subnet_user_host_7'\u001b[0m, \u001b[32m'\u001b[0m\u001b[32m[\u001b[0m\u001b[32mInvalid\u001b[0m\u001b[32m]\u001b[0m\u001b[32m Restore\u001b[0m\n",
       "\u001b[32mrestricted_zone_a_subnet_user_host_8'\u001b[0m, \u001b[32m'\u001b[0m\u001b[32m[\u001b[0m\u001b[32mInvalid\u001b[0m\u001b[32m]\u001b[0m\u001b[32m Restore restricted_zone_a_subnet_user_host_9'\u001b[0m, \u001b[32m'Sleep'\u001b[0m, \n",
       "\u001b[32m'AllowTrafficZone restricted_zone_a_subnet \u001b[0m\u001b[32m(\u001b[0m\u001b[32m10.0.60.0/24\u001b[0m\u001b[32m)\u001b[0m\u001b[32m <- admin_network_subnet \u001b[0m\u001b[32m(\u001b[0m\u001b[32m10.0.8.0/24\u001b[0m\u001b[32m)\u001b[0m\u001b[32m'\u001b[0m, \u001b[32m'AllowTrafficZone\u001b[0m\n",
       "\u001b[32mrestricted_zone_a_subnet \u001b[0m\u001b[32m(\u001b[0m\u001b[32m10.0.60.0/24\u001b[0m\u001b[32m)\u001b[0m\u001b[32m <- contractor_network_subnet \u001b[0m\u001b[32m(\u001b[0m\u001b[32m10.0.213.0/24\u001b[0m\u001b[32m)\u001b[0m\u001b[32m'\u001b[0m, \u001b[32m'AllowTrafficZone \u001b[0m\n",
       "\u001b[32mrestricted_zone_a_subnet \u001b[0m\u001b[32m(\u001b[0m\u001b[32m10.0.60.0/24\u001b[0m\u001b[32m)\u001b[0m\u001b[32m <- internet_subnet \u001b[0m\u001b[32m(\u001b[0m\u001b[32m10.0.117.0/24\u001b[0m\u001b[32m)\u001b[0m\u001b[32m'\u001b[0m, \u001b[32m'AllowTrafficZone \u001b[0m\n",
       "\u001b[32mrestricted_zone_a_subnet \u001b[0m\u001b[32m(\u001b[0m\u001b[32m10.0.60.0/24\u001b[0m\u001b[32m)\u001b[0m\u001b[32m <- office_network_subnet \u001b[0m\u001b[32m(\u001b[0m\u001b[32m10.0.150.0/24\u001b[0m\u001b[32m)\u001b[0m\u001b[32m'\u001b[0m, \u001b[32m'AllowTrafficZone \u001b[0m\n",
       "\u001b[32mrestricted_zone_a_subnet \u001b[0m\u001b[32m(\u001b[0m\u001b[32m10.0.60.0/24\u001b[0m\u001b[32m)\u001b[0m\u001b[32m <- operational_zone_a_subnet \u001b[0m\u001b[32m(\u001b[0m\u001b[32m10.0.166.0/24\u001b[0m\u001b[32m)\u001b[0m\u001b[32m'\u001b[0m, \u001b[32m'AllowTrafficZone \u001b[0m\n",
       "\u001b[32mrestricted_zone_a_subnet \u001b[0m\u001b[32m(\u001b[0m\u001b[32m10.0.60.0/24\u001b[0m\u001b[32m)\u001b[0m\u001b[32m <- operational_zone_b_subnet \u001b[0m\u001b[32m(\u001b[0m\u001b[32m10.0.178.0/24\u001b[0m\u001b[32m)\u001b[0m\u001b[32m'\u001b[0m, \u001b[32m'AllowTrafficZone \u001b[0m\n",
       "\u001b[32mrestricted_zone_a_subnet \u001b[0m\u001b[32m(\u001b[0m\u001b[32m10.0.60.0/24\u001b[0m\u001b[32m)\u001b[0m\u001b[32m <- public_access_zone_subnet \u001b[0m\u001b[32m(\u001b[0m\u001b[32m10.0.220.0/24\u001b[0m\u001b[32m)\u001b[0m\u001b[32m'\u001b[0m, \u001b[32m'AllowTrafficZone \u001b[0m\n",
       "\u001b[32mrestricted_zone_a_subnet \u001b[0m\u001b[32m(\u001b[0m\u001b[32m10.0.60.0/24\u001b[0m\u001b[32m)\u001b[0m\u001b[32m <- restricted_zone_b_subnet \u001b[0m\u001b[32m(\u001b[0m\u001b[32m10.0.90.0/24\u001b[0m\u001b[32m)\u001b[0m\u001b[32m'\u001b[0m, \u001b[32m'BlockTrafficZone \u001b[0m\n",
       "\u001b[32mrestricted_zone_a_subnet \u001b[0m\u001b[32m(\u001b[0m\u001b[32m10.0.60.0/24\u001b[0m\u001b[32m)\u001b[0m\u001b[32m <- admin_network_subnet \u001b[0m\u001b[32m(\u001b[0m\u001b[32m10.0.8.0/24\u001b[0m\u001b[32m)\u001b[0m\u001b[32m'\u001b[0m, \u001b[32m'BlockTrafficZone \u001b[0m\n",
       "\u001b[32mrestricted_zone_a_subnet \u001b[0m\u001b[32m(\u001b[0m\u001b[32m10.0.60.0/24\u001b[0m\u001b[32m)\u001b[0m\u001b[32m <- contractor_network_subnet \u001b[0m\u001b[32m(\u001b[0m\u001b[32m10.0.213.0/24\u001b[0m\u001b[32m)\u001b[0m\u001b[32m'\u001b[0m, \u001b[32m'BlockTrafficZone \u001b[0m\n",
       "\u001b[32mrestricted_zone_a_subnet \u001b[0m\u001b[32m(\u001b[0m\u001b[32m10.0.60.0/24\u001b[0m\u001b[32m)\u001b[0m\u001b[32m <- internet_subnet \u001b[0m\u001b[32m(\u001b[0m\u001b[32m10.0.117.0/24\u001b[0m\u001b[32m)\u001b[0m\u001b[32m'\u001b[0m, \u001b[32m'BlockTrafficZone \u001b[0m\n",
       "\u001b[32mrestricted_zone_a_subnet \u001b[0m\u001b[32m(\u001b[0m\u001b[32m10.0.60.0/24\u001b[0m\u001b[32m)\u001b[0m\u001b[32m <- office_network_subnet \u001b[0m\u001b[32m(\u001b[0m\u001b[32m10.0.150.0/24\u001b[0m\u001b[32m)\u001b[0m\u001b[32m'\u001b[0m, \u001b[32m'BlockTrafficZone \u001b[0m\n",
       "\u001b[32mrestricted_zone_a_subnet \u001b[0m\u001b[32m(\u001b[0m\u001b[32m10.0.60.0/24\u001b[0m\u001b[32m)\u001b[0m\u001b[32m <- operational_zone_a_subnet \u001b[0m\u001b[32m(\u001b[0m\u001b[32m10.0.166.0/24\u001b[0m\u001b[32m)\u001b[0m\u001b[32m'\u001b[0m, \u001b[32m'BlockTrafficZone \u001b[0m\n",
       "\u001b[32mrestricted_zone_a_subnet \u001b[0m\u001b[32m(\u001b[0m\u001b[32m10.0.60.0/24\u001b[0m\u001b[32m)\u001b[0m\u001b[32m <- operational_zone_b_subnet \u001b[0m\u001b[32m(\u001b[0m\u001b[32m10.0.178.0/24\u001b[0m\u001b[32m)\u001b[0m\u001b[32m'\u001b[0m, \u001b[32m'BlockTrafficZone \u001b[0m\n",
       "\u001b[32mrestricted_zone_a_subnet \u001b[0m\u001b[32m(\u001b[0m\u001b[32m10.0.60.0/24\u001b[0m\u001b[32m)\u001b[0m\u001b[32m <- public_access_zone_subnet \u001b[0m\u001b[32m(\u001b[0m\u001b[32m10.0.220.0/24\u001b[0m\u001b[32m)\u001b[0m\u001b[32m'\u001b[0m, \u001b[32m'BlockTrafficZone \u001b[0m\n",
       "\u001b[32mrestricted_zone_a_subnet \u001b[0m\u001b[32m(\u001b[0m\u001b[32m10.0.60.0/24\u001b[0m\u001b[32m)\u001b[0m\u001b[32m <- restricted_zone_b_subnet \u001b[0m\u001b[32m(\u001b[0m\u001b[32m10.0.90.0/24\u001b[0m\u001b[32m)\u001b[0m\u001b[32m'\u001b[0m, \u001b[32m'DeployDecoy \u001b[0m\n",
       "\u001b[32mrestricted_zone_a_subnet_server_host_0'\u001b[0m, \u001b[32m'DeployDecoy restricted_zone_a_subnet_server_host_1'\u001b[0m, \u001b[32m'DeployDecoy \u001b[0m\n",
       "\u001b[32mrestricted_zone_a_subnet_server_host_2'\u001b[0m, \u001b[32m'\u001b[0m\u001b[32m[\u001b[0m\u001b[32mInvalid\u001b[0m\u001b[32m]\u001b[0m\u001b[32m DeployDecoy restricted_zone_a_subnet_server_host_3'\u001b[0m, \u001b[32m'\u001b[0m\u001b[32m[\u001b[0m\u001b[32mInvalid\u001b[0m\u001b[32m]\u001b[0m\n",
       "\u001b[32mDeployDecoy restricted_zone_a_subnet_server_host_4'\u001b[0m, \u001b[32m'\u001b[0m\u001b[32m[\u001b[0m\u001b[32mInvalid\u001b[0m\u001b[32m]\u001b[0m\u001b[32m DeployDecoy \u001b[0m\n",
       "\u001b[32mrestricted_zone_a_subnet_server_host_5'\u001b[0m, \u001b[32m'DeployDecoy restricted_zone_a_subnet_user_host_0'\u001b[0m, \u001b[32m'DeployDecoy \u001b[0m\n",
       "\u001b[32mrestricted_zone_a_subnet_user_host_1'\u001b[0m, \u001b[32m'DeployDecoy restricted_zone_a_subnet_user_host_2'\u001b[0m, \u001b[32m'DeployDecoy \u001b[0m\n",
       "\u001b[32mrestricted_zone_a_subnet_user_host_3'\u001b[0m, \u001b[32m'DeployDecoy restricted_zone_a_subnet_user_host_4'\u001b[0m, \u001b[32m'DeployDecoy \u001b[0m\n",
       "\u001b[32mrestricted_zone_a_subnet_user_host_5'\u001b[0m, \u001b[32m'\u001b[0m\u001b[32m[\u001b[0m\u001b[32mInvalid\u001b[0m\u001b[32m]\u001b[0m\u001b[32m DeployDecoy restricted_zone_a_subnet_user_host_6'\u001b[0m, \u001b[32m'\u001b[0m\u001b[32m[\u001b[0m\u001b[32mInvalid\u001b[0m\u001b[32m]\u001b[0m\u001b[32m \u001b[0m\n",
       "\u001b[32mDeployDecoy restricted_zone_a_subnet_user_host_7'\u001b[0m, \u001b[32m'\u001b[0m\u001b[32m[\u001b[0m\u001b[32mInvalid\u001b[0m\u001b[32m]\u001b[0m\u001b[32m DeployDecoy restricted_zone_a_subnet_user_host_8'\u001b[0m, \n",
       "\u001b[32m'\u001b[0m\u001b[32m[\u001b[0m\u001b[32mInvalid\u001b[0m\u001b[32m]\u001b[0m\u001b[32m DeployDecoy restricted_zone_a_subnet_user_host_9'\u001b[0m\u001b[1m]\u001b[0m\n"
      ]
     },
     "metadata": {},
     "output_type": "display_data"
    }
   ],
   "source": [
    "from CybORG.Agents.Wrappers import BlueFixedActionWrapper\n",
    "\n",
    "env = BlueFixedActionWrapper(env=cyborg)\n",
    "obs, _ = env.reset()\n",
    "\n",
    "# optional pretty-printing\n",
    "from rich import print\n",
    "\n",
    "print(\"{} Blue agents: {}\".format(len(obs.keys()),obs.keys()))\n",
    "# for k in obs.keys():\n",
    "#   print('{}'.format(k)) \n",
    "#   print(obs[k])\n",
    "#   # print(env.action_space(k))\n",
    "#   print(env.action_labels(k))\n",
    "\n",
    "aBlueAgent = next(iter(obs))\n",
    "print(\"Pertaining to: {}\".format(aBlueAgent))\n",
    "print(\"{} observations types: \\n{}\".format(len(obs[aBlueAgent].keys()),obs[aBlueAgent].keys()))\n",
    "print(\"{} action labels: \\n{}\".format(env.action_space(aBlueAgent), env.action_labels(aBlueAgent)))\n",
    "\n"
   ]
  },
  {
   "cell_type": "code",
   "execution_count": 10,
   "metadata": {},
   "outputs": [
    {
     "data": {
      "text/html": [
       "<pre style=\"white-space:pre;overflow-x:auto;line-height:normal;font-family:Menlo,'DejaVu Sans Mono',consolas,'Courier New',monospace\">blue_agent_0 action <span style=\"color: #008080; text-decoration-color: #008080; font-weight: bold\">42</span>: Restore restricted_zone_a_subnet_user_host_3\n",
       "</pre>\n"
      ],
      "text/plain": [
       "blue_agent_0 action \u001b[1;36m42\u001b[0m: Restore restricted_zone_a_subnet_user_host_3\n"
      ]
     },
     "metadata": {},
     "output_type": "display_data"
    },
    {
     "data": {
      "text/html": [
       "<pre style=\"white-space:pre;overflow-x:auto;line-height:normal;font-family:Menlo,'DejaVu Sans Mono',consolas,'Courier New',monospace\">blue_agent_0 reward: <span style=\"color: #008080; text-decoration-color: #008080; font-weight: bold\">-1</span>\n",
       "</pre>\n"
      ],
      "text/plain": [
       "blue_agent_0 reward: \u001b[1;36m-1\u001b[0m\n"
      ]
     },
     "metadata": {},
     "output_type": "display_data"
    }
   ],
   "source": [
    "action_index = 42\n",
    "actions = {aBlueAgent: action_index} # 'Restore restricted_zone_a_subnet_user_host_3'\n",
    "obs, reward, terminated, truncated, info = env.step(actions)\n",
    "print(\"{} action {}: {}\".format(aBlueAgent,action_index, env.action_labels(aBlueAgent)[action_index]))\n",
    "print(\"{} reward: {}\".format(aBlueAgent, reward[aBlueAgent]))\n",
    "# env.action_labels(aBlueAgent)[action_index]"
   ]
  },
  {
   "cell_type": "code",
   "execution_count": 11,
   "metadata": {},
   "outputs": [
    {
     "data": {
      "text/html": [
       "<pre style=\"white-space:pre;overflow-x:auto;line-height:normal;font-family:Menlo,'DejaVu Sans Mono',consolas,'Courier New',monospace\"><span style=\"font-weight: bold\">{</span>\n",
       "    <span style=\"color: #008000; text-decoration-color: #008000\">'success'</span>: <span style=\"font-weight: bold\">&lt;</span><span style=\"color: #ff00ff; text-decoration-color: #ff00ff; font-weight: bold\">TernaryEnum.IN_PROGRESS:</span><span style=\"color: #000000; text-decoration-color: #000000\"> </span><span style=\"color: #008080; text-decoration-color: #008080; font-weight: bold\">4</span><span style=\"font-weight: bold\">&gt;</span>,\n",
       "    <span style=\"color: #008000; text-decoration-color: #008000\">'message'</span>: <span style=\"font-weight: bold\">[</span>\n",
       "        <span style=\"color: #800080; text-decoration-color: #800080; font-weight: bold\">array</span><span style=\"font-weight: bold\">([</span><span style=\"color: #ff0000; text-decoration-color: #ff0000; font-style: italic\">False</span>, <span style=\"color: #ff0000; text-decoration-color: #ff0000; font-style: italic\">False</span>, <span style=\"color: #ff0000; text-decoration-color: #ff0000; font-style: italic\">False</span>, <span style=\"color: #ff0000; text-decoration-color: #ff0000; font-style: italic\">False</span>, <span style=\"color: #ff0000; text-decoration-color: #ff0000; font-style: italic\">False</span>, <span style=\"color: #ff0000; text-decoration-color: #ff0000; font-style: italic\">False</span>, <span style=\"color: #ff0000; text-decoration-color: #ff0000; font-style: italic\">False</span>, <span style=\"color: #ff0000; text-decoration-color: #ff0000; font-style: italic\">False</span><span style=\"font-weight: bold\">])</span>,\n",
       "        <span style=\"color: #800080; text-decoration-color: #800080; font-weight: bold\">array</span><span style=\"font-weight: bold\">([</span><span style=\"color: #ff0000; text-decoration-color: #ff0000; font-style: italic\">False</span>, <span style=\"color: #ff0000; text-decoration-color: #ff0000; font-style: italic\">False</span>, <span style=\"color: #ff0000; text-decoration-color: #ff0000; font-style: italic\">False</span>, <span style=\"color: #ff0000; text-decoration-color: #ff0000; font-style: italic\">False</span>, <span style=\"color: #ff0000; text-decoration-color: #ff0000; font-style: italic\">False</span>, <span style=\"color: #ff0000; text-decoration-color: #ff0000; font-style: italic\">False</span>, <span style=\"color: #ff0000; text-decoration-color: #ff0000; font-style: italic\">False</span>, <span style=\"color: #ff0000; text-decoration-color: #ff0000; font-style: italic\">False</span><span style=\"font-weight: bold\">])</span>,\n",
       "        <span style=\"color: #800080; text-decoration-color: #800080; font-weight: bold\">array</span><span style=\"font-weight: bold\">([</span> <span style=\"color: #00ff00; text-decoration-color: #00ff00; font-style: italic\">True</span>, <span style=\"color: #ff0000; text-decoration-color: #ff0000; font-style: italic\">False</span>, <span style=\"color: #ff0000; text-decoration-color: #ff0000; font-style: italic\">False</span>, <span style=\"color: #ff0000; text-decoration-color: #ff0000; font-style: italic\">False</span>, <span style=\"color: #ff0000; text-decoration-color: #ff0000; font-style: italic\">False</span>, <span style=\"color: #ff0000; text-decoration-color: #ff0000; font-style: italic\">False</span>, <span style=\"color: #ff0000; text-decoration-color: #ff0000; font-style: italic\">False</span>, <span style=\"color: #ff0000; text-decoration-color: #ff0000; font-style: italic\">False</span><span style=\"font-weight: bold\">])</span>,\n",
       "        <span style=\"color: #800080; text-decoration-color: #800080; font-weight: bold\">array</span><span style=\"font-weight: bold\">([</span><span style=\"color: #ff0000; text-decoration-color: #ff0000; font-style: italic\">False</span>, <span style=\"color: #ff0000; text-decoration-color: #ff0000; font-style: italic\">False</span>, <span style=\"color: #ff0000; text-decoration-color: #ff0000; font-style: italic\">False</span>, <span style=\"color: #ff0000; text-decoration-color: #ff0000; font-style: italic\">False</span>, <span style=\"color: #ff0000; text-decoration-color: #ff0000; font-style: italic\">False</span>, <span style=\"color: #ff0000; text-decoration-color: #ff0000; font-style: italic\">False</span>, <span style=\"color: #ff0000; text-decoration-color: #ff0000; font-style: italic\">False</span>, <span style=\"color: #ff0000; text-decoration-color: #ff0000; font-style: italic\">False</span><span style=\"font-weight: bold\">])</span>\n",
       "    <span style=\"font-weight: bold\">]</span>\n",
       "<span style=\"font-weight: bold\">}</span>\n",
       "</pre>\n"
      ],
      "text/plain": [
       "\u001b[1m{\u001b[0m\n",
       "    \u001b[32m'success'\u001b[0m: \u001b[1m<\u001b[0m\u001b[1;95mTernaryEnum.IN_PROGRESS:\u001b[0m\u001b[39m \u001b[0m\u001b[1;36m4\u001b[0m\u001b[1m>\u001b[0m,\n",
       "    \u001b[32m'message'\u001b[0m: \u001b[1m[\u001b[0m\n",
       "        \u001b[1;35marray\u001b[0m\u001b[1m(\u001b[0m\u001b[1m[\u001b[0m\u001b[3;91mFalse\u001b[0m, \u001b[3;91mFalse\u001b[0m, \u001b[3;91mFalse\u001b[0m, \u001b[3;91mFalse\u001b[0m, \u001b[3;91mFalse\u001b[0m, \u001b[3;91mFalse\u001b[0m, \u001b[3;91mFalse\u001b[0m, \u001b[3;91mFalse\u001b[0m\u001b[1m]\u001b[0m\u001b[1m)\u001b[0m,\n",
       "        \u001b[1;35marray\u001b[0m\u001b[1m(\u001b[0m\u001b[1m[\u001b[0m\u001b[3;91mFalse\u001b[0m, \u001b[3;91mFalse\u001b[0m, \u001b[3;91mFalse\u001b[0m, \u001b[3;91mFalse\u001b[0m, \u001b[3;91mFalse\u001b[0m, \u001b[3;91mFalse\u001b[0m, \u001b[3;91mFalse\u001b[0m, \u001b[3;91mFalse\u001b[0m\u001b[1m]\u001b[0m\u001b[1m)\u001b[0m,\n",
       "        \u001b[1;35marray\u001b[0m\u001b[1m(\u001b[0m\u001b[1m[\u001b[0m \u001b[3;92mTrue\u001b[0m, \u001b[3;91mFalse\u001b[0m, \u001b[3;91mFalse\u001b[0m, \u001b[3;91mFalse\u001b[0m, \u001b[3;91mFalse\u001b[0m, \u001b[3;91mFalse\u001b[0m, \u001b[3;91mFalse\u001b[0m, \u001b[3;91mFalse\u001b[0m\u001b[1m]\u001b[0m\u001b[1m)\u001b[0m,\n",
       "        \u001b[1;35marray\u001b[0m\u001b[1m(\u001b[0m\u001b[1m[\u001b[0m\u001b[3;91mFalse\u001b[0m, \u001b[3;91mFalse\u001b[0m, \u001b[3;91mFalse\u001b[0m, \u001b[3;91mFalse\u001b[0m, \u001b[3;91mFalse\u001b[0m, \u001b[3;91mFalse\u001b[0m, \u001b[3;91mFalse\u001b[0m, \u001b[3;91mFalse\u001b[0m\u001b[1m]\u001b[0m\u001b[1m)\u001b[0m\n",
       "    \u001b[1m]\u001b[0m\n",
       "\u001b[1m}\u001b[0m\n"
      ]
     },
     "metadata": {},
     "output_type": "display_data"
    }
   ],
   "source": [
    "import numpy as np\n",
    "messages = {'blue_agent_0': np.array([1, 1, 0, 0, 0, 0, 0, 0]), \n",
    "            # 'blue_agent_1': np.array([1, 0, 0, 0, 0, 0, 0, 0]),\n",
    "            # 'blue_agent_2': np.array([1, 0, 0, 0, 0, 0, 0, 0]),\n",
    "            'blue_agent_3': np.array([1, 0, 0, 0, 0, 0, 0, 0])}\n",
    "obs, reward, terminated, truncated, info = env.step(actions, messages=messages)\n",
    "print(obs['blue_agent_0'])\n"
   ]
  },
  {
   "cell_type": "code",
   "execution_count": 12,
   "metadata": {},
   "outputs": [
    {
     "data": {
      "text/html": [
       "<pre style=\"white-space:pre;overflow-x:auto;line-height:normal;font-family:Menlo,'DejaVu Sans Mono',consolas,'Courier New',monospace\">\n",
       "Blue Agent <span style=\"color: #008080; text-decoration-color: #008080; font-weight: bold\">0</span>: Initial Observation\n",
       "</pre>\n"
      ],
      "text/plain": [
       "\n",
       "Blue Agent \u001b[1;36m0\u001b[0m: Initial Observation\n"
      ]
     },
     "metadata": {},
     "output_type": "display_data"
    },
    {
     "data": {
      "text/html": [
       "<pre style=\"white-space:pre;overflow-x:auto;line-height:normal;font-family:Menlo,'DejaVu Sans Mono',consolas,'Courier New',monospace\">\n",
       "Keys Only: \n",
       "\n",
       "</pre>\n"
      ],
      "text/plain": [
       "\n",
       "Keys Only: \n",
       "\n"
      ]
     },
     "metadata": {},
     "output_type": "display_data"
    },
    {
     "data": {
      "text/html": [
       "<pre style=\"white-space:pre;overflow-x:auto;line-height:normal;font-family:Menlo,'DejaVu Sans Mono',consolas,'Courier New',monospace\"><span style=\"color: #800080; text-decoration-color: #800080; font-weight: bold\">dict_keys</span><span style=\"font-weight: bold\">([</span><span style=\"color: #008000; text-decoration-color: #008000\">'success'</span>, <span style=\"color: #008000; text-decoration-color: #008000\">'restricted_zone_a_subnet_router'</span>, <span style=\"color: #008000; text-decoration-color: #008000\">'restricted_zone_a_subnet_user_host_0'</span>, \n",
       "<span style=\"color: #008000; text-decoration-color: #008000\">'restricted_zone_a_subnet_user_host_1'</span>, <span style=\"color: #008000; text-decoration-color: #008000\">'restricted_zone_a_subnet_user_host_2'</span>, \n",
       "<span style=\"color: #008000; text-decoration-color: #008000\">'restricted_zone_a_subnet_user_host_3'</span>, <span style=\"color: #008000; text-decoration-color: #008000\">'restricted_zone_a_subnet_user_host_4'</span>, \n",
       "<span style=\"color: #008000; text-decoration-color: #008000\">'restricted_zone_a_subnet_user_host_5'</span>, <span style=\"color: #008000; text-decoration-color: #008000\">'restricted_zone_a_subnet_user_host_6'</span>, \n",
       "<span style=\"color: #008000; text-decoration-color: #008000\">'restricted_zone_a_subnet_user_host_7'</span>, <span style=\"color: #008000; text-decoration-color: #008000\">'restricted_zone_a_subnet_user_host_8'</span>, \n",
       "<span style=\"color: #008000; text-decoration-color: #008000\">'restricted_zone_a_subnet_server_host_0'</span><span style=\"font-weight: bold\">])</span>\n",
       "</pre>\n"
      ],
      "text/plain": [
       "\u001b[1;35mdict_keys\u001b[0m\u001b[1m(\u001b[0m\u001b[1m[\u001b[0m\u001b[32m'success'\u001b[0m, \u001b[32m'restricted_zone_a_subnet_router'\u001b[0m, \u001b[32m'restricted_zone_a_subnet_user_host_0'\u001b[0m, \n",
       "\u001b[32m'restricted_zone_a_subnet_user_host_1'\u001b[0m, \u001b[32m'restricted_zone_a_subnet_user_host_2'\u001b[0m, \n",
       "\u001b[32m'restricted_zone_a_subnet_user_host_3'\u001b[0m, \u001b[32m'restricted_zone_a_subnet_user_host_4'\u001b[0m, \n",
       "\u001b[32m'restricted_zone_a_subnet_user_host_5'\u001b[0m, \u001b[32m'restricted_zone_a_subnet_user_host_6'\u001b[0m, \n",
       "\u001b[32m'restricted_zone_a_subnet_user_host_7'\u001b[0m, \u001b[32m'restricted_zone_a_subnet_user_host_8'\u001b[0m, \n",
       "\u001b[32m'restricted_zone_a_subnet_server_host_0'\u001b[0m\u001b[1m]\u001b[0m\u001b[1m)\u001b[0m\n"
      ]
     },
     "metadata": {},
     "output_type": "display_data"
    }
   ],
   "source": [
    "reset = cyborg.reset(agent=aBlueAgent)\n",
    "initial_obs = reset.observation\n",
    "\n",
    "print(\"\\nBlue Agent 0: Initial Observation\")\n",
    "print(\"\\nKeys Only: \\n\")\n",
    "print(initial_obs.keys())"
   ]
  },
  {
   "cell_type": "code",
   "execution_count": 13,
   "metadata": {},
   "outputs": [
    {
     "data": {
      "text/html": [
       "<pre style=\"white-space:pre;overflow-x:auto;line-height:normal;font-family:Menlo,'DejaVu Sans Mono',consolas,'Courier New',monospace\">\n",
       "Single Host: restricted_zone_a_subnet_user_host_0\n",
       "</pre>\n"
      ],
      "text/plain": [
       "\n",
       "Single Host: restricted_zone_a_subnet_user_host_0\n"
      ]
     },
     "metadata": {},
     "output_type": "display_data"
    },
    {
     "data": {
      "text/html": [
       "<pre style=\"white-space:pre;overflow-x:auto;line-height:normal;font-family:Menlo,'DejaVu Sans Mono',consolas,'Courier New',monospace\"><span style=\"font-weight: bold\">{</span>\n",
       "    <span style=\"color: #008000; text-decoration-color: #008000\">'Interface'</span>: <span style=\"font-weight: bold\">[</span>\n",
       "        <span style=\"font-weight: bold\">{</span>\n",
       "            <span style=\"color: #008000; text-decoration-color: #008000\">'interface_name'</span>: <span style=\"color: #008000; text-decoration-color: #008000\">'eth0'</span>,\n",
       "            <span style=\"color: #008000; text-decoration-color: #008000\">'ip_address'</span>: <span style=\"color: #800080; text-decoration-color: #800080; font-weight: bold\">IPv4Address</span><span style=\"font-weight: bold\">(</span><span style=\"color: #008000; text-decoration-color: #008000\">'10.0.216.184'</span><span style=\"font-weight: bold\">)</span>,\n",
       "            <span style=\"color: #008000; text-decoration-color: #008000\">'Subnet'</span>: <span style=\"color: #800080; text-decoration-color: #800080; font-weight: bold\">IPv4Network</span><span style=\"font-weight: bold\">(</span><span style=\"color: #008000; text-decoration-color: #008000\">'10.0.216.0/24'</span><span style=\"font-weight: bold\">)</span>\n",
       "        <span style=\"font-weight: bold\">}</span>\n",
       "    <span style=\"font-weight: bold\">]</span>,\n",
       "    <span style=\"color: #008000; text-decoration-color: #008000\">'Sessions'</span>: <span style=\"font-weight: bold\">[</span>\n",
       "        <span style=\"font-weight: bold\">{</span>\n",
       "            <span style=\"color: #008000; text-decoration-color: #008000\">'session_id'</span>: <span style=\"color: #008080; text-decoration-color: #008080; font-weight: bold\">0</span>,\n",
       "            <span style=\"color: #008000; text-decoration-color: #008000\">'username'</span>: <span style=\"color: #008000; text-decoration-color: #008000\">'ubuntu'</span>,\n",
       "            <span style=\"color: #008000; text-decoration-color: #008000\">'timeout'</span>: <span style=\"color: #008080; text-decoration-color: #008080; font-weight: bold\">0</span>,\n",
       "            <span style=\"color: #008000; text-decoration-color: #008000\">'PID'</span>: <span style=\"color: #008080; text-decoration-color: #008080; font-weight: bold\">6949</span>,\n",
       "            <span style=\"color: #008000; text-decoration-color: #008000\">'Type'</span>: <span style=\"font-weight: bold\">&lt;</span><span style=\"color: #ff00ff; text-decoration-color: #ff00ff; font-weight: bold\">SessionType.VELOCIRAPTOR_SERVER:</span><span style=\"color: #000000; text-decoration-color: #000000\"> </span><span style=\"color: #008080; text-decoration-color: #008080; font-weight: bold\">8</span><span style=\"color: #000000; text-decoration-color: #000000\">&gt;,</span>\n",
       "<span style=\"color: #000000; text-decoration-color: #000000\">            </span><span style=\"color: #008000; text-decoration-color: #008000\">'agent'</span><span style=\"color: #000000; text-decoration-color: #000000\">: </span><span style=\"color: #008000; text-decoration-color: #008000\">'blue_agent_0'</span>\n",
       "<span style=\"color: #000000; text-decoration-color: #000000\">        </span><span style=\"color: #000000; text-decoration-color: #000000; font-weight: bold\">}</span>\n",
       "<span style=\"color: #000000; text-decoration-color: #000000\">    </span><span style=\"color: #000000; text-decoration-color: #000000; font-weight: bold\">]</span><span style=\"color: #000000; text-decoration-color: #000000\">,</span>\n",
       "<span style=\"color: #000000; text-decoration-color: #000000\">    </span><span style=\"color: #008000; text-decoration-color: #008000\">'Processes'</span><span style=\"color: #000000; text-decoration-color: #000000\">: </span><span style=\"color: #000000; text-decoration-color: #000000; font-weight: bold\">[{</span><span style=\"color: #008000; text-decoration-color: #008000\">'PID'</span><span style=\"color: #000000; text-decoration-color: #000000\">: </span><span style=\"color: #008080; text-decoration-color: #008080; font-weight: bold\">6949</span><span style=\"color: #000000; text-decoration-color: #000000\">, </span><span style=\"color: #008000; text-decoration-color: #008000\">'username'</span><span style=\"color: #000000; text-decoration-color: #000000\">: </span><span style=\"color: #008000; text-decoration-color: #008000\">'ubuntu'</span><span style=\"color: #000000; text-decoration-color: #000000; font-weight: bold\">}]</span><span style=\"color: #000000; text-decoration-color: #000000\">,</span>\n",
       "<span style=\"color: #000000; text-decoration-color: #000000\">    </span><span style=\"color: #008000; text-decoration-color: #008000\">'User Info'</span><span style=\"color: #000000; text-decoration-color: #000000\">: </span><span style=\"color: #000000; text-decoration-color: #000000; font-weight: bold\">[{</span><span style=\"color: #008000; text-decoration-color: #008000\">'username'</span><span style=\"color: #000000; text-decoration-color: #000000\">: </span><span style=\"color: #008000; text-decoration-color: #008000\">'root'</span><span style=\"color: #000000; text-decoration-color: #000000\">, </span><span style=\"color: #008000; text-decoration-color: #008000\">'Groups'</span><span style=\"color: #000000; text-decoration-color: #000000\">: </span><span style=\"color: #000000; text-decoration-color: #000000; font-weight: bold\">[{</span><span style=\"color: #008000; text-decoration-color: #008000\">'GID'</span><span style=\"color: #000000; text-decoration-color: #000000\">: </span><span style=\"color: #008080; text-decoration-color: #008080; font-weight: bold\">0</span><span style=\"color: #000000; text-decoration-color: #000000; font-weight: bold\">}]}</span><span style=\"color: #000000; text-decoration-color: #000000\">, </span><span style=\"color: #000000; text-decoration-color: #000000; font-weight: bold\">{</span><span style=\"color: #008000; text-decoration-color: #008000\">'username'</span><span style=\"color: #000000; text-decoration-color: #000000\">: </span><span style=\"color: #008000; text-decoration-color: #008000\">'user'</span><span style=\"color: #000000; text-decoration-color: #000000\">, </span><span style=\"color: #008000; text-decoration-color: #008000\">'Groups'</span><span style=\"color: #000000; text-decoration-color: #000000\">: </span><span style=\"color: #000000; text-decoration-color: #000000; font-weight: bold\">[{</span><span style=\"color: #008000; text-decoration-color: #008000\">'GID'</span><span style=\"color: #000000; text-decoration-color: #000000\">: </span><span style=\"color: #008080; text-decoration-color: #008080; font-weight: bold\">1</span><span style=\"color: #000000; text-decoration-color: #000000; font-weight: bold\">}]}]</span><span style=\"color: #000000; text-decoration-color: #000000\">,</span>\n",
       "<span style=\"color: #000000; text-decoration-color: #000000\">    </span><span style=\"color: #008000; text-decoration-color: #008000\">'System info'</span><span style=\"color: #000000; text-decoration-color: #000000\">: </span><span style=\"color: #000000; text-decoration-color: #000000; font-weight: bold\">{</span>\n",
       "<span style=\"color: #000000; text-decoration-color: #000000\">        </span><span style=\"color: #008000; text-decoration-color: #008000\">'Hostname'</span><span style=\"color: #000000; text-decoration-color: #000000\">: </span><span style=\"color: #008000; text-decoration-color: #008000\">'restricted_zone_a_subnet_user_host_0'</span><span style=\"color: #000000; text-decoration-color: #000000\">,</span>\n",
       "<span style=\"color: #000000; text-decoration-color: #000000\">        </span><span style=\"color: #008000; text-decoration-color: #008000\">'OSType'</span><span style=\"color: #000000; text-decoration-color: #000000\">: &lt;OperatingSystemType.LINUX: </span><span style=\"color: #008080; text-decoration-color: #008080; font-weight: bold\">3</span><span style=\"color: #000000; text-decoration-color: #000000\">&gt;,</span>\n",
       "<span style=\"color: #000000; text-decoration-color: #000000\">        </span><span style=\"color: #008000; text-decoration-color: #008000\">'OSDistribution'</span><span style=\"color: #000000; text-decoration-color: #000000\">: &lt;OperatingSystemDistribution.KALI: </span><span style=\"color: #008080; text-decoration-color: #008080; font-weight: bold\">9</span><span style=\"color: #000000; text-decoration-color: #000000\">&gt;,</span>\n",
       "<span style=\"color: #000000; text-decoration-color: #000000\">        </span><span style=\"color: #008000; text-decoration-color: #008000\">'OSVersion'</span><span style=\"color: #000000; text-decoration-color: #000000\">: &lt;OperatingSystemVersion.K2019_4: </span><span style=\"color: #008080; text-decoration-color: #008080; font-weight: bold\">11</span><span style=\"color: #000000; text-decoration-color: #000000\">&gt;,</span>\n",
       "<span style=\"color: #000000; text-decoration-color: #000000\">        </span><span style=\"color: #008000; text-decoration-color: #008000\">'Architecture'</span><span style=\"color: #000000; text-decoration-color: #000000\">: &lt;Architecture.x64: </span><span style=\"color: #008080; text-decoration-color: #008080; font-weight: bold\">2</span><span style=\"font-weight: bold\">&gt;</span>,\n",
       "        <span style=\"color: #008000; text-decoration-color: #008000\">'position'</span>: <span style=\"color: #800080; text-decoration-color: #800080; font-weight: bold\">array</span><span style=\"font-weight: bold\">([</span><span style=\"color: #008080; text-decoration-color: #008080; font-weight: bold\">0</span>., <span style=\"color: #008080; text-decoration-color: #008080; font-weight: bold\">0</span>.<span style=\"font-weight: bold\">])</span>\n",
       "    <span style=\"font-weight: bold\">}</span>\n",
       "<span style=\"font-weight: bold\">}</span>\n",
       "</pre>\n"
      ],
      "text/plain": [
       "\u001b[1m{\u001b[0m\n",
       "    \u001b[32m'Interface'\u001b[0m: \u001b[1m[\u001b[0m\n",
       "        \u001b[1m{\u001b[0m\n",
       "            \u001b[32m'interface_name'\u001b[0m: \u001b[32m'eth0'\u001b[0m,\n",
       "            \u001b[32m'ip_address'\u001b[0m: \u001b[1;35mIPv4Address\u001b[0m\u001b[1m(\u001b[0m\u001b[32m'10.0.216.184'\u001b[0m\u001b[1m)\u001b[0m,\n",
       "            \u001b[32m'Subnet'\u001b[0m: \u001b[1;35mIPv4Network\u001b[0m\u001b[1m(\u001b[0m\u001b[32m'10.0.216.0/24'\u001b[0m\u001b[1m)\u001b[0m\n",
       "        \u001b[1m}\u001b[0m\n",
       "    \u001b[1m]\u001b[0m,\n",
       "    \u001b[32m'Sessions'\u001b[0m: \u001b[1m[\u001b[0m\n",
       "        \u001b[1m{\u001b[0m\n",
       "            \u001b[32m'session_id'\u001b[0m: \u001b[1;36m0\u001b[0m,\n",
       "            \u001b[32m'username'\u001b[0m: \u001b[32m'ubuntu'\u001b[0m,\n",
       "            \u001b[32m'timeout'\u001b[0m: \u001b[1;36m0\u001b[0m,\n",
       "            \u001b[32m'PID'\u001b[0m: \u001b[1;36m6949\u001b[0m,\n",
       "            \u001b[32m'Type'\u001b[0m: \u001b[1m<\u001b[0m\u001b[1;95mSessionType.VELOCIRAPTOR_SERVER:\u001b[0m\u001b[39m \u001b[0m\u001b[1;36m8\u001b[0m\u001b[39m>,\u001b[0m\n",
       "\u001b[39m            \u001b[0m\u001b[32m'agent'\u001b[0m\u001b[39m: \u001b[0m\u001b[32m'blue_agent_0'\u001b[0m\n",
       "\u001b[39m        \u001b[0m\u001b[1;39m}\u001b[0m\n",
       "\u001b[39m    \u001b[0m\u001b[1;39m]\u001b[0m\u001b[39m,\u001b[0m\n",
       "\u001b[39m    \u001b[0m\u001b[32m'Processes'\u001b[0m\u001b[39m: \u001b[0m\u001b[1;39m[\u001b[0m\u001b[1;39m{\u001b[0m\u001b[32m'PID'\u001b[0m\u001b[39m: \u001b[0m\u001b[1;36m6949\u001b[0m\u001b[39m, \u001b[0m\u001b[32m'username'\u001b[0m\u001b[39m: \u001b[0m\u001b[32m'ubuntu'\u001b[0m\u001b[1;39m}\u001b[0m\u001b[1;39m]\u001b[0m\u001b[39m,\u001b[0m\n",
       "\u001b[39m    \u001b[0m\u001b[32m'User Info'\u001b[0m\u001b[39m: \u001b[0m\u001b[1;39m[\u001b[0m\u001b[1;39m{\u001b[0m\u001b[32m'username'\u001b[0m\u001b[39m: \u001b[0m\u001b[32m'root'\u001b[0m\u001b[39m, \u001b[0m\u001b[32m'Groups'\u001b[0m\u001b[39m: \u001b[0m\u001b[1;39m[\u001b[0m\u001b[1;39m{\u001b[0m\u001b[32m'GID'\u001b[0m\u001b[39m: \u001b[0m\u001b[1;36m0\u001b[0m\u001b[1;39m}\u001b[0m\u001b[1;39m]\u001b[0m\u001b[1;39m}\u001b[0m\u001b[39m, \u001b[0m\u001b[1;39m{\u001b[0m\u001b[32m'username'\u001b[0m\u001b[39m: \u001b[0m\u001b[32m'user'\u001b[0m\u001b[39m, \u001b[0m\u001b[32m'Groups'\u001b[0m\u001b[39m: \u001b[0m\u001b[1;39m[\u001b[0m\u001b[1;39m{\u001b[0m\u001b[32m'GID'\u001b[0m\u001b[39m: \u001b[0m\u001b[1;36m1\u001b[0m\u001b[1;39m}\u001b[0m\u001b[1;39m]\u001b[0m\u001b[1;39m}\u001b[0m\u001b[1;39m]\u001b[0m\u001b[39m,\u001b[0m\n",
       "\u001b[39m    \u001b[0m\u001b[32m'System info'\u001b[0m\u001b[39m: \u001b[0m\u001b[1;39m{\u001b[0m\n",
       "\u001b[39m        \u001b[0m\u001b[32m'Hostname'\u001b[0m\u001b[39m: \u001b[0m\u001b[32m'restricted_zone_a_subnet_user_host_0'\u001b[0m\u001b[39m,\u001b[0m\n",
       "\u001b[39m        \u001b[0m\u001b[32m'OSType'\u001b[0m\u001b[39m: <OperatingSystemType.LINUX: \u001b[0m\u001b[1;36m3\u001b[0m\u001b[39m>,\u001b[0m\n",
       "\u001b[39m        \u001b[0m\u001b[32m'OSDistribution'\u001b[0m\u001b[39m: <OperatingSystemDistribution.KALI: \u001b[0m\u001b[1;36m9\u001b[0m\u001b[39m>,\u001b[0m\n",
       "\u001b[39m        \u001b[0m\u001b[32m'OSVersion'\u001b[0m\u001b[39m: <OperatingSystemVersion.K2019_4: \u001b[0m\u001b[1;36m11\u001b[0m\u001b[39m>,\u001b[0m\n",
       "\u001b[39m        \u001b[0m\u001b[32m'Architecture'\u001b[0m\u001b[39m: <Architecture.x64: \u001b[0m\u001b[1;36m2\u001b[0m\u001b[1m>\u001b[0m,\n",
       "        \u001b[32m'position'\u001b[0m: \u001b[1;35marray\u001b[0m\u001b[1m(\u001b[0m\u001b[1m[\u001b[0m\u001b[1;36m0\u001b[0m., \u001b[1;36m0\u001b[0m.\u001b[1m]\u001b[0m\u001b[1m)\u001b[0m\n",
       "    \u001b[1m}\u001b[0m\n",
       "\u001b[1m}\u001b[0m\n"
      ]
     },
     "metadata": {},
     "output_type": "display_data"
    }
   ],
   "source": [
    "host=list(initial_obs.keys())[2]\n",
    "print(\"\\nSingle Host: {}\".format(host))\n",
    "print(initial_obs[host])\n"
   ]
  },
  {
   "cell_type": "code",
   "execution_count": 14,
   "metadata": {},
   "outputs": [
    {
     "data": {
      "text/html": [
       "<pre style=\"white-space:pre;overflow-x:auto;line-height:normal;font-family:Menlo,'DejaVu Sans Mono',consolas,'Courier New',monospace\">\n",
       "blue_agent_0: Step #<span style=\"color: #008080; text-decoration-color: #008080; font-weight: bold\">1</span>\n",
       "</pre>\n"
      ],
      "text/plain": [
       "\n",
       "blue_agent_0: Step #\u001b[1;36m1\u001b[0m\n"
      ]
     },
     "metadata": {},
     "output_type": "display_data"
    },
    {
     "data": {
      "text/html": [
       "<pre style=\"white-space:pre;overflow-x:auto;line-height:normal;font-family:Menlo,'DejaVu Sans Mono',consolas,'Courier New',monospace\"><span style=\"font-weight: bold\">{</span>\n",
       "    <span style=\"color: #008000; text-decoration-color: #008000\">'success'</span>: <span style=\"font-weight: bold\">&lt;</span><span style=\"color: #ff00ff; text-decoration-color: #ff00ff; font-weight: bold\">TernaryEnum.UNKNOWN:</span><span style=\"color: #000000; text-decoration-color: #000000\"> </span><span style=\"color: #008080; text-decoration-color: #008080; font-weight: bold\">2</span><span style=\"color: #000000; text-decoration-color: #000000\">&gt;,</span>\n",
       "<span style=\"color: #000000; text-decoration-color: #000000\">    </span><span style=\"color: #008000; text-decoration-color: #008000\">'action'</span><span style=\"color: #000000; text-decoration-color: #000000\">: Sleep,</span>\n",
       "<span style=\"color: #000000; text-decoration-color: #000000\">    </span><span style=\"color: #008000; text-decoration-color: #008000\">'restricted_zone_a_subnet_user_host_6'</span><span style=\"color: #000000; text-decoration-color: #000000\">: </span><span style=\"color: #000000; text-decoration-color: #000000; font-weight: bold\">{</span>\n",
       "<span style=\"color: #000000; text-decoration-color: #000000\">        </span><span style=\"color: #008000; text-decoration-color: #008000\">'Processes'</span><span style=\"color: #000000; text-decoration-color: #000000\">: </span><span style=\"color: #000000; text-decoration-color: #000000; font-weight: bold\">[{</span><span style=\"color: #008000; text-decoration-color: #008000\">'Connections'</span><span style=\"color: #000000; text-decoration-color: #000000\">: </span><span style=\"color: #000000; text-decoration-color: #000000; font-weight: bold\">[{</span><span style=\"color: #008000; text-decoration-color: #008000\">'local_port'</span><span style=\"color: #000000; text-decoration-color: #000000\">: </span><span style=\"color: #008080; text-decoration-color: #008080; font-weight: bold\">55530</span><span style=\"color: #000000; text-decoration-color: #000000\">, </span><span style=\"color: #008000; text-decoration-color: #008000\">'local_address'</span><span style=\"color: #000000; text-decoration-color: #000000\">: </span><span style=\"color: #800080; text-decoration-color: #800080; font-weight: bold\">IPv4Address</span><span style=\"color: #000000; text-decoration-color: #000000; font-weight: bold\">(</span><span style=\"color: #008000; text-decoration-color: #008000\">'10.0.216.100'</span><span style=\"color: #000000; text-decoration-color: #000000; font-weight: bold\">)}]}]</span><span style=\"color: #000000; text-decoration-color: #000000\">,</span>\n",
       "<span style=\"color: #000000; text-decoration-color: #000000\">        </span><span style=\"color: #008000; text-decoration-color: #008000\">'Interface'</span><span style=\"color: #000000; text-decoration-color: #000000\">: </span><span style=\"color: #000000; text-decoration-color: #000000; font-weight: bold\">[{</span><span style=\"color: #008000; text-decoration-color: #008000\">'ip_address'</span><span style=\"color: #000000; text-decoration-color: #000000\">: </span><span style=\"color: #800080; text-decoration-color: #800080; font-weight: bold\">IPv4Address</span><span style=\"color: #000000; text-decoration-color: #000000; font-weight: bold\">(</span><span style=\"color: #008000; text-decoration-color: #008000\">'10.0.216.100'</span><span style=\"color: #000000; text-decoration-color: #000000; font-weight: bold\">)}]</span><span style=\"color: #000000; text-decoration-color: #000000\">,</span>\n",
       "<span style=\"color: #000000; text-decoration-color: #000000\">        </span><span style=\"color: #008000; text-decoration-color: #008000\">'System info'</span><span style=\"color: #000000; text-decoration-color: #000000\">: </span><span style=\"color: #000000; text-decoration-color: #000000; font-weight: bold\">{</span>\n",
       "<span style=\"color: #000000; text-decoration-color: #000000\">            </span><span style=\"color: #008000; text-decoration-color: #008000\">'Hostname'</span><span style=\"color: #000000; text-decoration-color: #000000\">: </span><span style=\"color: #008000; text-decoration-color: #008000\">'restricted_zone_a_subnet_user_host_6'</span><span style=\"color: #000000; text-decoration-color: #000000\">,</span>\n",
       "<span style=\"color: #000000; text-decoration-color: #000000\">            </span><span style=\"color: #008000; text-decoration-color: #008000\">'OSType'</span><span style=\"color: #000000; text-decoration-color: #000000\">: &lt;OperatingSystemType.LINUX: </span><span style=\"color: #008080; text-decoration-color: #008080; font-weight: bold\">3</span><span style=\"color: #000000; text-decoration-color: #000000\">&gt;,</span>\n",
       "<span style=\"color: #000000; text-decoration-color: #000000\">            </span><span style=\"color: #008000; text-decoration-color: #008000\">'OSDistribution'</span><span style=\"color: #000000; text-decoration-color: #000000\">: &lt;OperatingSystemDistribution.UBUNTU: </span><span style=\"color: #008080; text-decoration-color: #008080; font-weight: bold\">8</span><span style=\"color: #000000; text-decoration-color: #000000\">&gt;,</span>\n",
       "<span style=\"color: #000000; text-decoration-color: #000000\">            </span><span style=\"color: #008000; text-decoration-color: #008000\">'OSVersion'</span><span style=\"color: #000000; text-decoration-color: #000000\">: &lt;OperatingSystemVersion.UNKNOWN: </span><span style=\"color: #008080; text-decoration-color: #008080; font-weight: bold\">1</span><span style=\"color: #000000; text-decoration-color: #000000\">&gt;,</span>\n",
       "<span style=\"color: #000000; text-decoration-color: #000000\">            </span><span style=\"color: #008000; text-decoration-color: #008000\">'Architecture'</span><span style=\"color: #000000; text-decoration-color: #000000\">: &lt;Architecture.x64: </span><span style=\"color: #008080; text-decoration-color: #008080; font-weight: bold\">2</span><span style=\"font-weight: bold\">&gt;</span>,\n",
       "            <span style=\"color: #008000; text-decoration-color: #008000\">'position'</span>: <span style=\"color: #800080; text-decoration-color: #800080; font-weight: bold\">array</span><span style=\"font-weight: bold\">([</span><span style=\"color: #008080; text-decoration-color: #008080; font-weight: bold\">0</span>., <span style=\"color: #008080; text-decoration-color: #008080; font-weight: bold\">0</span>.<span style=\"font-weight: bold\">])</span>\n",
       "        <span style=\"font-weight: bold\">}</span>\n",
       "    <span style=\"font-weight: bold\">}</span>\n",
       "<span style=\"font-weight: bold\">}</span>\n",
       "</pre>\n"
      ],
      "text/plain": [
       "\u001b[1m{\u001b[0m\n",
       "    \u001b[32m'success'\u001b[0m: \u001b[1m<\u001b[0m\u001b[1;95mTernaryEnum.UNKNOWN:\u001b[0m\u001b[39m \u001b[0m\u001b[1;36m2\u001b[0m\u001b[39m>,\u001b[0m\n",
       "\u001b[39m    \u001b[0m\u001b[32m'action'\u001b[0m\u001b[39m: Sleep,\u001b[0m\n",
       "\u001b[39m    \u001b[0m\u001b[32m'restricted_zone_a_subnet_user_host_6'\u001b[0m\u001b[39m: \u001b[0m\u001b[1;39m{\u001b[0m\n",
       "\u001b[39m        \u001b[0m\u001b[32m'Processes'\u001b[0m\u001b[39m: \u001b[0m\u001b[1;39m[\u001b[0m\u001b[1;39m{\u001b[0m\u001b[32m'Connections'\u001b[0m\u001b[39m: \u001b[0m\u001b[1;39m[\u001b[0m\u001b[1;39m{\u001b[0m\u001b[32m'local_port'\u001b[0m\u001b[39m: \u001b[0m\u001b[1;36m55530\u001b[0m\u001b[39m, \u001b[0m\u001b[32m'local_address'\u001b[0m\u001b[39m: \u001b[0m\u001b[1;35mIPv4Address\u001b[0m\u001b[1;39m(\u001b[0m\u001b[32m'10.0.216.100'\u001b[0m\u001b[1;39m)\u001b[0m\u001b[1;39m}\u001b[0m\u001b[1;39m]\u001b[0m\u001b[1;39m}\u001b[0m\u001b[1;39m]\u001b[0m\u001b[39m,\u001b[0m\n",
       "\u001b[39m        \u001b[0m\u001b[32m'Interface'\u001b[0m\u001b[39m: \u001b[0m\u001b[1;39m[\u001b[0m\u001b[1;39m{\u001b[0m\u001b[32m'ip_address'\u001b[0m\u001b[39m: \u001b[0m\u001b[1;35mIPv4Address\u001b[0m\u001b[1;39m(\u001b[0m\u001b[32m'10.0.216.100'\u001b[0m\u001b[1;39m)\u001b[0m\u001b[1;39m}\u001b[0m\u001b[1;39m]\u001b[0m\u001b[39m,\u001b[0m\n",
       "\u001b[39m        \u001b[0m\u001b[32m'System info'\u001b[0m\u001b[39m: \u001b[0m\u001b[1;39m{\u001b[0m\n",
       "\u001b[39m            \u001b[0m\u001b[32m'Hostname'\u001b[0m\u001b[39m: \u001b[0m\u001b[32m'restricted_zone_a_subnet_user_host_6'\u001b[0m\u001b[39m,\u001b[0m\n",
       "\u001b[39m            \u001b[0m\u001b[32m'OSType'\u001b[0m\u001b[39m: <OperatingSystemType.LINUX: \u001b[0m\u001b[1;36m3\u001b[0m\u001b[39m>,\u001b[0m\n",
       "\u001b[39m            \u001b[0m\u001b[32m'OSDistribution'\u001b[0m\u001b[39m: <OperatingSystemDistribution.UBUNTU: \u001b[0m\u001b[1;36m8\u001b[0m\u001b[39m>,\u001b[0m\n",
       "\u001b[39m            \u001b[0m\u001b[32m'OSVersion'\u001b[0m\u001b[39m: <OperatingSystemVersion.UNKNOWN: \u001b[0m\u001b[1;36m1\u001b[0m\u001b[39m>,\u001b[0m\n",
       "\u001b[39m            \u001b[0m\u001b[32m'Architecture'\u001b[0m\u001b[39m: <Architecture.x64: \u001b[0m\u001b[1;36m2\u001b[0m\u001b[1m>\u001b[0m,\n",
       "            \u001b[32m'position'\u001b[0m: \u001b[1;35marray\u001b[0m\u001b[1m(\u001b[0m\u001b[1m[\u001b[0m\u001b[1;36m0\u001b[0m., \u001b[1;36m0\u001b[0m.\u001b[1m]\u001b[0m\u001b[1m)\u001b[0m\n",
       "        \u001b[1m}\u001b[0m\n",
       "    \u001b[1m}\u001b[0m\n",
       "\u001b[1m}\u001b[0m\n"
      ]
     },
     "metadata": {},
     "output_type": "display_data"
    }
   ],
   "source": [
    "\n",
    "obs_1 = cyborg.step(agent=aBlueAgent, action=Sleep()).observation\n",
    "\n",
    "print(\"\\n{}: Step #1\".format(aBlueAgent))\n",
    "print(obs_1)"
   ]
  },
  {
   "cell_type": "code",
   "execution_count": 15,
   "metadata": {},
   "outputs": [
    {
     "data": {
      "text/html": [
       "<pre style=\"white-space:pre;overflow-x:auto;line-height:normal;font-family:Menlo,'DejaVu Sans Mono',consolas,'Courier New',monospace\">\n",
       "Blue Agent <span style=\"color: #008080; text-decoration-color: #008080; font-weight: bold\">0</span>: Step #<span style=\"color: #008080; text-decoration-color: #008080; font-weight: bold\">2</span> with Green <span style=\"color: #ff0000; text-decoration-color: #ff0000; font-style: italic\">False</span> Positive \n",
       "\n",
       "</pre>\n"
      ],
      "text/plain": [
       "\n",
       "Blue Agent \u001b[1;36m0\u001b[0m: Step #\u001b[1;36m2\u001b[0m with Green \u001b[3;91mFalse\u001b[0m Positive \n",
       "\n"
      ]
     },
     "metadata": {},
     "output_type": "display_data"
    },
    {
     "data": {
      "text/html": [
       "<pre style=\"white-space:pre;overflow-x:auto;line-height:normal;font-family:Menlo,'DejaVu Sans Mono',consolas,'Courier New',monospace\"><span style=\"font-weight: bold\">{</span>\n",
       "    <span style=\"color: #008000; text-decoration-color: #008000\">'success'</span>: <span style=\"font-weight: bold\">&lt;</span><span style=\"color: #ff00ff; text-decoration-color: #ff00ff; font-weight: bold\">TernaryEnum.UNKNOWN:</span><span style=\"color: #000000; text-decoration-color: #000000\"> </span><span style=\"color: #008080; text-decoration-color: #008080; font-weight: bold\">2</span><span style=\"color: #000000; text-decoration-color: #000000\">&gt;,</span>\n",
       "<span style=\"color: #000000; text-decoration-color: #000000\">    </span><span style=\"color: #008000; text-decoration-color: #008000\">'action'</span><span style=\"color: #000000; text-decoration-color: #000000\">: Sleep,</span>\n",
       "<span style=\"color: #000000; text-decoration-color: #000000\">    </span><span style=\"color: #008000; text-decoration-color: #008000\">'restricted_zone_a_subnet_user_host_1'</span><span style=\"color: #000000; text-decoration-color: #000000\">: </span><span style=\"color: #000000; text-decoration-color: #000000; font-weight: bold\">{</span>\n",
       "<span style=\"color: #000000; text-decoration-color: #000000\">        </span><span style=\"color: #008000; text-decoration-color: #008000\">'Processes'</span><span style=\"color: #000000; text-decoration-color: #000000\">: </span><span style=\"color: #000000; text-decoration-color: #000000; font-weight: bold\">[{</span><span style=\"color: #008000; text-decoration-color: #008000\">'Connections'</span><span style=\"color: #000000; text-decoration-color: #000000\">: </span><span style=\"color: #000000; text-decoration-color: #000000; font-weight: bold\">[{</span><span style=\"color: #008000; text-decoration-color: #008000\">'local_port'</span><span style=\"color: #000000; text-decoration-color: #000000\">: </span><span style=\"color: #008080; text-decoration-color: #008080; font-weight: bold\">58110</span><span style=\"color: #000000; text-decoration-color: #000000\">, </span><span style=\"color: #008000; text-decoration-color: #008000\">'local_address'</span><span style=\"color: #000000; text-decoration-color: #000000\">: </span><span style=\"color: #800080; text-decoration-color: #800080; font-weight: bold\">IPv4Address</span><span style=\"color: #000000; text-decoration-color: #000000; font-weight: bold\">(</span><span style=\"color: #008000; text-decoration-color: #008000\">'10.0.216.226'</span><span style=\"color: #000000; text-decoration-color: #000000; font-weight: bold\">)}]}]</span><span style=\"color: #000000; text-decoration-color: #000000\">,</span>\n",
       "<span style=\"color: #000000; text-decoration-color: #000000\">        </span><span style=\"color: #008000; text-decoration-color: #008000\">'Interface'</span><span style=\"color: #000000; text-decoration-color: #000000\">: </span><span style=\"color: #000000; text-decoration-color: #000000; font-weight: bold\">[{</span><span style=\"color: #008000; text-decoration-color: #008000\">'ip_address'</span><span style=\"color: #000000; text-decoration-color: #000000\">: </span><span style=\"color: #800080; text-decoration-color: #800080; font-weight: bold\">IPv4Address</span><span style=\"color: #000000; text-decoration-color: #000000; font-weight: bold\">(</span><span style=\"color: #008000; text-decoration-color: #008000\">'10.0.216.226'</span><span style=\"color: #000000; text-decoration-color: #000000; font-weight: bold\">)}]</span><span style=\"color: #000000; text-decoration-color: #000000\">,</span>\n",
       "<span style=\"color: #000000; text-decoration-color: #000000\">        </span><span style=\"color: #008000; text-decoration-color: #008000\">'System info'</span><span style=\"color: #000000; text-decoration-color: #000000\">: </span><span style=\"color: #000000; text-decoration-color: #000000; font-weight: bold\">{</span>\n",
       "<span style=\"color: #000000; text-decoration-color: #000000\">            </span><span style=\"color: #008000; text-decoration-color: #008000\">'Hostname'</span><span style=\"color: #000000; text-decoration-color: #000000\">: </span><span style=\"color: #008000; text-decoration-color: #008000\">'restricted_zone_a_subnet_user_host_1'</span><span style=\"color: #000000; text-decoration-color: #000000\">,</span>\n",
       "<span style=\"color: #000000; text-decoration-color: #000000\">            </span><span style=\"color: #008000; text-decoration-color: #008000\">'OSType'</span><span style=\"color: #000000; text-decoration-color: #000000\">: &lt;OperatingSystemType.LINUX: </span><span style=\"color: #008080; text-decoration-color: #008080; font-weight: bold\">3</span><span style=\"color: #000000; text-decoration-color: #000000\">&gt;,</span>\n",
       "<span style=\"color: #000000; text-decoration-color: #000000\">            </span><span style=\"color: #008000; text-decoration-color: #008000\">'OSDistribution'</span><span style=\"color: #000000; text-decoration-color: #000000\">: &lt;OperatingSystemDistribution.KALI: </span><span style=\"color: #008080; text-decoration-color: #008080; font-weight: bold\">9</span><span style=\"color: #000000; text-decoration-color: #000000\">&gt;,</span>\n",
       "<span style=\"color: #000000; text-decoration-color: #000000\">            </span><span style=\"color: #008000; text-decoration-color: #008000\">'OSVersion'</span><span style=\"color: #000000; text-decoration-color: #000000\">: &lt;OperatingSystemVersion.K2019_4: </span><span style=\"color: #008080; text-decoration-color: #008080; font-weight: bold\">11</span><span style=\"color: #000000; text-decoration-color: #000000\">&gt;,</span>\n",
       "<span style=\"color: #000000; text-decoration-color: #000000\">            </span><span style=\"color: #008000; text-decoration-color: #008000\">'Architecture'</span><span style=\"color: #000000; text-decoration-color: #000000\">: &lt;Architecture.x64: </span><span style=\"color: #008080; text-decoration-color: #008080; font-weight: bold\">2</span><span style=\"color: #000000; text-decoration-color: #000000\">&gt;,</span>\n",
       "<span style=\"color: #000000; text-decoration-color: #000000\">            </span><span style=\"color: #008000; text-decoration-color: #008000\">'position'</span><span style=\"color: #000000; text-decoration-color: #000000\">: </span><span style=\"color: #800080; text-decoration-color: #800080; font-weight: bold\">array</span><span style=\"color: #000000; text-decoration-color: #000000; font-weight: bold\">([</span><span style=\"color: #008080; text-decoration-color: #008080; font-weight: bold\">0</span><span style=\"color: #000000; text-decoration-color: #000000\">., </span><span style=\"color: #008080; text-decoration-color: #008080; font-weight: bold\">0</span><span style=\"color: #000000; text-decoration-color: #000000\">.</span><span style=\"color: #000000; text-decoration-color: #000000; font-weight: bold\">])</span>\n",
       "<span style=\"color: #000000; text-decoration-color: #000000\">        </span><span style=\"color: #000000; text-decoration-color: #000000; font-weight: bold\">}</span>\n",
       "<span style=\"color: #000000; text-decoration-color: #000000\">    </span><span style=\"color: #000000; text-decoration-color: #000000; font-weight: bold\">}</span><span style=\"color: #000000; text-decoration-color: #000000\">,</span>\n",
       "<span style=\"color: #000000; text-decoration-color: #000000\">    </span><span style=\"color: #008000; text-decoration-color: #008000\">'restricted_zone_a_subnet_user_host_3'</span><span style=\"color: #000000; text-decoration-color: #000000\">: </span><span style=\"color: #000000; text-decoration-color: #000000; font-weight: bold\">{</span>\n",
       "<span style=\"color: #000000; text-decoration-color: #000000\">        </span><span style=\"color: #008000; text-decoration-color: #008000\">'Processes'</span><span style=\"color: #000000; text-decoration-color: #000000\">: </span><span style=\"color: #000000; text-decoration-color: #000000; font-weight: bold\">[{</span><span style=\"color: #008000; text-decoration-color: #008000\">'Connections'</span><span style=\"color: #000000; text-decoration-color: #000000\">: </span><span style=\"color: #000000; text-decoration-color: #000000; font-weight: bold\">[{</span><span style=\"color: #008000; text-decoration-color: #008000\">'local_port'</span><span style=\"color: #000000; text-decoration-color: #000000\">: </span><span style=\"color: #008080; text-decoration-color: #008080; font-weight: bold\">56638</span><span style=\"color: #000000; text-decoration-color: #000000\">, </span><span style=\"color: #008000; text-decoration-color: #008000\">'local_address'</span><span style=\"color: #000000; text-decoration-color: #000000\">: </span><span style=\"color: #800080; text-decoration-color: #800080; font-weight: bold\">IPv4Address</span><span style=\"color: #000000; text-decoration-color: #000000; font-weight: bold\">(</span><span style=\"color: #008000; text-decoration-color: #008000\">'10.0.216.160'</span><span style=\"color: #000000; text-decoration-color: #000000; font-weight: bold\">)}]}]</span><span style=\"color: #000000; text-decoration-color: #000000\">,</span>\n",
       "<span style=\"color: #000000; text-decoration-color: #000000\">        </span><span style=\"color: #008000; text-decoration-color: #008000\">'Interface'</span><span style=\"color: #000000; text-decoration-color: #000000\">: </span><span style=\"color: #000000; text-decoration-color: #000000; font-weight: bold\">[{</span><span style=\"color: #008000; text-decoration-color: #008000\">'ip_address'</span><span style=\"color: #000000; text-decoration-color: #000000\">: </span><span style=\"color: #800080; text-decoration-color: #800080; font-weight: bold\">IPv4Address</span><span style=\"color: #000000; text-decoration-color: #000000; font-weight: bold\">(</span><span style=\"color: #008000; text-decoration-color: #008000\">'10.0.216.160'</span><span style=\"color: #000000; text-decoration-color: #000000; font-weight: bold\">)}]</span><span style=\"color: #000000; text-decoration-color: #000000\">,</span>\n",
       "<span style=\"color: #000000; text-decoration-color: #000000\">        </span><span style=\"color: #008000; text-decoration-color: #008000\">'System info'</span><span style=\"color: #000000; text-decoration-color: #000000\">: </span><span style=\"color: #000000; text-decoration-color: #000000; font-weight: bold\">{</span>\n",
       "<span style=\"color: #000000; text-decoration-color: #000000\">            </span><span style=\"color: #008000; text-decoration-color: #008000\">'Hostname'</span><span style=\"color: #000000; text-decoration-color: #000000\">: </span><span style=\"color: #008000; text-decoration-color: #008000\">'restricted_zone_a_subnet_user_host_3'</span><span style=\"color: #000000; text-decoration-color: #000000\">,</span>\n",
       "<span style=\"color: #000000; text-decoration-color: #000000\">            </span><span style=\"color: #008000; text-decoration-color: #008000\">'OSType'</span><span style=\"color: #000000; text-decoration-color: #000000\">: &lt;OperatingSystemType.LINUX: </span><span style=\"color: #008080; text-decoration-color: #008080; font-weight: bold\">3</span><span style=\"color: #000000; text-decoration-color: #000000\">&gt;,</span>\n",
       "<span style=\"color: #000000; text-decoration-color: #000000\">            </span><span style=\"color: #008000; text-decoration-color: #008000\">'OSDistribution'</span><span style=\"color: #000000; text-decoration-color: #000000\">: &lt;OperatingSystemDistribution.KALI: </span><span style=\"color: #008080; text-decoration-color: #008080; font-weight: bold\">9</span><span style=\"color: #000000; text-decoration-color: #000000\">&gt;,</span>\n",
       "<span style=\"color: #000000; text-decoration-color: #000000\">            </span><span style=\"color: #008000; text-decoration-color: #008000\">'OSVersion'</span><span style=\"color: #000000; text-decoration-color: #000000\">: &lt;OperatingSystemVersion.K2019_4: </span><span style=\"color: #008080; text-decoration-color: #008080; font-weight: bold\">11</span><span style=\"color: #000000; text-decoration-color: #000000\">&gt;,</span>\n",
       "<span style=\"color: #000000; text-decoration-color: #000000\">            </span><span style=\"color: #008000; text-decoration-color: #008000\">'Architecture'</span><span style=\"color: #000000; text-decoration-color: #000000\">: &lt;Architecture.x64: </span><span style=\"color: #008080; text-decoration-color: #008080; font-weight: bold\">2</span><span style=\"color: #000000; text-decoration-color: #000000\">&gt;,</span>\n",
       "<span style=\"color: #000000; text-decoration-color: #000000\">            </span><span style=\"color: #008000; text-decoration-color: #008000\">'position'</span><span style=\"color: #000000; text-decoration-color: #000000\">: </span><span style=\"color: #800080; text-decoration-color: #800080; font-weight: bold\">array</span><span style=\"color: #000000; text-decoration-color: #000000; font-weight: bold\">([</span><span style=\"color: #008080; text-decoration-color: #008080; font-weight: bold\">0</span><span style=\"color: #000000; text-decoration-color: #000000\">., </span><span style=\"color: #008080; text-decoration-color: #008080; font-weight: bold\">0</span><span style=\"color: #000000; text-decoration-color: #000000\">.</span><span style=\"color: #000000; text-decoration-color: #000000; font-weight: bold\">])</span>\n",
       "<span style=\"color: #000000; text-decoration-color: #000000\">        </span><span style=\"color: #000000; text-decoration-color: #000000; font-weight: bold\">}</span>\n",
       "<span style=\"color: #000000; text-decoration-color: #000000\">    </span><span style=\"color: #000000; text-decoration-color: #000000; font-weight: bold\">}</span><span style=\"color: #000000; text-decoration-color: #000000\">,</span>\n",
       "<span style=\"color: #000000; text-decoration-color: #000000\">    </span><span style=\"color: #008000; text-decoration-color: #008000\">'restricted_zone_a_subnet_user_host_5'</span><span style=\"color: #000000; text-decoration-color: #000000\">: </span><span style=\"color: #000000; text-decoration-color: #000000; font-weight: bold\">{</span>\n",
       "<span style=\"color: #000000; text-decoration-color: #000000\">        </span><span style=\"color: #008000; text-decoration-color: #008000\">'Processes'</span><span style=\"color: #000000; text-decoration-color: #000000\">: </span><span style=\"color: #000000; text-decoration-color: #000000; font-weight: bold\">[{</span><span style=\"color: #008000; text-decoration-color: #008000\">'Connections'</span><span style=\"color: #000000; text-decoration-color: #000000\">: </span><span style=\"color: #000000; text-decoration-color: #000000; font-weight: bold\">[{</span><span style=\"color: #008000; text-decoration-color: #008000\">'local_port'</span><span style=\"color: #000000; text-decoration-color: #000000\">: </span><span style=\"color: #008080; text-decoration-color: #008080; font-weight: bold\">56979</span><span style=\"color: #000000; text-decoration-color: #000000\">, </span><span style=\"color: #008000; text-decoration-color: #008000\">'local_address'</span><span style=\"color: #000000; text-decoration-color: #000000\">: </span><span style=\"color: #800080; text-decoration-color: #800080; font-weight: bold\">IPv4Address</span><span style=\"color: #000000; text-decoration-color: #000000; font-weight: bold\">(</span><span style=\"color: #008000; text-decoration-color: #008000\">'10.0.216.53'</span><span style=\"color: #000000; text-decoration-color: #000000; font-weight: bold\">)}]}]</span><span style=\"color: #000000; text-decoration-color: #000000\">,</span>\n",
       "<span style=\"color: #000000; text-decoration-color: #000000\">        </span><span style=\"color: #008000; text-decoration-color: #008000\">'Interface'</span><span style=\"color: #000000; text-decoration-color: #000000\">: </span><span style=\"color: #000000; text-decoration-color: #000000; font-weight: bold\">[{</span><span style=\"color: #008000; text-decoration-color: #008000\">'ip_address'</span><span style=\"color: #000000; text-decoration-color: #000000\">: </span><span style=\"color: #800080; text-decoration-color: #800080; font-weight: bold\">IPv4Address</span><span style=\"color: #000000; text-decoration-color: #000000; font-weight: bold\">(</span><span style=\"color: #008000; text-decoration-color: #008000\">'10.0.216.53'</span><span style=\"color: #000000; text-decoration-color: #000000; font-weight: bold\">)}]</span><span style=\"color: #000000; text-decoration-color: #000000\">,</span>\n",
       "<span style=\"color: #000000; text-decoration-color: #000000\">        </span><span style=\"color: #008000; text-decoration-color: #008000\">'System info'</span><span style=\"color: #000000; text-decoration-color: #000000\">: </span><span style=\"color: #000000; text-decoration-color: #000000; font-weight: bold\">{</span>\n",
       "<span style=\"color: #000000; text-decoration-color: #000000\">            </span><span style=\"color: #008000; text-decoration-color: #008000\">'Hostname'</span><span style=\"color: #000000; text-decoration-color: #000000\">: </span><span style=\"color: #008000; text-decoration-color: #008000\">'restricted_zone_a_subnet_user_host_5'</span><span style=\"color: #000000; text-decoration-color: #000000\">,</span>\n",
       "<span style=\"color: #000000; text-decoration-color: #000000\">            </span><span style=\"color: #008000; text-decoration-color: #008000\">'OSType'</span><span style=\"color: #000000; text-decoration-color: #000000\">: &lt;OperatingSystemType.LINUX: </span><span style=\"color: #008080; text-decoration-color: #008080; font-weight: bold\">3</span><span style=\"color: #000000; text-decoration-color: #000000\">&gt;,</span>\n",
       "<span style=\"color: #000000; text-decoration-color: #000000\">            </span><span style=\"color: #008000; text-decoration-color: #008000\">'OSDistribution'</span><span style=\"color: #000000; text-decoration-color: #000000\">: &lt;OperatingSystemDistribution.KALI: </span><span style=\"color: #008080; text-decoration-color: #008080; font-weight: bold\">9</span><span style=\"color: #000000; text-decoration-color: #000000\">&gt;,</span>\n",
       "<span style=\"color: #000000; text-decoration-color: #000000\">            </span><span style=\"color: #008000; text-decoration-color: #008000\">'OSVersion'</span><span style=\"color: #000000; text-decoration-color: #000000\">: &lt;OperatingSystemVersion.K2019_4: </span><span style=\"color: #008080; text-decoration-color: #008080; font-weight: bold\">11</span><span style=\"color: #000000; text-decoration-color: #000000\">&gt;,</span>\n",
       "<span style=\"color: #000000; text-decoration-color: #000000\">            </span><span style=\"color: #008000; text-decoration-color: #008000\">'Architecture'</span><span style=\"color: #000000; text-decoration-color: #000000\">: &lt;Architecture.x64: </span><span style=\"color: #008080; text-decoration-color: #008080; font-weight: bold\">2</span><span style=\"color: #000000; text-decoration-color: #000000\">&gt;,</span>\n",
       "<span style=\"color: #000000; text-decoration-color: #000000\">            </span><span style=\"color: #008000; text-decoration-color: #008000\">'position'</span><span style=\"color: #000000; text-decoration-color: #000000\">: </span><span style=\"color: #800080; text-decoration-color: #800080; font-weight: bold\">array</span><span style=\"color: #000000; text-decoration-color: #000000; font-weight: bold\">([</span><span style=\"color: #008080; text-decoration-color: #008080; font-weight: bold\">0</span><span style=\"color: #000000; text-decoration-color: #000000\">., </span><span style=\"color: #008080; text-decoration-color: #008080; font-weight: bold\">0</span><span style=\"color: #000000; text-decoration-color: #000000\">.</span><span style=\"color: #000000; text-decoration-color: #000000; font-weight: bold\">])</span>\n",
       "<span style=\"color: #000000; text-decoration-color: #000000\">        </span><span style=\"color: #000000; text-decoration-color: #000000; font-weight: bold\">}</span>\n",
       "<span style=\"color: #000000; text-decoration-color: #000000\">    </span><span style=\"color: #000000; text-decoration-color: #000000; font-weight: bold\">}</span><span style=\"color: #000000; text-decoration-color: #000000\">,</span>\n",
       "<span style=\"color: #000000; text-decoration-color: #000000\">    </span><span style=\"color: #008000; text-decoration-color: #008000\">'restricted_zone_a_subnet_server_host_0'</span><span style=\"color: #000000; text-decoration-color: #000000\">: </span><span style=\"color: #000000; text-decoration-color: #000000; font-weight: bold\">{</span>\n",
       "<span style=\"color: #000000; text-decoration-color: #000000\">        </span><span style=\"color: #008000; text-decoration-color: #008000\">'Processes'</span><span style=\"color: #000000; text-decoration-color: #000000\">: </span><span style=\"color: #000000; text-decoration-color: #000000; font-weight: bold\">[</span>\n",
       "<span style=\"color: #000000; text-decoration-color: #000000\">            </span><span style=\"color: #000000; text-decoration-color: #000000; font-weight: bold\">{</span>\n",
       "<span style=\"color: #000000; text-decoration-color: #000000\">                </span><span style=\"color: #008000; text-decoration-color: #008000\">'Connections'</span><span style=\"color: #000000; text-decoration-color: #000000\">: </span><span style=\"color: #000000; text-decoration-color: #000000; font-weight: bold\">[</span>\n",
       "<span style=\"color: #000000; text-decoration-color: #000000\">                    </span><span style=\"color: #000000; text-decoration-color: #000000; font-weight: bold\">{</span>\n",
       "<span style=\"color: #000000; text-decoration-color: #000000\">                        </span><span style=\"color: #008000; text-decoration-color: #008000\">'remote_port'</span><span style=\"color: #000000; text-decoration-color: #000000\">: </span><span style=\"color: #008080; text-decoration-color: #008080; font-weight: bold\">58802</span><span style=\"color: #000000; text-decoration-color: #000000\">,</span>\n",
       "<span style=\"color: #000000; text-decoration-color: #000000\">                        </span><span style=\"color: #008000; text-decoration-color: #008000\">'local_address'</span><span style=\"color: #000000; text-decoration-color: #000000\">: </span><span style=\"color: #800080; text-decoration-color: #800080; font-weight: bold\">IPv4Address</span><span style=\"color: #000000; text-decoration-color: #000000; font-weight: bold\">(</span><span style=\"color: #008000; text-decoration-color: #008000\">'10.0.0.229'</span><span style=\"color: #000000; text-decoration-color: #000000; font-weight: bold\">)</span><span style=\"color: #000000; text-decoration-color: #000000\">,</span>\n",
       "<span style=\"color: #000000; text-decoration-color: #000000\">                        </span><span style=\"color: #008000; text-decoration-color: #008000\">'remote_address'</span><span style=\"color: #000000; text-decoration-color: #000000\">: </span><span style=\"color: #800080; text-decoration-color: #800080; font-weight: bold\">IPv4Address</span><span style=\"color: #000000; text-decoration-color: #000000; font-weight: bold\">(</span><span style=\"color: #008000; text-decoration-color: #008000\">'10.0.216.254'</span><span style=\"color: #000000; text-decoration-color: #000000; font-weight: bold\">)</span>\n",
       "<span style=\"color: #000000; text-decoration-color: #000000\">                    </span><span style=\"color: #000000; text-decoration-color: #000000; font-weight: bold\">}</span>\n",
       "<span style=\"color: #000000; text-decoration-color: #000000\">                </span><span style=\"color: #000000; text-decoration-color: #000000; font-weight: bold\">]</span>\n",
       "<span style=\"color: #000000; text-decoration-color: #000000\">            </span><span style=\"color: #000000; text-decoration-color: #000000; font-weight: bold\">}</span><span style=\"color: #000000; text-decoration-color: #000000\">,</span>\n",
       "<span style=\"color: #000000; text-decoration-color: #000000\">            </span><span style=\"color: #000000; text-decoration-color: #000000; font-weight: bold\">{</span>\n",
       "<span style=\"color: #000000; text-decoration-color: #000000\">                </span><span style=\"color: #008000; text-decoration-color: #008000\">'Connections'</span><span style=\"color: #000000; text-decoration-color: #000000\">: </span><span style=\"color: #000000; text-decoration-color: #000000; font-weight: bold\">[</span>\n",
       "<span style=\"color: #000000; text-decoration-color: #000000\">                    </span><span style=\"color: #000000; text-decoration-color: #000000; font-weight: bold\">{</span>\n",
       "<span style=\"color: #000000; text-decoration-color: #000000\">                        </span><span style=\"color: #008000; text-decoration-color: #008000\">'remote_port'</span><span style=\"color: #000000; text-decoration-color: #000000\">: </span><span style=\"color: #008080; text-decoration-color: #008080; font-weight: bold\">50830</span><span style=\"color: #000000; text-decoration-color: #000000\">,</span>\n",
       "<span style=\"color: #000000; text-decoration-color: #000000\">                        </span><span style=\"color: #008000; text-decoration-color: #008000\">'local_address'</span><span style=\"color: #000000; text-decoration-color: #000000\">: </span><span style=\"color: #800080; text-decoration-color: #800080; font-weight: bold\">IPv4Address</span><span style=\"color: #000000; text-decoration-color: #000000; font-weight: bold\">(</span><span style=\"color: #008000; text-decoration-color: #008000\">'10.0.0.153'</span><span style=\"color: #000000; text-decoration-color: #000000; font-weight: bold\">)</span><span style=\"color: #000000; text-decoration-color: #000000\">,</span>\n",
       "<span style=\"color: #000000; text-decoration-color: #000000\">                        </span><span style=\"color: #008000; text-decoration-color: #008000\">'remote_address'</span><span style=\"color: #000000; text-decoration-color: #000000\">: </span><span style=\"color: #800080; text-decoration-color: #800080; font-weight: bold\">IPv4Address</span><span style=\"color: #000000; text-decoration-color: #000000; font-weight: bold\">(</span><span style=\"color: #008000; text-decoration-color: #008000\">'10.0.216.254'</span><span style=\"color: #000000; text-decoration-color: #000000; font-weight: bold\">)</span>\n",
       "<span style=\"color: #000000; text-decoration-color: #000000\">                    </span><span style=\"color: #000000; text-decoration-color: #000000; font-weight: bold\">}</span>\n",
       "<span style=\"color: #000000; text-decoration-color: #000000\">                </span><span style=\"color: #000000; text-decoration-color: #000000; font-weight: bold\">]</span>\n",
       "<span style=\"color: #000000; text-decoration-color: #000000\">            </span><span style=\"color: #000000; text-decoration-color: #000000; font-weight: bold\">}</span>\n",
       "<span style=\"color: #000000; text-decoration-color: #000000\">        </span><span style=\"color: #000000; text-decoration-color: #000000; font-weight: bold\">]</span><span style=\"color: #000000; text-decoration-color: #000000\">,</span>\n",
       "<span style=\"color: #000000; text-decoration-color: #000000\">        </span><span style=\"color: #008000; text-decoration-color: #008000\">'Interface'</span><span style=\"color: #000000; text-decoration-color: #000000\">: </span><span style=\"color: #000000; text-decoration-color: #000000; font-weight: bold\">[{</span><span style=\"color: #008000; text-decoration-color: #008000\">'ip_address'</span><span style=\"color: #000000; text-decoration-color: #000000\">: </span><span style=\"color: #800080; text-decoration-color: #800080; font-weight: bold\">IPv4Address</span><span style=\"color: #000000; text-decoration-color: #000000; font-weight: bold\">(</span><span style=\"color: #008000; text-decoration-color: #008000\">'10.0.0.229'</span><span style=\"color: #000000; text-decoration-color: #000000; font-weight: bold\">)}</span><span style=\"color: #000000; text-decoration-color: #000000\">, </span><span style=\"color: #000000; text-decoration-color: #000000; font-weight: bold\">{</span><span style=\"color: #008000; text-decoration-color: #008000\">'ip_address'</span><span style=\"color: #000000; text-decoration-color: #000000\">: </span><span style=\"color: #800080; text-decoration-color: #800080; font-weight: bold\">IPv4Address</span><span style=\"color: #000000; text-decoration-color: #000000; font-weight: bold\">(</span><span style=\"color: #008000; text-decoration-color: #008000\">'10.0.0.153'</span><span style=\"color: #000000; text-decoration-color: #000000; font-weight: bold\">)}]</span><span style=\"color: #000000; text-decoration-color: #000000\">,</span>\n",
       "<span style=\"color: #000000; text-decoration-color: #000000\">        </span><span style=\"color: #008000; text-decoration-color: #008000\">'System info'</span><span style=\"color: #000000; text-decoration-color: #000000\">: </span><span style=\"color: #000000; text-decoration-color: #000000; font-weight: bold\">{</span>\n",
       "<span style=\"color: #000000; text-decoration-color: #000000\">            </span><span style=\"color: #008000; text-decoration-color: #008000\">'Hostname'</span><span style=\"color: #000000; text-decoration-color: #000000\">: </span><span style=\"color: #008000; text-decoration-color: #008000\">'restricted_zone_a_subnet_server_host_0'</span><span style=\"color: #000000; text-decoration-color: #000000\">,</span>\n",
       "<span style=\"color: #000000; text-decoration-color: #000000\">            </span><span style=\"color: #008000; text-decoration-color: #008000\">'OSType'</span><span style=\"color: #000000; text-decoration-color: #000000\">: &lt;OperatingSystemType.LINUX: </span><span style=\"color: #008080; text-decoration-color: #008080; font-weight: bold\">3</span><span style=\"color: #000000; text-decoration-color: #000000\">&gt;,</span>\n",
       "<span style=\"color: #000000; text-decoration-color: #000000\">            </span><span style=\"color: #008000; text-decoration-color: #008000\">'OSDistribution'</span><span style=\"color: #000000; text-decoration-color: #000000\">: &lt;OperatingSystemDistribution.KALI: </span><span style=\"color: #008080; text-decoration-color: #008080; font-weight: bold\">9</span><span style=\"color: #000000; text-decoration-color: #000000\">&gt;,</span>\n",
       "<span style=\"color: #000000; text-decoration-color: #000000\">            </span><span style=\"color: #008000; text-decoration-color: #008000\">'OSVersion'</span><span style=\"color: #000000; text-decoration-color: #000000\">: &lt;OperatingSystemVersion.K2019_4: </span><span style=\"color: #008080; text-decoration-color: #008080; font-weight: bold\">11</span><span style=\"color: #000000; text-decoration-color: #000000\">&gt;,</span>\n",
       "<span style=\"color: #000000; text-decoration-color: #000000\">            </span><span style=\"color: #008000; text-decoration-color: #008000\">'Architecture'</span><span style=\"color: #000000; text-decoration-color: #000000\">: &lt;Architecture.x64: </span><span style=\"color: #008080; text-decoration-color: #008080; font-weight: bold\">2</span><span style=\"font-weight: bold\">&gt;</span>,\n",
       "            <span style=\"color: #008000; text-decoration-color: #008000\">'position'</span>: <span style=\"color: #800080; text-decoration-color: #800080; font-weight: bold\">array</span><span style=\"font-weight: bold\">([</span><span style=\"color: #008080; text-decoration-color: #008080; font-weight: bold\">0</span>., <span style=\"color: #008080; text-decoration-color: #008080; font-weight: bold\">0</span>.<span style=\"font-weight: bold\">])</span>\n",
       "        <span style=\"font-weight: bold\">}</span>\n",
       "    <span style=\"font-weight: bold\">}</span>\n",
       "<span style=\"font-weight: bold\">}</span>\n",
       "</pre>\n"
      ],
      "text/plain": [
       "\u001b[1m{\u001b[0m\n",
       "    \u001b[32m'success'\u001b[0m: \u001b[1m<\u001b[0m\u001b[1;95mTernaryEnum.UNKNOWN:\u001b[0m\u001b[39m \u001b[0m\u001b[1;36m2\u001b[0m\u001b[39m>,\u001b[0m\n",
       "\u001b[39m    \u001b[0m\u001b[32m'action'\u001b[0m\u001b[39m: Sleep,\u001b[0m\n",
       "\u001b[39m    \u001b[0m\u001b[32m'restricted_zone_a_subnet_user_host_1'\u001b[0m\u001b[39m: \u001b[0m\u001b[1;39m{\u001b[0m\n",
       "\u001b[39m        \u001b[0m\u001b[32m'Processes'\u001b[0m\u001b[39m: \u001b[0m\u001b[1;39m[\u001b[0m\u001b[1;39m{\u001b[0m\u001b[32m'Connections'\u001b[0m\u001b[39m: \u001b[0m\u001b[1;39m[\u001b[0m\u001b[1;39m{\u001b[0m\u001b[32m'local_port'\u001b[0m\u001b[39m: \u001b[0m\u001b[1;36m58110\u001b[0m\u001b[39m, \u001b[0m\u001b[32m'local_address'\u001b[0m\u001b[39m: \u001b[0m\u001b[1;35mIPv4Address\u001b[0m\u001b[1;39m(\u001b[0m\u001b[32m'10.0.216.226'\u001b[0m\u001b[1;39m)\u001b[0m\u001b[1;39m}\u001b[0m\u001b[1;39m]\u001b[0m\u001b[1;39m}\u001b[0m\u001b[1;39m]\u001b[0m\u001b[39m,\u001b[0m\n",
       "\u001b[39m        \u001b[0m\u001b[32m'Interface'\u001b[0m\u001b[39m: \u001b[0m\u001b[1;39m[\u001b[0m\u001b[1;39m{\u001b[0m\u001b[32m'ip_address'\u001b[0m\u001b[39m: \u001b[0m\u001b[1;35mIPv4Address\u001b[0m\u001b[1;39m(\u001b[0m\u001b[32m'10.0.216.226'\u001b[0m\u001b[1;39m)\u001b[0m\u001b[1;39m}\u001b[0m\u001b[1;39m]\u001b[0m\u001b[39m,\u001b[0m\n",
       "\u001b[39m        \u001b[0m\u001b[32m'System info'\u001b[0m\u001b[39m: \u001b[0m\u001b[1;39m{\u001b[0m\n",
       "\u001b[39m            \u001b[0m\u001b[32m'Hostname'\u001b[0m\u001b[39m: \u001b[0m\u001b[32m'restricted_zone_a_subnet_user_host_1'\u001b[0m\u001b[39m,\u001b[0m\n",
       "\u001b[39m            \u001b[0m\u001b[32m'OSType'\u001b[0m\u001b[39m: <OperatingSystemType.LINUX: \u001b[0m\u001b[1;36m3\u001b[0m\u001b[39m>,\u001b[0m\n",
       "\u001b[39m            \u001b[0m\u001b[32m'OSDistribution'\u001b[0m\u001b[39m: <OperatingSystemDistribution.KALI: \u001b[0m\u001b[1;36m9\u001b[0m\u001b[39m>,\u001b[0m\n",
       "\u001b[39m            \u001b[0m\u001b[32m'OSVersion'\u001b[0m\u001b[39m: <OperatingSystemVersion.K2019_4: \u001b[0m\u001b[1;36m11\u001b[0m\u001b[39m>,\u001b[0m\n",
       "\u001b[39m            \u001b[0m\u001b[32m'Architecture'\u001b[0m\u001b[39m: <Architecture.x64: \u001b[0m\u001b[1;36m2\u001b[0m\u001b[39m>,\u001b[0m\n",
       "\u001b[39m            \u001b[0m\u001b[32m'position'\u001b[0m\u001b[39m: \u001b[0m\u001b[1;35marray\u001b[0m\u001b[1;39m(\u001b[0m\u001b[1;39m[\u001b[0m\u001b[1;36m0\u001b[0m\u001b[39m., \u001b[0m\u001b[1;36m0\u001b[0m\u001b[39m.\u001b[0m\u001b[1;39m]\u001b[0m\u001b[1;39m)\u001b[0m\n",
       "\u001b[39m        \u001b[0m\u001b[1;39m}\u001b[0m\n",
       "\u001b[39m    \u001b[0m\u001b[1;39m}\u001b[0m\u001b[39m,\u001b[0m\n",
       "\u001b[39m    \u001b[0m\u001b[32m'restricted_zone_a_subnet_user_host_3'\u001b[0m\u001b[39m: \u001b[0m\u001b[1;39m{\u001b[0m\n",
       "\u001b[39m        \u001b[0m\u001b[32m'Processes'\u001b[0m\u001b[39m: \u001b[0m\u001b[1;39m[\u001b[0m\u001b[1;39m{\u001b[0m\u001b[32m'Connections'\u001b[0m\u001b[39m: \u001b[0m\u001b[1;39m[\u001b[0m\u001b[1;39m{\u001b[0m\u001b[32m'local_port'\u001b[0m\u001b[39m: \u001b[0m\u001b[1;36m56638\u001b[0m\u001b[39m, \u001b[0m\u001b[32m'local_address'\u001b[0m\u001b[39m: \u001b[0m\u001b[1;35mIPv4Address\u001b[0m\u001b[1;39m(\u001b[0m\u001b[32m'10.0.216.160'\u001b[0m\u001b[1;39m)\u001b[0m\u001b[1;39m}\u001b[0m\u001b[1;39m]\u001b[0m\u001b[1;39m}\u001b[0m\u001b[1;39m]\u001b[0m\u001b[39m,\u001b[0m\n",
       "\u001b[39m        \u001b[0m\u001b[32m'Interface'\u001b[0m\u001b[39m: \u001b[0m\u001b[1;39m[\u001b[0m\u001b[1;39m{\u001b[0m\u001b[32m'ip_address'\u001b[0m\u001b[39m: \u001b[0m\u001b[1;35mIPv4Address\u001b[0m\u001b[1;39m(\u001b[0m\u001b[32m'10.0.216.160'\u001b[0m\u001b[1;39m)\u001b[0m\u001b[1;39m}\u001b[0m\u001b[1;39m]\u001b[0m\u001b[39m,\u001b[0m\n",
       "\u001b[39m        \u001b[0m\u001b[32m'System info'\u001b[0m\u001b[39m: \u001b[0m\u001b[1;39m{\u001b[0m\n",
       "\u001b[39m            \u001b[0m\u001b[32m'Hostname'\u001b[0m\u001b[39m: \u001b[0m\u001b[32m'restricted_zone_a_subnet_user_host_3'\u001b[0m\u001b[39m,\u001b[0m\n",
       "\u001b[39m            \u001b[0m\u001b[32m'OSType'\u001b[0m\u001b[39m: <OperatingSystemType.LINUX: \u001b[0m\u001b[1;36m3\u001b[0m\u001b[39m>,\u001b[0m\n",
       "\u001b[39m            \u001b[0m\u001b[32m'OSDistribution'\u001b[0m\u001b[39m: <OperatingSystemDistribution.KALI: \u001b[0m\u001b[1;36m9\u001b[0m\u001b[39m>,\u001b[0m\n",
       "\u001b[39m            \u001b[0m\u001b[32m'OSVersion'\u001b[0m\u001b[39m: <OperatingSystemVersion.K2019_4: \u001b[0m\u001b[1;36m11\u001b[0m\u001b[39m>,\u001b[0m\n",
       "\u001b[39m            \u001b[0m\u001b[32m'Architecture'\u001b[0m\u001b[39m: <Architecture.x64: \u001b[0m\u001b[1;36m2\u001b[0m\u001b[39m>,\u001b[0m\n",
       "\u001b[39m            \u001b[0m\u001b[32m'position'\u001b[0m\u001b[39m: \u001b[0m\u001b[1;35marray\u001b[0m\u001b[1;39m(\u001b[0m\u001b[1;39m[\u001b[0m\u001b[1;36m0\u001b[0m\u001b[39m., \u001b[0m\u001b[1;36m0\u001b[0m\u001b[39m.\u001b[0m\u001b[1;39m]\u001b[0m\u001b[1;39m)\u001b[0m\n",
       "\u001b[39m        \u001b[0m\u001b[1;39m}\u001b[0m\n",
       "\u001b[39m    \u001b[0m\u001b[1;39m}\u001b[0m\u001b[39m,\u001b[0m\n",
       "\u001b[39m    \u001b[0m\u001b[32m'restricted_zone_a_subnet_user_host_5'\u001b[0m\u001b[39m: \u001b[0m\u001b[1;39m{\u001b[0m\n",
       "\u001b[39m        \u001b[0m\u001b[32m'Processes'\u001b[0m\u001b[39m: \u001b[0m\u001b[1;39m[\u001b[0m\u001b[1;39m{\u001b[0m\u001b[32m'Connections'\u001b[0m\u001b[39m: \u001b[0m\u001b[1;39m[\u001b[0m\u001b[1;39m{\u001b[0m\u001b[32m'local_port'\u001b[0m\u001b[39m: \u001b[0m\u001b[1;36m56979\u001b[0m\u001b[39m, \u001b[0m\u001b[32m'local_address'\u001b[0m\u001b[39m: \u001b[0m\u001b[1;35mIPv4Address\u001b[0m\u001b[1;39m(\u001b[0m\u001b[32m'10.0.216.53'\u001b[0m\u001b[1;39m)\u001b[0m\u001b[1;39m}\u001b[0m\u001b[1;39m]\u001b[0m\u001b[1;39m}\u001b[0m\u001b[1;39m]\u001b[0m\u001b[39m,\u001b[0m\n",
       "\u001b[39m        \u001b[0m\u001b[32m'Interface'\u001b[0m\u001b[39m: \u001b[0m\u001b[1;39m[\u001b[0m\u001b[1;39m{\u001b[0m\u001b[32m'ip_address'\u001b[0m\u001b[39m: \u001b[0m\u001b[1;35mIPv4Address\u001b[0m\u001b[1;39m(\u001b[0m\u001b[32m'10.0.216.53'\u001b[0m\u001b[1;39m)\u001b[0m\u001b[1;39m}\u001b[0m\u001b[1;39m]\u001b[0m\u001b[39m,\u001b[0m\n",
       "\u001b[39m        \u001b[0m\u001b[32m'System info'\u001b[0m\u001b[39m: \u001b[0m\u001b[1;39m{\u001b[0m\n",
       "\u001b[39m            \u001b[0m\u001b[32m'Hostname'\u001b[0m\u001b[39m: \u001b[0m\u001b[32m'restricted_zone_a_subnet_user_host_5'\u001b[0m\u001b[39m,\u001b[0m\n",
       "\u001b[39m            \u001b[0m\u001b[32m'OSType'\u001b[0m\u001b[39m: <OperatingSystemType.LINUX: \u001b[0m\u001b[1;36m3\u001b[0m\u001b[39m>,\u001b[0m\n",
       "\u001b[39m            \u001b[0m\u001b[32m'OSDistribution'\u001b[0m\u001b[39m: <OperatingSystemDistribution.KALI: \u001b[0m\u001b[1;36m9\u001b[0m\u001b[39m>,\u001b[0m\n",
       "\u001b[39m            \u001b[0m\u001b[32m'OSVersion'\u001b[0m\u001b[39m: <OperatingSystemVersion.K2019_4: \u001b[0m\u001b[1;36m11\u001b[0m\u001b[39m>,\u001b[0m\n",
       "\u001b[39m            \u001b[0m\u001b[32m'Architecture'\u001b[0m\u001b[39m: <Architecture.x64: \u001b[0m\u001b[1;36m2\u001b[0m\u001b[39m>,\u001b[0m\n",
       "\u001b[39m            \u001b[0m\u001b[32m'position'\u001b[0m\u001b[39m: \u001b[0m\u001b[1;35marray\u001b[0m\u001b[1;39m(\u001b[0m\u001b[1;39m[\u001b[0m\u001b[1;36m0\u001b[0m\u001b[39m., \u001b[0m\u001b[1;36m0\u001b[0m\u001b[39m.\u001b[0m\u001b[1;39m]\u001b[0m\u001b[1;39m)\u001b[0m\n",
       "\u001b[39m        \u001b[0m\u001b[1;39m}\u001b[0m\n",
       "\u001b[39m    \u001b[0m\u001b[1;39m}\u001b[0m\u001b[39m,\u001b[0m\n",
       "\u001b[39m    \u001b[0m\u001b[32m'restricted_zone_a_subnet_server_host_0'\u001b[0m\u001b[39m: \u001b[0m\u001b[1;39m{\u001b[0m\n",
       "\u001b[39m        \u001b[0m\u001b[32m'Processes'\u001b[0m\u001b[39m: \u001b[0m\u001b[1;39m[\u001b[0m\n",
       "\u001b[39m            \u001b[0m\u001b[1;39m{\u001b[0m\n",
       "\u001b[39m                \u001b[0m\u001b[32m'Connections'\u001b[0m\u001b[39m: \u001b[0m\u001b[1;39m[\u001b[0m\n",
       "\u001b[39m                    \u001b[0m\u001b[1;39m{\u001b[0m\n",
       "\u001b[39m                        \u001b[0m\u001b[32m'remote_port'\u001b[0m\u001b[39m: \u001b[0m\u001b[1;36m58802\u001b[0m\u001b[39m,\u001b[0m\n",
       "\u001b[39m                        \u001b[0m\u001b[32m'local_address'\u001b[0m\u001b[39m: \u001b[0m\u001b[1;35mIPv4Address\u001b[0m\u001b[1;39m(\u001b[0m\u001b[32m'10.0.0.229'\u001b[0m\u001b[1;39m)\u001b[0m\u001b[39m,\u001b[0m\n",
       "\u001b[39m                        \u001b[0m\u001b[32m'remote_address'\u001b[0m\u001b[39m: \u001b[0m\u001b[1;35mIPv4Address\u001b[0m\u001b[1;39m(\u001b[0m\u001b[32m'10.0.216.254'\u001b[0m\u001b[1;39m)\u001b[0m\n",
       "\u001b[39m                    \u001b[0m\u001b[1;39m}\u001b[0m\n",
       "\u001b[39m                \u001b[0m\u001b[1;39m]\u001b[0m\n",
       "\u001b[39m            \u001b[0m\u001b[1;39m}\u001b[0m\u001b[39m,\u001b[0m\n",
       "\u001b[39m            \u001b[0m\u001b[1;39m{\u001b[0m\n",
       "\u001b[39m                \u001b[0m\u001b[32m'Connections'\u001b[0m\u001b[39m: \u001b[0m\u001b[1;39m[\u001b[0m\n",
       "\u001b[39m                    \u001b[0m\u001b[1;39m{\u001b[0m\n",
       "\u001b[39m                        \u001b[0m\u001b[32m'remote_port'\u001b[0m\u001b[39m: \u001b[0m\u001b[1;36m50830\u001b[0m\u001b[39m,\u001b[0m\n",
       "\u001b[39m                        \u001b[0m\u001b[32m'local_address'\u001b[0m\u001b[39m: \u001b[0m\u001b[1;35mIPv4Address\u001b[0m\u001b[1;39m(\u001b[0m\u001b[32m'10.0.0.153'\u001b[0m\u001b[1;39m)\u001b[0m\u001b[39m,\u001b[0m\n",
       "\u001b[39m                        \u001b[0m\u001b[32m'remote_address'\u001b[0m\u001b[39m: \u001b[0m\u001b[1;35mIPv4Address\u001b[0m\u001b[1;39m(\u001b[0m\u001b[32m'10.0.216.254'\u001b[0m\u001b[1;39m)\u001b[0m\n",
       "\u001b[39m                    \u001b[0m\u001b[1;39m}\u001b[0m\n",
       "\u001b[39m                \u001b[0m\u001b[1;39m]\u001b[0m\n",
       "\u001b[39m            \u001b[0m\u001b[1;39m}\u001b[0m\n",
       "\u001b[39m        \u001b[0m\u001b[1;39m]\u001b[0m\u001b[39m,\u001b[0m\n",
       "\u001b[39m        \u001b[0m\u001b[32m'Interface'\u001b[0m\u001b[39m: \u001b[0m\u001b[1;39m[\u001b[0m\u001b[1;39m{\u001b[0m\u001b[32m'ip_address'\u001b[0m\u001b[39m: \u001b[0m\u001b[1;35mIPv4Address\u001b[0m\u001b[1;39m(\u001b[0m\u001b[32m'10.0.0.229'\u001b[0m\u001b[1;39m)\u001b[0m\u001b[1;39m}\u001b[0m\u001b[39m, \u001b[0m\u001b[1;39m{\u001b[0m\u001b[32m'ip_address'\u001b[0m\u001b[39m: \u001b[0m\u001b[1;35mIPv4Address\u001b[0m\u001b[1;39m(\u001b[0m\u001b[32m'10.0.0.153'\u001b[0m\u001b[1;39m)\u001b[0m\u001b[1;39m}\u001b[0m\u001b[1;39m]\u001b[0m\u001b[39m,\u001b[0m\n",
       "\u001b[39m        \u001b[0m\u001b[32m'System info'\u001b[0m\u001b[39m: \u001b[0m\u001b[1;39m{\u001b[0m\n",
       "\u001b[39m            \u001b[0m\u001b[32m'Hostname'\u001b[0m\u001b[39m: \u001b[0m\u001b[32m'restricted_zone_a_subnet_server_host_0'\u001b[0m\u001b[39m,\u001b[0m\n",
       "\u001b[39m            \u001b[0m\u001b[32m'OSType'\u001b[0m\u001b[39m: <OperatingSystemType.LINUX: \u001b[0m\u001b[1;36m3\u001b[0m\u001b[39m>,\u001b[0m\n",
       "\u001b[39m            \u001b[0m\u001b[32m'OSDistribution'\u001b[0m\u001b[39m: <OperatingSystemDistribution.KALI: \u001b[0m\u001b[1;36m9\u001b[0m\u001b[39m>,\u001b[0m\n",
       "\u001b[39m            \u001b[0m\u001b[32m'OSVersion'\u001b[0m\u001b[39m: <OperatingSystemVersion.K2019_4: \u001b[0m\u001b[1;36m11\u001b[0m\u001b[39m>,\u001b[0m\n",
       "\u001b[39m            \u001b[0m\u001b[32m'Architecture'\u001b[0m\u001b[39m: <Architecture.x64: \u001b[0m\u001b[1;36m2\u001b[0m\u001b[1m>\u001b[0m,\n",
       "            \u001b[32m'position'\u001b[0m: \u001b[1;35marray\u001b[0m\u001b[1m(\u001b[0m\u001b[1m[\u001b[0m\u001b[1;36m0\u001b[0m., \u001b[1;36m0\u001b[0m.\u001b[1m]\u001b[0m\u001b[1m)\u001b[0m\n",
       "        \u001b[1m}\u001b[0m\n",
       "    \u001b[1m}\u001b[0m\n",
       "\u001b[1m}\u001b[0m\n"
      ]
     },
     "metadata": {},
     "output_type": "display_data"
    }
   ],
   "source": [
    "for agent_name, ai in cyborg.environment_controller.agent_interfaces.items():\n",
    "    # print(\"{}:{}\".format(agent_name, ai))\n",
    "    if 'green' in agent_name and isinstance(ai.agent, EnterpriseGreenAgent):\n",
    "        ai.agent.fp_detection_rate = 1.0\n",
    "\n",
    "obs_2 = cyborg.step(agent='blue_agent_0', action=Sleep()).observation\n",
    "\n",
    "print(\"\\nBlue Agent 0: Step #2 with Green False Positive \\n\")\n",
    "print(obs_2)"
   ]
  },
  {
   "cell_type": "code",
   "execution_count": null,
   "metadata": {},
   "outputs": [],
   "source": []
  }
 ],
 "metadata": {
  "kernelspec": {
   "display_name": "reg-cage-challenge-4",
   "language": "python",
   "name": "python3"
  },
  "language_info": {
   "codemirror_mode": {
    "name": "ipython",
    "version": 3
   },
   "file_extension": ".py",
   "mimetype": "text/x-python",
   "name": "python",
   "nbconvert_exporter": "python",
   "pygments_lexer": "ipython3",
   "version": "3.10.13"
  }
 },
 "nbformat": 4,
 "nbformat_minor": 2
}
