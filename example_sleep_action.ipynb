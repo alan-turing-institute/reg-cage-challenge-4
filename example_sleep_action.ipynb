{
 "cells": [
  {
   "cell_type": "code",
   "execution_count": 3,
   "metadata": {},
   "outputs": [
    {
     "ename": "TypeError",
     "evalue": "object of type 'Sleep' has no len()",
     "output_type": "error",
     "traceback": [
      "\u001b[0;31m---------------------------------------------------------------------------\u001b[0m",
      "\u001b[0;31mTypeError\u001b[0m                                 Traceback (most recent call last)",
      "Cell \u001b[0;32mIn[3], line 32\u001b[0m\n\u001b[1;32m     28\u001b[0m example_action \u001b[38;5;241m=\u001b[39m Sleep() \u001b[38;5;66;03m# action that the agent is going to take\u001b[39;00m\n\u001b[1;32m     30\u001b[0m \u001b[38;5;66;03m# the environment takes a step with the given agent and action, and outputs the results from that step\u001b[39;00m\n\u001b[1;32m     31\u001b[0m \u001b[38;5;66;03m# results = cyborg.step(agent=example_agent_name, action=example_action)\u001b[39;00m\n\u001b[0;32m---> 32\u001b[0m results \u001b[38;5;241m=\u001b[39m \u001b[43mcyborg\u001b[49m\u001b[38;5;241;43m.\u001b[39;49m\u001b[43mparallel_step\u001b[49m\u001b[43m(\u001b[49m\u001b[43mexample_action\u001b[49m\u001b[43m)\u001b[49m\n\u001b[1;32m     34\u001b[0m \u001b[38;5;66;03m# print the observations gained for that agent from that step\u001b[39;00m\n\u001b[1;32m     35\u001b[0m \u001b[38;5;28mprint\u001b[39m(results\u001b[38;5;241m.\u001b[39mobservation)\n",
      "File \u001b[0;32m~/Documents/workspace/reg-cage-challenge-4/CybORG/env.py:111\u001b[0m, in \u001b[0;36mCybORG.parallel_step\u001b[0;34m(self, actions, messages, skip_valid_action_check)\u001b[0m\n\u001b[1;32m     95\u001b[0m \u001b[38;5;28;01mdef\u001b[39;00m \u001b[38;5;21mparallel_step\u001b[39m(\u001b[38;5;28mself\u001b[39m, actions: \u001b[38;5;28mdict\u001b[39m \u001b[38;5;241m=\u001b[39m \u001b[38;5;28;01mNone\u001b[39;00m, messages: \u001b[38;5;28mdict\u001b[39m \u001b[38;5;241m=\u001b[39m \u001b[38;5;28;01mNone\u001b[39;00m, skip_valid_action_check: \u001b[38;5;28mbool\u001b[39m \u001b[38;5;241m=\u001b[39m \u001b[38;5;28;01mFalse\u001b[39;00m) \u001b[38;5;241m-\u001b[39m\u001b[38;5;241m>\u001b[39m Tuple[\u001b[38;5;28mdict\u001b[39m, \u001b[38;5;28mdict\u001b[39m, \u001b[38;5;28mdict\u001b[39m, \u001b[38;5;28mdict\u001b[39m]:\n\u001b[1;32m     96\u001b[0m \u001b[38;5;250m    \u001b[39m\u001b[38;5;124;03m\"\"\"Performs a step in CybORG accepting multiple external agent inputs.\u001b[39;00m\n\u001b[1;32m     97\u001b[0m \u001b[38;5;124;03m        \u001b[39;00m\n\u001b[1;32m     98\u001b[0m \u001b[38;5;124;03m        Used by multiagent scenarios such as CAGE Challenge 3 and CAGE Challenge 4. Actions conceptually occur simultaneously, but in reality occur sequentially according to priority order.\u001b[39;00m\n\u001b[0;32m   (...)\u001b[0m\n\u001b[1;32m    109\u001b[0m \u001b[38;5;124;03m                the result of agent performing the action\u001b[39;00m\n\u001b[1;32m    110\u001b[0m \u001b[38;5;124;03m            \"\"\"\u001b[39;00m\n\u001b[0;32m--> 111\u001b[0m     \u001b[38;5;28;01mif\u001b[39;00m actions \u001b[38;5;129;01mis\u001b[39;00m \u001b[38;5;129;01mnot\u001b[39;00m \u001b[38;5;28;01mNone\u001b[39;00m \u001b[38;5;129;01mand\u001b[39;00m \u001b[38;5;28;43mlen\u001b[39;49m\u001b[43m(\u001b[49m\u001b[43mactions\u001b[49m\u001b[43m)\u001b[49m \u001b[38;5;241m>\u001b[39m \u001b[38;5;241m0\u001b[39m:\n\u001b[1;32m    112\u001b[0m         agents \u001b[38;5;241m=\u001b[39m \u001b[38;5;28mlist\u001b[39m(actions\u001b[38;5;241m.\u001b[39mkeys())\n\u001b[1;32m    113\u001b[0m     \u001b[38;5;28;01melse\u001b[39;00m:\n",
      "\u001b[0;31mTypeError\u001b[0m: object of type 'Sleep' has no len()"
     ]
    }
   ],
   "source": [
    "# import pprint package to allow for better readability of the observation space\n",
    "from rich import print\n",
    "\n",
    "# import CybORG as a package, and all the classes needed for this script\n",
    "from CybORG import CybORG\n",
    "from CybORG.Agents import SleepAgent\n",
    "from CybORG.Simulator.Actions import Sleep\n",
    "from CybORG.Simulator.Scenarios import EnterpriseScenarioGenerator\n",
    "\n",
    "steps = 200     \n",
    "\n",
    "# Initialising the scenario creator for CC4\n",
    "sg = EnterpriseScenarioGenerator(\n",
    "    blue_agent_class=SleepAgent,    # agent class used for the blue agents\n",
    "    green_agent_class=SleepAgent,   # agent class used for the green agents\n",
    "    red_agent_class=SleepAgent,     # agent class used for the red agents\n",
    "    steps=steps                     # the number of steps to take for this episode\n",
    ")\n",
    "\n",
    "# Initialising the CybORG environment with the CC4 scenario generator and a fixed seed \n",
    "# (seed is optional and will be generated randomly if not supplied)\n",
    "cyborg = CybORG(scenario_generator=sg, seed=1000)\n",
    "cyborg.reset()\n",
    "\n",
    "\n",
    "example_agent_name = 'blue_agent_0' # name of the agent that is going to take the action\n",
    "\n",
    "example_action = Sleep() # action that the agent is going to take\n",
    "\n",
    "# the environment takes a step with the given agent and action, and outputs the results from that step\n",
    "# results = cyborg.step(agent=example_agent_name, action=example_action)\n",
    "results = cyborg.step(example_action)\n",
    "\n",
    "# print the observations gained for that agent from that step\n",
    "print(results.observation)"
   ]
  },
  {
   "cell_type": "code",
   "execution_count": 9,
   "metadata": {},
   "outputs": [
    {
     "data": {
      "text/html": [
       "<pre style=\"white-space:pre;overflow-x:auto;line-height:normal;font-family:Menlo,'DejaVu Sans Mono',consolas,'Courier New',monospace\"><span style=\"font-weight: bold\">{</span><span style=\"color: #008000; text-decoration-color: #008000\">'total'</span>: <span style=\"font-weight: bold\">{</span><span style=\"color: #008000; text-decoration-color: #008000\">'blue'</span>: <span style=\"color: #008080; text-decoration-color: #008080; font-weight: bold\">5</span>, <span style=\"color: #008000; text-decoration-color: #008000\">'red'</span>: <span style=\"color: #008080; text-decoration-color: #008080; font-weight: bold\">6</span>, <span style=\"color: #008000; text-decoration-color: #008000\">'green'</span>: <span style=\"color: #008080; text-decoration-color: #008080; font-weight: bold\">57</span><span style=\"font-weight: bold\">}</span>, <span style=\"color: #008000; text-decoration-color: #008000\">'active'</span>: <span style=\"font-weight: bold\">{</span><span style=\"color: #008000; text-decoration-color: #008000\">'blue'</span>: <span style=\"color: #008080; text-decoration-color: #008080; font-weight: bold\">5</span>, <span style=\"color: #008000; text-decoration-color: #008000\">'red'</span>: <span style=\"color: #008080; text-decoration-color: #008080; font-weight: bold\">1</span>, <span style=\"color: #008000; text-decoration-color: #008000\">'green'</span>: <span style=\"color: #008080; text-decoration-color: #008080; font-weight: bold\">57</span><span style=\"font-weight: bold\">}}</span>\n",
       "</pre>\n"
      ],
      "text/plain": [
       "\u001b[1m{\u001b[0m\u001b[32m'total'\u001b[0m: \u001b[1m{\u001b[0m\u001b[32m'blue'\u001b[0m: \u001b[1;36m5\u001b[0m, \u001b[32m'red'\u001b[0m: \u001b[1;36m6\u001b[0m, \u001b[32m'green'\u001b[0m: \u001b[1;36m57\u001b[0m\u001b[1m}\u001b[0m, \u001b[32m'active'\u001b[0m: \u001b[1m{\u001b[0m\u001b[32m'blue'\u001b[0m: \u001b[1;36m5\u001b[0m, \u001b[32m'red'\u001b[0m: \u001b[1;36m1\u001b[0m, \u001b[32m'green'\u001b[0m: \u001b[1;36m57\u001b[0m\u001b[1m}\u001b[0m\u001b[1m}\u001b[0m\n"
      ]
     },
     "metadata": {},
     "output_type": "display_data"
    },
    {
     "data": {
      "text/plain": [
       "dict_keys(['blue_agent_0', 'blue_agent_1', 'blue_agent_2', 'blue_agent_3', 'blue_agent_4'])"
      ]
     },
     "execution_count": 9,
     "metadata": {},
     "output_type": "execute_result"
    }
   ],
   "source": [
    "\n",
    "\n",
    "\n"
   ]
  },
  {
   "cell_type": "code",
   "execution_count": null,
   "metadata": {},
   "outputs": [],
   "source": []
  }
 ],
 "metadata": {
  "kernelspec": {
   "display_name": "cage4",
   "language": "python",
   "name": "python3"
  },
  "language_info": {
   "codemirror_mode": {
    "name": "ipython",
    "version": 3
   },
   "file_extension": ".py",
   "mimetype": "text/x-python",
   "name": "python",
   "nbconvert_exporter": "python",
   "pygments_lexer": "ipython3",
   "version": "3.10.13"
  }
 },
 "nbformat": 4,
 "nbformat_minor": 2
}
