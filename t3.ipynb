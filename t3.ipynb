{
 "cells": [
  {
   "cell_type": "code",
   "execution_count": 5,
   "metadata": {},
   "outputs": [
    {
     "data": {
      "text/plain": [
       "dict_keys(['success', 'restricted_zone_a_subnet_router', 'restricted_zone_a_subnet_user_host_0', 'restricted_zone_a_subnet_user_host_1', 'restricted_zone_a_subnet_user_host_2', 'restricted_zone_a_subnet_user_host_3', 'restricted_zone_a_subnet_user_host_4', 'restricted_zone_a_subnet_user_host_5', 'restricted_zone_a_subnet_user_host_6', 'restricted_zone_a_subnet_user_host_7', 'restricted_zone_a_subnet_user_host_8', 'restricted_zone_a_subnet_user_host_9', 'restricted_zone_a_subnet_server_host_0', 'operational_zone_a_subnet_router', 'operational_zone_a_subnet_user_host_0', 'operational_zone_a_subnet_user_host_1', 'operational_zone_a_subnet_user_host_2', 'operational_zone_a_subnet_user_host_3', 'operational_zone_a_subnet_user_host_4', 'operational_zone_a_subnet_user_host_5', 'operational_zone_a_subnet_user_host_6', 'operational_zone_a_subnet_server_host_0', 'operational_zone_a_subnet_server_host_1', 'operational_zone_a_subnet_server_host_2', 'operational_zone_a_subnet_server_host_3', 'operational_zone_a_subnet_server_host_4', 'restricted_zone_b_subnet_router', 'restricted_zone_b_subnet_user_host_0', 'restricted_zone_b_subnet_user_host_1', 'restricted_zone_b_subnet_user_host_2', 'restricted_zone_b_subnet_user_host_3', 'restricted_zone_b_subnet_user_host_4', 'restricted_zone_b_subnet_user_host_5', 'restricted_zone_b_subnet_server_host_0', 'restricted_zone_b_subnet_server_host_1', 'restricted_zone_b_subnet_server_host_2', 'restricted_zone_b_subnet_server_host_3', 'operational_zone_b_subnet_router', 'operational_zone_b_subnet_user_host_0', 'operational_zone_b_subnet_user_host_1', 'operational_zone_b_subnet_user_host_2', 'operational_zone_b_subnet_user_host_3', 'operational_zone_b_subnet_user_host_4', 'operational_zone_b_subnet_user_host_5', 'operational_zone_b_subnet_user_host_6', 'operational_zone_b_subnet_server_host_0', 'contractor_network_subnet_router', 'contractor_network_subnet_user_host_0', 'contractor_network_subnet_user_host_1', 'contractor_network_subnet_user_host_2', 'contractor_network_subnet_user_host_3', 'contractor_network_subnet_user_host_4', 'contractor_network_subnet_user_host_5', 'contractor_network_subnet_server_host_0', 'contractor_network_subnet_server_host_1', 'contractor_network_subnet_server_host_2', 'public_access_zone_subnet_router', 'public_access_zone_subnet_user_host_0', 'public_access_zone_subnet_user_host_1', 'public_access_zone_subnet_user_host_2', 'public_access_zone_subnet_user_host_3', 'public_access_zone_subnet_user_host_4', 'public_access_zone_subnet_user_host_5', 'public_access_zone_subnet_user_host_6', 'public_access_zone_subnet_user_host_7', 'public_access_zone_subnet_user_host_8', 'public_access_zone_subnet_user_host_9', 'public_access_zone_subnet_server_host_0', 'public_access_zone_subnet_server_host_1', 'public_access_zone_subnet_server_host_2', 'admin_network_subnet_router', 'admin_network_subnet_user_host_0', 'admin_network_subnet_user_host_1', 'admin_network_subnet_user_host_2', 'admin_network_subnet_user_host_3', 'admin_network_subnet_server_host_0', 'admin_network_subnet_server_host_1', 'admin_network_subnet_server_host_2', 'admin_network_subnet_server_host_3', 'office_network_subnet_router', 'office_network_subnet_user_host_0', 'office_network_subnet_user_host_1', 'office_network_subnet_user_host_2', 'office_network_subnet_user_host_3', 'office_network_subnet_user_host_4', 'office_network_subnet_user_host_5', 'office_network_subnet_user_host_6', 'office_network_subnet_server_host_0', 'office_network_subnet_server_host_1', 'office_network_subnet_server_host_2', 'office_network_subnet_server_host_3', 'office_network_subnet_server_host_4', 'root_internet_host_0'])"
      ]
     },
     "execution_count": 5,
     "metadata": {},
     "output_type": "execute_result"
    }
   ],
   "source": [
    "%load_ext autoreload\n",
    "%autoreload 2\n",
    "\n",
    "from rich import print\n",
    "\n",
    "# import CybORG as a package, and all the classes needed for this script\n",
    "from CybORG import CybORG\n",
    "from CybORG.Agents import SleepAgent\n",
    "from CybORG.Simulator.Actions import Sleep\n",
    "from CybORG.Simulator.Scenarios import EnterpriseScenarioGenerator\n",
    "from Utils import utilities\n",
    "from CybORG.Agents.Wrappers import BlueFixedActionWrapper\n",
    "\n",
    "steps = 20   \n",
    "\n",
    "# Initialising the scenario creator for CC4\n",
    "sg = EnterpriseScenarioGenerator(\n",
    "    blue_agent_class=SleepAgent,    # agent class used for the blue agents\n",
    "    green_agent_class=SleepAgent,   # agent class used for the green agents\n",
    "    red_agent_class=SleepAgent,     # agent class used for the red agents\n",
    "    steps=steps                     # the number of steps to take for this episode\n",
    ")\n",
    "\n",
    "# Initialising the CybORG environment with the CC4 scenario generator and a fixed seed \n",
    "# (seed is optional and will be generated randomly if not supplied)\n",
    "env = CybORG(scenario_generator=sg, seed=1000)\n",
    "obs = env.reset() \n",
    "obs.observation.keys()\n"
   ]
  },
  {
   "cell_type": "code",
   "execution_count": 7,
   "metadata": {},
   "outputs": [
    {
     "data": {
      "text/html": [
       "<pre style=\"white-space:pre;overflow-x:auto;line-height:normal;font-family:Menlo,'DejaVu Sans Mono',consolas,'Courier New',monospace\"><span style=\"font-weight: bold\">{</span><span style=\"color: #008000; text-decoration-color: #008000\">'total'</span>: <span style=\"font-weight: bold\">{</span><span style=\"color: #008000; text-decoration-color: #008000\">'blue'</span>: <span style=\"color: #008080; text-decoration-color: #008080; font-weight: bold\">5</span>, <span style=\"color: #008000; text-decoration-color: #008000\">'red'</span>: <span style=\"color: #008080; text-decoration-color: #008080; font-weight: bold\">6</span>, <span style=\"color: #008000; text-decoration-color: #008000\">'green'</span>: <span style=\"color: #008080; text-decoration-color: #008080; font-weight: bold\">58</span><span style=\"font-weight: bold\">}</span>, <span style=\"color: #008000; text-decoration-color: #008000\">'active'</span>: <span style=\"font-weight: bold\">{</span><span style=\"color: #008000; text-decoration-color: #008000\">'blue'</span>: <span style=\"color: #008080; text-decoration-color: #008080; font-weight: bold\">5</span>, <span style=\"color: #008000; text-decoration-color: #008000\">'red'</span>: <span style=\"color: #008080; text-decoration-color: #008080; font-weight: bold\">1</span>, <span style=\"color: #008000; text-decoration-color: #008000\">'green'</span>: <span style=\"color: #008080; text-decoration-color: #008080; font-weight: bold\">58</span><span style=\"font-weight: bold\">}}</span>\n",
       "</pre>\n"
      ],
      "text/plain": [
       "\u001b[1m{\u001b[0m\u001b[32m'total'\u001b[0m: \u001b[1m{\u001b[0m\u001b[32m'blue'\u001b[0m: \u001b[1;36m5\u001b[0m, \u001b[32m'red'\u001b[0m: \u001b[1;36m6\u001b[0m, \u001b[32m'green'\u001b[0m: \u001b[1;36m58\u001b[0m\u001b[1m}\u001b[0m, \u001b[32m'active'\u001b[0m: \u001b[1m{\u001b[0m\u001b[32m'blue'\u001b[0m: \u001b[1;36m5\u001b[0m, \u001b[32m'red'\u001b[0m: \u001b[1;36m1\u001b[0m, \u001b[32m'green'\u001b[0m: \u001b[1;36m58\u001b[0m\u001b[1m}\u001b[0m\u001b[1m}\u001b[0m\n"
      ]
     },
     "metadata": {},
     "output_type": "display_data"
    },
    {
     "data": {
      "text/html": [
       "<pre style=\"white-space:pre;overflow-x:auto;line-height:normal;font-family:Menlo,'DejaVu Sans Mono',consolas,'Courier New',monospace\">Pertaining to: blue_agent_0\n",
       "</pre>\n"
      ],
      "text/plain": [
       "Pertaining to: blue_agent_0\n"
      ]
     },
     "metadata": {},
     "output_type": "display_data"
    },
    {
     "data": {
      "text/html": [
       "<pre style=\"white-space:pre;overflow-x:auto;line-height:normal;font-family:Menlo,'DejaVu Sans Mono',consolas,'Courier New',monospace\"><span style=\"color: #008080; text-decoration-color: #008080; font-weight: bold\">9</span> observations types: \n",
       "<span style=\"color: #800080; text-decoration-color: #800080; font-weight: bold\">dict_keys</span><span style=\"font-weight: bold\">([</span><span style=\"color: #008000; text-decoration-color: #008000\">'success'</span>, <span style=\"color: #008000; text-decoration-color: #008000\">'restricted_zone_a_subnet_router'</span>, <span style=\"color: #008000; text-decoration-color: #008000\">'restricted_zone_a_subnet_user_host_0'</span>, \n",
       "<span style=\"color: #008000; text-decoration-color: #008000\">'restricted_zone_a_subnet_user_host_1'</span>, <span style=\"color: #008000; text-decoration-color: #008000\">'restricted_zone_a_subnet_user_host_2'</span>, \n",
       "<span style=\"color: #008000; text-decoration-color: #008000\">'restricted_zone_a_subnet_user_host_3'</span>, <span style=\"color: #008000; text-decoration-color: #008000\">'restricted_zone_a_subnet_user_host_4'</span>, \n",
       "<span style=\"color: #008000; text-decoration-color: #008000\">'restricted_zone_a_subnet_server_host_0'</span>, <span style=\"color: #008000; text-decoration-color: #008000\">'restricted_zone_a_subnet_server_host_1'</span><span style=\"font-weight: bold\">])</span>\n",
       "</pre>\n"
      ],
      "text/plain": [
       "\u001b[1;36m9\u001b[0m observations types: \n",
       "\u001b[1;35mdict_keys\u001b[0m\u001b[1m(\u001b[0m\u001b[1m[\u001b[0m\u001b[32m'success'\u001b[0m, \u001b[32m'restricted_zone_a_subnet_router'\u001b[0m, \u001b[32m'restricted_zone_a_subnet_user_host_0'\u001b[0m, \n",
       "\u001b[32m'restricted_zone_a_subnet_user_host_1'\u001b[0m, \u001b[32m'restricted_zone_a_subnet_user_host_2'\u001b[0m, \n",
       "\u001b[32m'restricted_zone_a_subnet_user_host_3'\u001b[0m, \u001b[32m'restricted_zone_a_subnet_user_host_4'\u001b[0m, \n",
       "\u001b[32m'restricted_zone_a_subnet_server_host_0'\u001b[0m, \u001b[32m'restricted_zone_a_subnet_server_host_1'\u001b[0m\u001b[1m]\u001b[0m\u001b[1m)\u001b[0m\n"
      ]
     },
     "metadata": {},
     "output_type": "display_data"
    },
    {
     "data": {
      "text/html": [
       "<pre style=\"white-space:pre;overflow-x:auto;line-height:normal;font-family:Menlo,'DejaVu Sans Mono',consolas,'Courier New',monospace\"><span style=\"color: #800080; text-decoration-color: #800080; font-weight: bold\">Discrete</span><span style=\"font-weight: bold\">(</span><span style=\"color: #008080; text-decoration-color: #008080; font-weight: bold\">82</span><span style=\"font-weight: bold\">)</span> actions: \n",
       "Eg. ..<span style=\"font-weight: bold\">[(</span><span style=\"color: #008000; text-decoration-color: #008000\">'Analyse restricted_zone_a_subnet_server_host_1'</span>, <span style=\"color: #00ff00; text-decoration-color: #00ff00; font-style: italic\">True</span><span style=\"font-weight: bold\">)</span>, <span style=\"font-weight: bold\">(</span><span style=\"color: #008000; text-decoration-color: #008000\">'[Invalid] Analyse </span>\n",
       "<span style=\"color: #008000; text-decoration-color: #008000\">restricted_zone_a_subnet_server_host_2'</span>, <span style=\"color: #ff0000; text-decoration-color: #ff0000; font-style: italic\">False</span><span style=\"font-weight: bold\">)</span>, <span style=\"font-weight: bold\">(</span><span style=\"color: #008000; text-decoration-color: #008000\">'[Invalid] Analyse restricted_zone_a_subnet_server_host_3'</span>, \n",
       "<span style=\"color: #ff0000; text-decoration-color: #ff0000; font-style: italic\">False</span><span style=\"font-weight: bold\">)</span>, <span style=\"font-weight: bold\">(</span><span style=\"color: #008000; text-decoration-color: #008000\">'[Invalid] Analyse restricted_zone_a_subnet_server_host_4'</span>, <span style=\"color: #ff0000; text-decoration-color: #ff0000; font-style: italic\">False</span><span style=\"font-weight: bold\">)]</span>\n",
       "</pre>\n"
      ],
      "text/plain": [
       "\u001b[1;35mDiscrete\u001b[0m\u001b[1m(\u001b[0m\u001b[1;36m82\u001b[0m\u001b[1m)\u001b[0m actions: \n",
       "Eg. ..\u001b[1m[\u001b[0m\u001b[1m(\u001b[0m\u001b[32m'Analyse restricted_zone_a_subnet_server_host_1'\u001b[0m, \u001b[3;92mTrue\u001b[0m\u001b[1m)\u001b[0m, \u001b[1m(\u001b[0m\u001b[32m'\u001b[0m\u001b[32m[\u001b[0m\u001b[32mInvalid\u001b[0m\u001b[32m]\u001b[0m\u001b[32m Analyse \u001b[0m\n",
       "\u001b[32mrestricted_zone_a_subnet_server_host_2'\u001b[0m, \u001b[3;91mFalse\u001b[0m\u001b[1m)\u001b[0m, \u001b[1m(\u001b[0m\u001b[32m'\u001b[0m\u001b[32m[\u001b[0m\u001b[32mInvalid\u001b[0m\u001b[32m]\u001b[0m\u001b[32m Analyse restricted_zone_a_subnet_server_host_3'\u001b[0m, \n",
       "\u001b[3;91mFalse\u001b[0m\u001b[1m)\u001b[0m, \u001b[1m(\u001b[0m\u001b[32m'\u001b[0m\u001b[32m[\u001b[0m\u001b[32mInvalid\u001b[0m\u001b[32m]\u001b[0m\u001b[32m Analyse restricted_zone_a_subnet_server_host_4'\u001b[0m, \u001b[3;91mFalse\u001b[0m\u001b[1m)\u001b[0m\u001b[1m]\u001b[0m\n"
      ]
     },
     "metadata": {},
     "output_type": "display_data"
    },
    {
     "data": {
      "text/html": [
       "<pre style=\"white-space:pre;overflow-x:auto;line-height:normal;font-family:Menlo,'DejaVu Sans Mono',consolas,'Courier New',monospace\">Analyse restricted_zone_a_subnet_server_host_0\n",
       "</pre>\n"
      ],
      "text/plain": [
       "Analyse restricted_zone_a_subnet_server_host_0\n"
      ]
     },
     "metadata": {},
     "output_type": "display_data"
    },
    {
     "data": {
      "text/html": [
       "<pre style=\"white-space:pre;overflow-x:auto;line-height:normal;font-family:Menlo,'DejaVu Sans Mono',consolas,'Courier New',monospace\">Analyse restricted_zone_a_subnet_server_host_1\n",
       "</pre>\n"
      ],
      "text/plain": [
       "Analyse restricted_zone_a_subnet_server_host_1\n"
      ]
     },
     "metadata": {},
     "output_type": "display_data"
    },
    {
     "data": {
      "text/html": [
       "<pre style=\"white-space:pre;overflow-x:auto;line-height:normal;font-family:Menlo,'DejaVu Sans Mono',consolas,'Courier New',monospace\">Analyse restricted_zone_a_subnet_user_host_0\n",
       "</pre>\n"
      ],
      "text/plain": [
       "Analyse restricted_zone_a_subnet_user_host_0\n"
      ]
     },
     "metadata": {},
     "output_type": "display_data"
    },
    {
     "data": {
      "text/html": [
       "<pre style=\"white-space:pre;overflow-x:auto;line-height:normal;font-family:Menlo,'DejaVu Sans Mono',consolas,'Courier New',monospace\">Analyse restricted_zone_a_subnet_user_host_1\n",
       "</pre>\n"
      ],
      "text/plain": [
       "Analyse restricted_zone_a_subnet_user_host_1\n"
      ]
     },
     "metadata": {},
     "output_type": "display_data"
    },
    {
     "data": {
      "text/html": [
       "<pre style=\"white-space:pre;overflow-x:auto;line-height:normal;font-family:Menlo,'DejaVu Sans Mono',consolas,'Courier New',monospace\">Analyse restricted_zone_a_subnet_user_host_2\n",
       "</pre>\n"
      ],
      "text/plain": [
       "Analyse restricted_zone_a_subnet_user_host_2\n"
      ]
     },
     "metadata": {},
     "output_type": "display_data"
    },
    {
     "data": {
      "text/html": [
       "<pre style=\"white-space:pre;overflow-x:auto;line-height:normal;font-family:Menlo,'DejaVu Sans Mono',consolas,'Courier New',monospace\">Analyse restricted_zone_a_subnet_user_host_3\n",
       "</pre>\n"
      ],
      "text/plain": [
       "Analyse restricted_zone_a_subnet_user_host_3\n"
      ]
     },
     "metadata": {},
     "output_type": "display_data"
    },
    {
     "data": {
      "text/html": [
       "<pre style=\"white-space:pre;overflow-x:auto;line-height:normal;font-family:Menlo,'DejaVu Sans Mono',consolas,'Courier New',monospace\">Analyse restricted_zone_a_subnet_user_host_4\n",
       "</pre>\n"
      ],
      "text/plain": [
       "Analyse restricted_zone_a_subnet_user_host_4\n"
      ]
     },
     "metadata": {},
     "output_type": "display_data"
    },
    {
     "data": {
      "text/html": [
       "<pre style=\"white-space:pre;overflow-x:auto;line-height:normal;font-family:Menlo,'DejaVu Sans Mono',consolas,'Courier New',monospace\">Monitor\n",
       "</pre>\n"
      ],
      "text/plain": [
       "Monitor\n"
      ]
     },
     "metadata": {},
     "output_type": "display_data"
    },
    {
     "data": {
      "text/html": [
       "<pre style=\"white-space:pre;overflow-x:auto;line-height:normal;font-family:Menlo,'DejaVu Sans Mono',consolas,'Courier New',monospace\">Remove restricted_zone_a_subnet_server_host_0\n",
       "</pre>\n"
      ],
      "text/plain": [
       "Remove restricted_zone_a_subnet_server_host_0\n"
      ]
     },
     "metadata": {},
     "output_type": "display_data"
    },
    {
     "data": {
      "text/html": [
       "<pre style=\"white-space:pre;overflow-x:auto;line-height:normal;font-family:Menlo,'DejaVu Sans Mono',consolas,'Courier New',monospace\">Remove restricted_zone_a_subnet_server_host_1\n",
       "</pre>\n"
      ],
      "text/plain": [
       "Remove restricted_zone_a_subnet_server_host_1\n"
      ]
     },
     "metadata": {},
     "output_type": "display_data"
    },
    {
     "data": {
      "text/html": [
       "<pre style=\"white-space:pre;overflow-x:auto;line-height:normal;font-family:Menlo,'DejaVu Sans Mono',consolas,'Courier New',monospace\">Remove restricted_zone_a_subnet_user_host_0\n",
       "</pre>\n"
      ],
      "text/plain": [
       "Remove restricted_zone_a_subnet_user_host_0\n"
      ]
     },
     "metadata": {},
     "output_type": "display_data"
    },
    {
     "data": {
      "text/html": [
       "<pre style=\"white-space:pre;overflow-x:auto;line-height:normal;font-family:Menlo,'DejaVu Sans Mono',consolas,'Courier New',monospace\">Remove restricted_zone_a_subnet_user_host_1\n",
       "</pre>\n"
      ],
      "text/plain": [
       "Remove restricted_zone_a_subnet_user_host_1\n"
      ]
     },
     "metadata": {},
     "output_type": "display_data"
    },
    {
     "data": {
      "text/html": [
       "<pre style=\"white-space:pre;overflow-x:auto;line-height:normal;font-family:Menlo,'DejaVu Sans Mono',consolas,'Courier New',monospace\">Remove restricted_zone_a_subnet_user_host_2\n",
       "</pre>\n"
      ],
      "text/plain": [
       "Remove restricted_zone_a_subnet_user_host_2\n"
      ]
     },
     "metadata": {},
     "output_type": "display_data"
    },
    {
     "data": {
      "text/html": [
       "<pre style=\"white-space:pre;overflow-x:auto;line-height:normal;font-family:Menlo,'DejaVu Sans Mono',consolas,'Courier New',monospace\">Remove restricted_zone_a_subnet_user_host_3\n",
       "</pre>\n"
      ],
      "text/plain": [
       "Remove restricted_zone_a_subnet_user_host_3\n"
      ]
     },
     "metadata": {},
     "output_type": "display_data"
    },
    {
     "data": {
      "text/html": [
       "<pre style=\"white-space:pre;overflow-x:auto;line-height:normal;font-family:Menlo,'DejaVu Sans Mono',consolas,'Courier New',monospace\">Remove restricted_zone_a_subnet_user_host_4\n",
       "</pre>\n"
      ],
      "text/plain": [
       "Remove restricted_zone_a_subnet_user_host_4\n"
      ]
     },
     "metadata": {},
     "output_type": "display_data"
    },
    {
     "data": {
      "text/html": [
       "<pre style=\"white-space:pre;overflow-x:auto;line-height:normal;font-family:Menlo,'DejaVu Sans Mono',consolas,'Courier New',monospace\">Restore restricted_zone_a_subnet_server_host_0\n",
       "</pre>\n"
      ],
      "text/plain": [
       "Restore restricted_zone_a_subnet_server_host_0\n"
      ]
     },
     "metadata": {},
     "output_type": "display_data"
    },
    {
     "data": {
      "text/html": [
       "<pre style=\"white-space:pre;overflow-x:auto;line-height:normal;font-family:Menlo,'DejaVu Sans Mono',consolas,'Courier New',monospace\">Restore restricted_zone_a_subnet_server_host_1\n",
       "</pre>\n"
      ],
      "text/plain": [
       "Restore restricted_zone_a_subnet_server_host_1\n"
      ]
     },
     "metadata": {},
     "output_type": "display_data"
    },
    {
     "data": {
      "text/html": [
       "<pre style=\"white-space:pre;overflow-x:auto;line-height:normal;font-family:Menlo,'DejaVu Sans Mono',consolas,'Courier New',monospace\">Restore restricted_zone_a_subnet_user_host_0\n",
       "</pre>\n"
      ],
      "text/plain": [
       "Restore restricted_zone_a_subnet_user_host_0\n"
      ]
     },
     "metadata": {},
     "output_type": "display_data"
    },
    {
     "data": {
      "text/html": [
       "<pre style=\"white-space:pre;overflow-x:auto;line-height:normal;font-family:Menlo,'DejaVu Sans Mono',consolas,'Courier New',monospace\">Restore restricted_zone_a_subnet_user_host_1\n",
       "</pre>\n"
      ],
      "text/plain": [
       "Restore restricted_zone_a_subnet_user_host_1\n"
      ]
     },
     "metadata": {},
     "output_type": "display_data"
    },
    {
     "data": {
      "text/html": [
       "<pre style=\"white-space:pre;overflow-x:auto;line-height:normal;font-family:Menlo,'DejaVu Sans Mono',consolas,'Courier New',monospace\">Restore restricted_zone_a_subnet_user_host_2\n",
       "</pre>\n"
      ],
      "text/plain": [
       "Restore restricted_zone_a_subnet_user_host_2\n"
      ]
     },
     "metadata": {},
     "output_type": "display_data"
    },
    {
     "data": {
      "text/html": [
       "<pre style=\"white-space:pre;overflow-x:auto;line-height:normal;font-family:Menlo,'DejaVu Sans Mono',consolas,'Courier New',monospace\">Restore restricted_zone_a_subnet_user_host_3\n",
       "</pre>\n"
      ],
      "text/plain": [
       "Restore restricted_zone_a_subnet_user_host_3\n"
      ]
     },
     "metadata": {},
     "output_type": "display_data"
    },
    {
     "data": {
      "text/html": [
       "<pre style=\"white-space:pre;overflow-x:auto;line-height:normal;font-family:Menlo,'DejaVu Sans Mono',consolas,'Courier New',monospace\">Restore restricted_zone_a_subnet_user_host_4\n",
       "</pre>\n"
      ],
      "text/plain": [
       "Restore restricted_zone_a_subnet_user_host_4\n"
      ]
     },
     "metadata": {},
     "output_type": "display_data"
    },
    {
     "data": {
      "text/html": [
       "<pre style=\"white-space:pre;overflow-x:auto;line-height:normal;font-family:Menlo,'DejaVu Sans Mono',consolas,'Courier New',monospace\">Sleep\n",
       "</pre>\n"
      ],
      "text/plain": [
       "Sleep\n"
      ]
     },
     "metadata": {},
     "output_type": "display_data"
    },
    {
     "data": {
      "text/html": [
       "<pre style=\"white-space:pre;overflow-x:auto;line-height:normal;font-family:Menlo,'DejaVu Sans Mono',consolas,'Courier New',monospace\">AllowTrafficZone restricted_zone_a_subnet <span style=\"font-weight: bold\">(</span><span style=\"color: #00ff00; text-decoration-color: #00ff00; font-weight: bold\">10.0.193.0</span>/<span style=\"color: #008080; text-decoration-color: #008080; font-weight: bold\">24</span><span style=\"font-weight: bold\">)</span> &lt;- admin_network_subnet <span style=\"font-weight: bold\">(</span><span style=\"color: #00ff00; text-decoration-color: #00ff00; font-weight: bold\">10.0.82.0</span>/<span style=\"color: #008080; text-decoration-color: #008080; font-weight: bold\">24</span><span style=\"font-weight: bold\">)</span>\n",
       "</pre>\n"
      ],
      "text/plain": [
       "AllowTrafficZone restricted_zone_a_subnet \u001b[1m(\u001b[0m\u001b[1;92m10.0.193.0\u001b[0m/\u001b[1;36m24\u001b[0m\u001b[1m)\u001b[0m <- admin_network_subnet \u001b[1m(\u001b[0m\u001b[1;92m10.0.82.0\u001b[0m/\u001b[1;36m24\u001b[0m\u001b[1m)\u001b[0m\n"
      ]
     },
     "metadata": {},
     "output_type": "display_data"
    },
    {
     "data": {
      "text/html": [
       "<pre style=\"white-space:pre;overflow-x:auto;line-height:normal;font-family:Menlo,'DejaVu Sans Mono',consolas,'Courier New',monospace\">AllowTrafficZone restricted_zone_a_subnet <span style=\"font-weight: bold\">(</span><span style=\"color: #00ff00; text-decoration-color: #00ff00; font-weight: bold\">10.0.193.0</span>/<span style=\"color: #008080; text-decoration-color: #008080; font-weight: bold\">24</span><span style=\"font-weight: bold\">)</span> &lt;- contractor_network_subnet <span style=\"font-weight: bold\">(</span><span style=\"color: #00ff00; text-decoration-color: #00ff00; font-weight: bold\">10.0.207.0</span>/<span style=\"color: #008080; text-decoration-color: #008080; font-weight: bold\">24</span><span style=\"font-weight: bold\">)</span>\n",
       "</pre>\n"
      ],
      "text/plain": [
       "AllowTrafficZone restricted_zone_a_subnet \u001b[1m(\u001b[0m\u001b[1;92m10.0.193.0\u001b[0m/\u001b[1;36m24\u001b[0m\u001b[1m)\u001b[0m <- contractor_network_subnet \u001b[1m(\u001b[0m\u001b[1;92m10.0.207.0\u001b[0m/\u001b[1;36m24\u001b[0m\u001b[1m)\u001b[0m\n"
      ]
     },
     "metadata": {},
     "output_type": "display_data"
    },
    {
     "data": {
      "text/html": [
       "<pre style=\"white-space:pre;overflow-x:auto;line-height:normal;font-family:Menlo,'DejaVu Sans Mono',consolas,'Courier New',monospace\">AllowTrafficZone restricted_zone_a_subnet <span style=\"font-weight: bold\">(</span><span style=\"color: #00ff00; text-decoration-color: #00ff00; font-weight: bold\">10.0.193.0</span>/<span style=\"color: #008080; text-decoration-color: #008080; font-weight: bold\">24</span><span style=\"font-weight: bold\">)</span> &lt;- internet_subnet <span style=\"font-weight: bold\">(</span><span style=\"color: #00ff00; text-decoration-color: #00ff00; font-weight: bold\">10.0.210.0</span>/<span style=\"color: #008080; text-decoration-color: #008080; font-weight: bold\">24</span><span style=\"font-weight: bold\">)</span>\n",
       "</pre>\n"
      ],
      "text/plain": [
       "AllowTrafficZone restricted_zone_a_subnet \u001b[1m(\u001b[0m\u001b[1;92m10.0.193.0\u001b[0m/\u001b[1;36m24\u001b[0m\u001b[1m)\u001b[0m <- internet_subnet \u001b[1m(\u001b[0m\u001b[1;92m10.0.210.0\u001b[0m/\u001b[1;36m24\u001b[0m\u001b[1m)\u001b[0m\n"
      ]
     },
     "metadata": {},
     "output_type": "display_data"
    },
    {
     "data": {
      "text/html": [
       "<pre style=\"white-space:pre;overflow-x:auto;line-height:normal;font-family:Menlo,'DejaVu Sans Mono',consolas,'Courier New',monospace\">AllowTrafficZone restricted_zone_a_subnet <span style=\"font-weight: bold\">(</span><span style=\"color: #00ff00; text-decoration-color: #00ff00; font-weight: bold\">10.0.193.0</span>/<span style=\"color: #008080; text-decoration-color: #008080; font-weight: bold\">24</span><span style=\"font-weight: bold\">)</span> &lt;- office_network_subnet <span style=\"font-weight: bold\">(</span><span style=\"color: #00ff00; text-decoration-color: #00ff00; font-weight: bold\">10.0.239.0</span>/<span style=\"color: #008080; text-decoration-color: #008080; font-weight: bold\">24</span><span style=\"font-weight: bold\">)</span>\n",
       "</pre>\n"
      ],
      "text/plain": [
       "AllowTrafficZone restricted_zone_a_subnet \u001b[1m(\u001b[0m\u001b[1;92m10.0.193.0\u001b[0m/\u001b[1;36m24\u001b[0m\u001b[1m)\u001b[0m <- office_network_subnet \u001b[1m(\u001b[0m\u001b[1;92m10.0.239.0\u001b[0m/\u001b[1;36m24\u001b[0m\u001b[1m)\u001b[0m\n"
      ]
     },
     "metadata": {},
     "output_type": "display_data"
    },
    {
     "data": {
      "text/html": [
       "<pre style=\"white-space:pre;overflow-x:auto;line-height:normal;font-family:Menlo,'DejaVu Sans Mono',consolas,'Courier New',monospace\">AllowTrafficZone restricted_zone_a_subnet <span style=\"font-weight: bold\">(</span><span style=\"color: #00ff00; text-decoration-color: #00ff00; font-weight: bold\">10.0.193.0</span>/<span style=\"color: #008080; text-decoration-color: #008080; font-weight: bold\">24</span><span style=\"font-weight: bold\">)</span> &lt;- operational_zone_a_subnet <span style=\"font-weight: bold\">(</span><span style=\"color: #00ff00; text-decoration-color: #00ff00; font-weight: bold\">10.0.31.0</span>/<span style=\"color: #008080; text-decoration-color: #008080; font-weight: bold\">24</span><span style=\"font-weight: bold\">)</span>\n",
       "</pre>\n"
      ],
      "text/plain": [
       "AllowTrafficZone restricted_zone_a_subnet \u001b[1m(\u001b[0m\u001b[1;92m10.0.193.0\u001b[0m/\u001b[1;36m24\u001b[0m\u001b[1m)\u001b[0m <- operational_zone_a_subnet \u001b[1m(\u001b[0m\u001b[1;92m10.0.31.0\u001b[0m/\u001b[1;36m24\u001b[0m\u001b[1m)\u001b[0m\n"
      ]
     },
     "metadata": {},
     "output_type": "display_data"
    },
    {
     "data": {
      "text/html": [
       "<pre style=\"white-space:pre;overflow-x:auto;line-height:normal;font-family:Menlo,'DejaVu Sans Mono',consolas,'Courier New',monospace\">AllowTrafficZone restricted_zone_a_subnet <span style=\"font-weight: bold\">(</span><span style=\"color: #00ff00; text-decoration-color: #00ff00; font-weight: bold\">10.0.193.0</span>/<span style=\"color: #008080; text-decoration-color: #008080; font-weight: bold\">24</span><span style=\"font-weight: bold\">)</span> &lt;- operational_zone_b_subnet <span style=\"font-weight: bold\">(</span><span style=\"color: #00ff00; text-decoration-color: #00ff00; font-weight: bold\">10.0.142.0</span>/<span style=\"color: #008080; text-decoration-color: #008080; font-weight: bold\">24</span><span style=\"font-weight: bold\">)</span>\n",
       "</pre>\n"
      ],
      "text/plain": [
       "AllowTrafficZone restricted_zone_a_subnet \u001b[1m(\u001b[0m\u001b[1;92m10.0.193.0\u001b[0m/\u001b[1;36m24\u001b[0m\u001b[1m)\u001b[0m <- operational_zone_b_subnet \u001b[1m(\u001b[0m\u001b[1;92m10.0.142.0\u001b[0m/\u001b[1;36m24\u001b[0m\u001b[1m)\u001b[0m\n"
      ]
     },
     "metadata": {},
     "output_type": "display_data"
    },
    {
     "data": {
      "text/html": [
       "<pre style=\"white-space:pre;overflow-x:auto;line-height:normal;font-family:Menlo,'DejaVu Sans Mono',consolas,'Courier New',monospace\">AllowTrafficZone restricted_zone_a_subnet <span style=\"font-weight: bold\">(</span><span style=\"color: #00ff00; text-decoration-color: #00ff00; font-weight: bold\">10.0.193.0</span>/<span style=\"color: #008080; text-decoration-color: #008080; font-weight: bold\">24</span><span style=\"font-weight: bold\">)</span> &lt;- public_access_zone_subnet <span style=\"font-weight: bold\">(</span><span style=\"color: #00ff00; text-decoration-color: #00ff00; font-weight: bold\">10.0.203.0</span>/<span style=\"color: #008080; text-decoration-color: #008080; font-weight: bold\">24</span><span style=\"font-weight: bold\">)</span>\n",
       "</pre>\n"
      ],
      "text/plain": [
       "AllowTrafficZone restricted_zone_a_subnet \u001b[1m(\u001b[0m\u001b[1;92m10.0.193.0\u001b[0m/\u001b[1;36m24\u001b[0m\u001b[1m)\u001b[0m <- public_access_zone_subnet \u001b[1m(\u001b[0m\u001b[1;92m10.0.203.0\u001b[0m/\u001b[1;36m24\u001b[0m\u001b[1m)\u001b[0m\n"
      ]
     },
     "metadata": {},
     "output_type": "display_data"
    },
    {
     "data": {
      "text/html": [
       "<pre style=\"white-space:pre;overflow-x:auto;line-height:normal;font-family:Menlo,'DejaVu Sans Mono',consolas,'Courier New',monospace\">AllowTrafficZone restricted_zone_a_subnet <span style=\"font-weight: bold\">(</span><span style=\"color: #00ff00; text-decoration-color: #00ff00; font-weight: bold\">10.0.193.0</span>/<span style=\"color: #008080; text-decoration-color: #008080; font-weight: bold\">24</span><span style=\"font-weight: bold\">)</span> &lt;- restricted_zone_b_subnet <span style=\"font-weight: bold\">(</span><span style=\"color: #00ff00; text-decoration-color: #00ff00; font-weight: bold\">10.0.79.0</span>/<span style=\"color: #008080; text-decoration-color: #008080; font-weight: bold\">24</span><span style=\"font-weight: bold\">)</span>\n",
       "</pre>\n"
      ],
      "text/plain": [
       "AllowTrafficZone restricted_zone_a_subnet \u001b[1m(\u001b[0m\u001b[1;92m10.0.193.0\u001b[0m/\u001b[1;36m24\u001b[0m\u001b[1m)\u001b[0m <- restricted_zone_b_subnet \u001b[1m(\u001b[0m\u001b[1;92m10.0.79.0\u001b[0m/\u001b[1;36m24\u001b[0m\u001b[1m)\u001b[0m\n"
      ]
     },
     "metadata": {},
     "output_type": "display_data"
    },
    {
     "data": {
      "text/html": [
       "<pre style=\"white-space:pre;overflow-x:auto;line-height:normal;font-family:Menlo,'DejaVu Sans Mono',consolas,'Courier New',monospace\">BlockTrafficZone restricted_zone_a_subnet <span style=\"font-weight: bold\">(</span><span style=\"color: #00ff00; text-decoration-color: #00ff00; font-weight: bold\">10.0.193.0</span>/<span style=\"color: #008080; text-decoration-color: #008080; font-weight: bold\">24</span><span style=\"font-weight: bold\">)</span> &lt;- admin_network_subnet <span style=\"font-weight: bold\">(</span><span style=\"color: #00ff00; text-decoration-color: #00ff00; font-weight: bold\">10.0.82.0</span>/<span style=\"color: #008080; text-decoration-color: #008080; font-weight: bold\">24</span><span style=\"font-weight: bold\">)</span>\n",
       "</pre>\n"
      ],
      "text/plain": [
       "BlockTrafficZone restricted_zone_a_subnet \u001b[1m(\u001b[0m\u001b[1;92m10.0.193.0\u001b[0m/\u001b[1;36m24\u001b[0m\u001b[1m)\u001b[0m <- admin_network_subnet \u001b[1m(\u001b[0m\u001b[1;92m10.0.82.0\u001b[0m/\u001b[1;36m24\u001b[0m\u001b[1m)\u001b[0m\n"
      ]
     },
     "metadata": {},
     "output_type": "display_data"
    },
    {
     "data": {
      "text/html": [
       "<pre style=\"white-space:pre;overflow-x:auto;line-height:normal;font-family:Menlo,'DejaVu Sans Mono',consolas,'Courier New',monospace\">BlockTrafficZone restricted_zone_a_subnet <span style=\"font-weight: bold\">(</span><span style=\"color: #00ff00; text-decoration-color: #00ff00; font-weight: bold\">10.0.193.0</span>/<span style=\"color: #008080; text-decoration-color: #008080; font-weight: bold\">24</span><span style=\"font-weight: bold\">)</span> &lt;- contractor_network_subnet <span style=\"font-weight: bold\">(</span><span style=\"color: #00ff00; text-decoration-color: #00ff00; font-weight: bold\">10.0.207.0</span>/<span style=\"color: #008080; text-decoration-color: #008080; font-weight: bold\">24</span><span style=\"font-weight: bold\">)</span>\n",
       "</pre>\n"
      ],
      "text/plain": [
       "BlockTrafficZone restricted_zone_a_subnet \u001b[1m(\u001b[0m\u001b[1;92m10.0.193.0\u001b[0m/\u001b[1;36m24\u001b[0m\u001b[1m)\u001b[0m <- contractor_network_subnet \u001b[1m(\u001b[0m\u001b[1;92m10.0.207.0\u001b[0m/\u001b[1;36m24\u001b[0m\u001b[1m)\u001b[0m\n"
      ]
     },
     "metadata": {},
     "output_type": "display_data"
    },
    {
     "data": {
      "text/html": [
       "<pre style=\"white-space:pre;overflow-x:auto;line-height:normal;font-family:Menlo,'DejaVu Sans Mono',consolas,'Courier New',monospace\">BlockTrafficZone restricted_zone_a_subnet <span style=\"font-weight: bold\">(</span><span style=\"color: #00ff00; text-decoration-color: #00ff00; font-weight: bold\">10.0.193.0</span>/<span style=\"color: #008080; text-decoration-color: #008080; font-weight: bold\">24</span><span style=\"font-weight: bold\">)</span> &lt;- internet_subnet <span style=\"font-weight: bold\">(</span><span style=\"color: #00ff00; text-decoration-color: #00ff00; font-weight: bold\">10.0.210.0</span>/<span style=\"color: #008080; text-decoration-color: #008080; font-weight: bold\">24</span><span style=\"font-weight: bold\">)</span>\n",
       "</pre>\n"
      ],
      "text/plain": [
       "BlockTrafficZone restricted_zone_a_subnet \u001b[1m(\u001b[0m\u001b[1;92m10.0.193.0\u001b[0m/\u001b[1;36m24\u001b[0m\u001b[1m)\u001b[0m <- internet_subnet \u001b[1m(\u001b[0m\u001b[1;92m10.0.210.0\u001b[0m/\u001b[1;36m24\u001b[0m\u001b[1m)\u001b[0m\n"
      ]
     },
     "metadata": {},
     "output_type": "display_data"
    },
    {
     "data": {
      "text/html": [
       "<pre style=\"white-space:pre;overflow-x:auto;line-height:normal;font-family:Menlo,'DejaVu Sans Mono',consolas,'Courier New',monospace\">BlockTrafficZone restricted_zone_a_subnet <span style=\"font-weight: bold\">(</span><span style=\"color: #00ff00; text-decoration-color: #00ff00; font-weight: bold\">10.0.193.0</span>/<span style=\"color: #008080; text-decoration-color: #008080; font-weight: bold\">24</span><span style=\"font-weight: bold\">)</span> &lt;- office_network_subnet <span style=\"font-weight: bold\">(</span><span style=\"color: #00ff00; text-decoration-color: #00ff00; font-weight: bold\">10.0.239.0</span>/<span style=\"color: #008080; text-decoration-color: #008080; font-weight: bold\">24</span><span style=\"font-weight: bold\">)</span>\n",
       "</pre>\n"
      ],
      "text/plain": [
       "BlockTrafficZone restricted_zone_a_subnet \u001b[1m(\u001b[0m\u001b[1;92m10.0.193.0\u001b[0m/\u001b[1;36m24\u001b[0m\u001b[1m)\u001b[0m <- office_network_subnet \u001b[1m(\u001b[0m\u001b[1;92m10.0.239.0\u001b[0m/\u001b[1;36m24\u001b[0m\u001b[1m)\u001b[0m\n"
      ]
     },
     "metadata": {},
     "output_type": "display_data"
    },
    {
     "data": {
      "text/html": [
       "<pre style=\"white-space:pre;overflow-x:auto;line-height:normal;font-family:Menlo,'DejaVu Sans Mono',consolas,'Courier New',monospace\">BlockTrafficZone restricted_zone_a_subnet <span style=\"font-weight: bold\">(</span><span style=\"color: #00ff00; text-decoration-color: #00ff00; font-weight: bold\">10.0.193.0</span>/<span style=\"color: #008080; text-decoration-color: #008080; font-weight: bold\">24</span><span style=\"font-weight: bold\">)</span> &lt;- operational_zone_a_subnet <span style=\"font-weight: bold\">(</span><span style=\"color: #00ff00; text-decoration-color: #00ff00; font-weight: bold\">10.0.31.0</span>/<span style=\"color: #008080; text-decoration-color: #008080; font-weight: bold\">24</span><span style=\"font-weight: bold\">)</span>\n",
       "</pre>\n"
      ],
      "text/plain": [
       "BlockTrafficZone restricted_zone_a_subnet \u001b[1m(\u001b[0m\u001b[1;92m10.0.193.0\u001b[0m/\u001b[1;36m24\u001b[0m\u001b[1m)\u001b[0m <- operational_zone_a_subnet \u001b[1m(\u001b[0m\u001b[1;92m10.0.31.0\u001b[0m/\u001b[1;36m24\u001b[0m\u001b[1m)\u001b[0m\n"
      ]
     },
     "metadata": {},
     "output_type": "display_data"
    },
    {
     "data": {
      "text/html": [
       "<pre style=\"white-space:pre;overflow-x:auto;line-height:normal;font-family:Menlo,'DejaVu Sans Mono',consolas,'Courier New',monospace\">BlockTrafficZone restricted_zone_a_subnet <span style=\"font-weight: bold\">(</span><span style=\"color: #00ff00; text-decoration-color: #00ff00; font-weight: bold\">10.0.193.0</span>/<span style=\"color: #008080; text-decoration-color: #008080; font-weight: bold\">24</span><span style=\"font-weight: bold\">)</span> &lt;- operational_zone_b_subnet <span style=\"font-weight: bold\">(</span><span style=\"color: #00ff00; text-decoration-color: #00ff00; font-weight: bold\">10.0.142.0</span>/<span style=\"color: #008080; text-decoration-color: #008080; font-weight: bold\">24</span><span style=\"font-weight: bold\">)</span>\n",
       "</pre>\n"
      ],
      "text/plain": [
       "BlockTrafficZone restricted_zone_a_subnet \u001b[1m(\u001b[0m\u001b[1;92m10.0.193.0\u001b[0m/\u001b[1;36m24\u001b[0m\u001b[1m)\u001b[0m <- operational_zone_b_subnet \u001b[1m(\u001b[0m\u001b[1;92m10.0.142.0\u001b[0m/\u001b[1;36m24\u001b[0m\u001b[1m)\u001b[0m\n"
      ]
     },
     "metadata": {},
     "output_type": "display_data"
    },
    {
     "data": {
      "text/html": [
       "<pre style=\"white-space:pre;overflow-x:auto;line-height:normal;font-family:Menlo,'DejaVu Sans Mono',consolas,'Courier New',monospace\">BlockTrafficZone restricted_zone_a_subnet <span style=\"font-weight: bold\">(</span><span style=\"color: #00ff00; text-decoration-color: #00ff00; font-weight: bold\">10.0.193.0</span>/<span style=\"color: #008080; text-decoration-color: #008080; font-weight: bold\">24</span><span style=\"font-weight: bold\">)</span> &lt;- public_access_zone_subnet <span style=\"font-weight: bold\">(</span><span style=\"color: #00ff00; text-decoration-color: #00ff00; font-weight: bold\">10.0.203.0</span>/<span style=\"color: #008080; text-decoration-color: #008080; font-weight: bold\">24</span><span style=\"font-weight: bold\">)</span>\n",
       "</pre>\n"
      ],
      "text/plain": [
       "BlockTrafficZone restricted_zone_a_subnet \u001b[1m(\u001b[0m\u001b[1;92m10.0.193.0\u001b[0m/\u001b[1;36m24\u001b[0m\u001b[1m)\u001b[0m <- public_access_zone_subnet \u001b[1m(\u001b[0m\u001b[1;92m10.0.203.0\u001b[0m/\u001b[1;36m24\u001b[0m\u001b[1m)\u001b[0m\n"
      ]
     },
     "metadata": {},
     "output_type": "display_data"
    },
    {
     "data": {
      "text/html": [
       "<pre style=\"white-space:pre;overflow-x:auto;line-height:normal;font-family:Menlo,'DejaVu Sans Mono',consolas,'Courier New',monospace\">BlockTrafficZone restricted_zone_a_subnet <span style=\"font-weight: bold\">(</span><span style=\"color: #00ff00; text-decoration-color: #00ff00; font-weight: bold\">10.0.193.0</span>/<span style=\"color: #008080; text-decoration-color: #008080; font-weight: bold\">24</span><span style=\"font-weight: bold\">)</span> &lt;- restricted_zone_b_subnet <span style=\"font-weight: bold\">(</span><span style=\"color: #00ff00; text-decoration-color: #00ff00; font-weight: bold\">10.0.79.0</span>/<span style=\"color: #008080; text-decoration-color: #008080; font-weight: bold\">24</span><span style=\"font-weight: bold\">)</span>\n",
       "</pre>\n"
      ],
      "text/plain": [
       "BlockTrafficZone restricted_zone_a_subnet \u001b[1m(\u001b[0m\u001b[1;92m10.0.193.0\u001b[0m/\u001b[1;36m24\u001b[0m\u001b[1m)\u001b[0m <- restricted_zone_b_subnet \u001b[1m(\u001b[0m\u001b[1;92m10.0.79.0\u001b[0m/\u001b[1;36m24\u001b[0m\u001b[1m)\u001b[0m\n"
      ]
     },
     "metadata": {},
     "output_type": "display_data"
    },
    {
     "data": {
      "text/html": [
       "<pre style=\"white-space:pre;overflow-x:auto;line-height:normal;font-family:Menlo,'DejaVu Sans Mono',consolas,'Courier New',monospace\">DeployDecoy restricted_zone_a_subnet_server_host_0\n",
       "</pre>\n"
      ],
      "text/plain": [
       "DeployDecoy restricted_zone_a_subnet_server_host_0\n"
      ]
     },
     "metadata": {},
     "output_type": "display_data"
    },
    {
     "data": {
      "text/html": [
       "<pre style=\"white-space:pre;overflow-x:auto;line-height:normal;font-family:Menlo,'DejaVu Sans Mono',consolas,'Courier New',monospace\">DeployDecoy restricted_zone_a_subnet_server_host_1\n",
       "</pre>\n"
      ],
      "text/plain": [
       "DeployDecoy restricted_zone_a_subnet_server_host_1\n"
      ]
     },
     "metadata": {},
     "output_type": "display_data"
    },
    {
     "data": {
      "text/html": [
       "<pre style=\"white-space:pre;overflow-x:auto;line-height:normal;font-family:Menlo,'DejaVu Sans Mono',consolas,'Courier New',monospace\">DeployDecoy restricted_zone_a_subnet_user_host_0\n",
       "</pre>\n"
      ],
      "text/plain": [
       "DeployDecoy restricted_zone_a_subnet_user_host_0\n"
      ]
     },
     "metadata": {},
     "output_type": "display_data"
    },
    {
     "data": {
      "text/html": [
       "<pre style=\"white-space:pre;overflow-x:auto;line-height:normal;font-family:Menlo,'DejaVu Sans Mono',consolas,'Courier New',monospace\">DeployDecoy restricted_zone_a_subnet_user_host_1\n",
       "</pre>\n"
      ],
      "text/plain": [
       "DeployDecoy restricted_zone_a_subnet_user_host_1\n"
      ]
     },
     "metadata": {},
     "output_type": "display_data"
    },
    {
     "data": {
      "text/html": [
       "<pre style=\"white-space:pre;overflow-x:auto;line-height:normal;font-family:Menlo,'DejaVu Sans Mono',consolas,'Courier New',monospace\">DeployDecoy restricted_zone_a_subnet_user_host_2\n",
       "</pre>\n"
      ],
      "text/plain": [
       "DeployDecoy restricted_zone_a_subnet_user_host_2\n"
      ]
     },
     "metadata": {},
     "output_type": "display_data"
    },
    {
     "data": {
      "text/html": [
       "<pre style=\"white-space:pre;overflow-x:auto;line-height:normal;font-family:Menlo,'DejaVu Sans Mono',consolas,'Courier New',monospace\">DeployDecoy restricted_zone_a_subnet_user_host_3\n",
       "</pre>\n"
      ],
      "text/plain": [
       "DeployDecoy restricted_zone_a_subnet_user_host_3\n"
      ]
     },
     "metadata": {},
     "output_type": "display_data"
    },
    {
     "data": {
      "text/html": [
       "<pre style=\"white-space:pre;overflow-x:auto;line-height:normal;font-family:Menlo,'DejaVu Sans Mono',consolas,'Courier New',monospace\">DeployDecoy restricted_zone_a_subnet_user_host_4\n",
       "</pre>\n"
      ],
      "text/plain": [
       "DeployDecoy restricted_zone_a_subnet_user_host_4\n"
      ]
     },
     "metadata": {},
     "output_type": "display_data"
    },
    {
     "data": {
      "text/plain": [
       "'Restore restricted_zone_a_subnet_user_host_0'"
      ]
     },
     "execution_count": 7,
     "metadata": {},
     "output_type": "execute_result"
    }
   ],
   "source": [
    "\n",
    "print(utilities.agentDemographic(env))\n",
    "blue_env = BlueFixedActionWrapper(env=env)\n",
    "blue_obs, blue_info = blue_env.reset() \n",
    "# obs is observations of all blue agents\n",
    "\n",
    "aBlueAgent:str = next(iter(blue_obs))\n",
    "utilities.about_blue_agent(blue_env, blue_obs, aBlueAgent)\n",
    "random_action = utilities.get_random_valid_action(blue_env, aBlueAgent)\n",
    "random_action"
   ]
  },
  {
   "cell_type": "code",
   "execution_count": 10,
   "metadata": {},
   "outputs": [
    {
     "name": "stdout",
     "output_type": "stream",
     "text": [
      "Host Processes Table: Subnet RESTRICTED_ZONE_A \n",
      "\n",
      "+----------------------------------------+------+---------------------+-----------+----------+---------------+-----+\n",
      "|                Hostname                | PID  |         Name        |    Type   | Username |    Session    | SID |\n",
      "+----------------------------------------+------+---------------------+-----------+----------+---------------+-----+\n",
      "|    restricted_zone_a_subnet_router     |  2   |       UNKNOWN       |     -     |  ubuntu  |  blue_agent_0 |  1  |\n",
      "+----------------------------------------+------+---------------------+-----------+----------+---------------+-----+\n",
      "|  restricted_zone_a_subnet_user_host_0  | 2193 |   ProcessName.SSHD  |    SSH    |   user   |       -       |  -  |\n",
      "|                   \"                    | 3502 |   ProcessName.SMTP  |    SMTP   |   user   |       -       |  -  |\n",
      "|                   \"                    | 9550 |  ProcessName.MYSQLD |   MYSQL   |   user   |       -       |  -  |\n",
      "|                   \"                    | 9558 |       UNKNOWN       |     -     |  ubuntu  |  blue_agent_0 |  2  |\n",
      "|                   \"                    | 9559 |     GREY_SESSION    |     -     |  ubuntu  | green_agent_0 |  0  |\n",
      "+----------------------------------------+------+---------------------+-----------+----------+---------------+-----+\n",
      "|  restricted_zone_a_subnet_user_host_1  | 2368 |   ProcessName.SSHD  |    SSH    |   user   |       -       |  -  |\n",
      "|                   \"                    | 8290 |   ProcessName.SMTP  |    SMTP   |   user   |       -       |  -  |\n",
      "|                   \"                    | 6254 |  ProcessName.MYSQLD |   MYSQL   |   user   |       -       |  -  |\n",
      "|                   \"                    | 8291 | VELOCIRAPTOR_SERVER |     -     |  ubuntu  |  blue_agent_0 |  0  |\n",
      "|                   \"                    | 8297 |     GREY_SESSION    |     -     |  ubuntu  | green_agent_1 |  0  |\n",
      "+----------------------------------------+------+---------------------+-----------+----------+---------------+-----+\n",
      "|  restricted_zone_a_subnet_user_host_2  | 1661 |   ProcessName.SSHD  |    SSH    |   user   |       -       |  -  |\n",
      "|                   \"                    | 9029 | ProcessName.APACHE2 | WEBSERVER |   user   |       -       |  -  |\n",
      "|                   \"                    | 6404 |  ProcessName.MYSQLD |   MYSQL   |   user   |       -       |  -  |\n",
      "|                   \"                    | 9032 |       UNKNOWN       |     -     |  ubuntu  |  blue_agent_0 |  3  |\n",
      "|                   \"                    | 9037 |     GREY_SESSION    |     -     |  ubuntu  | green_agent_2 |  0  |\n",
      "+----------------------------------------+------+---------------------+-----------+----------+---------------+-----+\n",
      "|  restricted_zone_a_subnet_user_host_3  | 4406 |   ProcessName.SSHD  |    SSH    |   user   |       -       |  -  |\n",
      "|                   \"                    | 4409 |       UNKNOWN       |     -     |  ubuntu  |  blue_agent_0 |  4  |\n",
      "|                   \"                    | 4410 |     GREY_SESSION    |     -     |  ubuntu  | green_agent_3 |  0  |\n",
      "+----------------------------------------+------+---------------------+-----------+----------+---------------+-----+\n",
      "|  restricted_zone_a_subnet_user_host_4  | 3309 |   ProcessName.SSHD  |    SSH    |   user   |       -       |  -  |\n",
      "|                   \"                    | 1335 | ProcessName.APACHE2 | WEBSERVER |   user   |       -       |  -  |\n",
      "|                   \"                    | 3630 |  ProcessName.MYSQLD |   MYSQL   |   user   |       -       |  -  |\n",
      "|                   \"                    | 3401 |   ProcessName.SMTP  |    SMTP   |   user   |       -       |  -  |\n",
      "|                   \"                    | 3637 |       UNKNOWN       |     -     |  ubuntu  |  blue_agent_0 |  5  |\n",
      "|                   \"                    | 3646 |     GREY_SESSION    |     -     |  ubuntu  | green_agent_4 |  0  |\n",
      "+----------------------------------------+------+---------------------+-----------+----------+---------------+-----+\n",
      "| restricted_zone_a_subnet_server_host_0 | 1605 |   ProcessName.SSHD  |    SSH    |   user   |       -       |  -  |\n",
      "|                   \"                    | 4599 |   ProcessName.SMTP  |    SMTP   |   user   |       -       |  -  |\n",
      "|                   \"                    | 6109 |  ProcessName.MYSQLD |   MYSQL   |   user   |       -       |  -  |\n",
      "|                   \"                    | 6110 |       UNKNOWN       |     -     |  ubuntu  |  blue_agent_0 |  6  |\n",
      "+----------------------------------------+------+---------------------+-----------+----------+---------------+-----+\n",
      "| restricted_zone_a_subnet_server_host_1 | 4223 |   ProcessName.SSHD  |    SSH    |   user   |       -       |  -  |\n",
      "|                   \"                    | 6045 | ProcessName.APACHE2 | WEBSERVER |   user   |       -       |  -  |\n",
      "|                   \"                    | 6064 |  ProcessName.MYSQLD |   MYSQL   |   user   |       -       |  -  |\n",
      "|                   \"                    | 6066 |       UNKNOWN       |     -     |  ubuntu  |  blue_agent_0 |  7  |\n",
      "+----------------------------------------+------+---------------------+-----------+----------+---------------+-----+\n",
      "\n",
      "\n",
      "Host Processes Table: Subnet OPERATIONAL_ZONE_A \n",
      "\n",
      "+-----------------------------------------+------+-----------------------+-----------+----------+---------------+-----+\n",
      "|                 Hostname                | PID  |          Name         |    Type   | Username |    Session    | SID |\n",
      "+-----------------------------------------+------+-----------------------+-----------+----------+---------------+-----+\n",
      "|     operational_zone_a_subnet_router    |  9   |        UNKNOWN        |     -     |  ubuntu  |  blue_agent_1 |  1  |\n",
      "+-----------------------------------------+------+-----------------------+-----------+----------+---------------+-----+\n",
      "|  operational_zone_a_subnet_user_host_0  | 2459 |    ProcessName.SSHD   |    SSH    |   user   |       -       |  -  |\n",
      "|                    \"                    | 9219 | ProcessName.OTSERVICE |  UNKNOWN  |   user   |       -       |  -  |\n",
      "|                    \"                    | 9225 |        UNKNOWN        |     -     |  ubuntu  |  blue_agent_1 |  2  |\n",
      "|                    \"                    | 9230 |      GREY_SESSION     |     -     |  ubuntu  | green_agent_5 |  0  |\n",
      "+-----------------------------------------+------+-----------------------+-----------+----------+---------------+-----+\n",
      "|  operational_zone_a_subnet_user_host_1  | 1087 |    ProcessName.SSHD   |    SSH    |   user   |       -       |  -  |\n",
      "|                    \"                    | 2421 | ProcessName.OTSERVICE |  UNKNOWN  |   user   |       -       |  -  |\n",
      "|                    \"                    | 2422 |        UNKNOWN        |     -     |  ubuntu  |  blue_agent_1 |  3  |\n",
      "|                    \"                    | 2431 |      GREY_SESSION     |     -     |  ubuntu  | green_agent_6 |  0  |\n",
      "+-----------------------------------------+------+-----------------------+-----------+----------+---------------+-----+\n",
      "|  operational_zone_a_subnet_user_host_2  | 6866 |    ProcessName.SSHD   |    SSH    |   user   |       -       |  -  |\n",
      "|                    \"                    | 8498 | ProcessName.OTSERVICE |  UNKNOWN  |   user   |       -       |  -  |\n",
      "|                    \"                    | 6699 |    ProcessName.SMTP   |    SMTP   |   user   |       -       |  -  |\n",
      "|                    \"                    | 2902 |  ProcessName.APACHE2  | WEBSERVER |   user   |       -       |  -  |\n",
      "|                    \"                    | 8504 |  VELOCIRAPTOR_SERVER  |     -     |  ubuntu  |  blue_agent_1 |  0  |\n",
      "|                    \"                    | 8508 |      GREY_SESSION     |     -     |  ubuntu  | green_agent_7 |  0  |\n",
      "+-----------------------------------------+------+-----------------------+-----------+----------+---------------+-----+\n",
      "| operational_zone_a_subnet_server_host_0 | 6864 |    ProcessName.SSHD   |    SSH    |   user   |       -       |  -  |\n",
      "|                    \"                    | 6308 | ProcessName.OTSERVICE |  UNKNOWN  |   user   |       -       |  -  |\n",
      "|                    \"                    | 9846 |    ProcessName.SMTP   |    SMTP   |   user   |       -       |  -  |\n",
      "|                    \"                    | 9852 |        UNKNOWN        |     -     |  ubuntu  |  blue_agent_1 |  4  |\n",
      "+-----------------------------------------+------+-----------------------+-----------+----------+---------------+-----+\n",
      "| operational_zone_a_subnet_server_host_1 | 1718 |    ProcessName.SSHD   |    SSH    |   user   |       -       |  -  |\n",
      "|                    \"                    | 1670 | ProcessName.OTSERVICE |  UNKNOWN  |   user   |       -       |  -  |\n",
      "|                    \"                    | 5947 |  ProcessName.APACHE2  | WEBSERVER |   user   |       -       |  -  |\n",
      "|                    \"                    | 7167 |    ProcessName.SMTP   |    SMTP   |   user   |       -       |  -  |\n",
      "|                    \"                    | 2231 |   ProcessName.MYSQLD  |   MYSQL   |   user   |       -       |  -  |\n",
      "|                    \"                    | 7170 |        UNKNOWN        |     -     |  ubuntu  |  blue_agent_1 |  5  |\n",
      "+-----------------------------------------+------+-----------------------+-----------+----------+---------------+-----+\n",
      "| operational_zone_a_subnet_server_host_2 | 1919 |    ProcessName.SSHD   |    SSH    |   user   |       -       |  -  |\n",
      "|                    \"                    | 4093 | ProcessName.OTSERVICE |  UNKNOWN  |   user   |       -       |  -  |\n",
      "|                    \"                    | 3273 |    ProcessName.SMTP   |    SMTP   |   user   |       -       |  -  |\n",
      "|                    \"                    | 2080 |   ProcessName.MYSQLD  |   MYSQL   |   user   |       -       |  -  |\n",
      "|                    \"                    | 4100 |        UNKNOWN        |     -     |  ubuntu  |  blue_agent_1 |  6  |\n",
      "+-----------------------------------------+------+-----------------------+-----------+----------+---------------+-----+\n",
      "\n",
      "\n",
      "Host Processes Table: Subnet RESTRICTED_ZONE_B \n",
      "\n",
      "+----------------------------------------+------+---------------------+-----------+----------+----------------+-----+\n",
      "|                Hostname                | PID  |         Name        |    Type   | Username |    Session     | SID |\n",
      "+----------------------------------------+------+---------------------+-----------+----------+----------------+-----+\n",
      "|    restricted_zone_b_subnet_router     |  6   |       UNKNOWN       |     -     |  ubuntu  |  blue_agent_2  |  1  |\n",
      "+----------------------------------------+------+---------------------+-----------+----------+----------------+-----+\n",
      "|  restricted_zone_b_subnet_user_host_0  | 1681 |   ProcessName.SSHD  |    SSH    |   user   |       -        |  -  |\n",
      "|                   \"                    | 1686 |       UNKNOWN       |     -     |  ubuntu  |  blue_agent_2  |  2  |\n",
      "|                   \"                    | 1691 |     GREY_SESSION    |     -     |  ubuntu  | green_agent_8  |  0  |\n",
      "+----------------------------------------+------+---------------------+-----------+----------+----------------+-----+\n",
      "|  restricted_zone_b_subnet_user_host_1  | 3186 |   ProcessName.SSHD  |    SSH    |   user   |       -        |  -  |\n",
      "|                   \"                    | 3193 |       UNKNOWN       |     -     |  ubuntu  |  blue_agent_2  |  3  |\n",
      "|                   \"                    | 3201 |     GREY_SESSION    |     -     |  ubuntu  | green_agent_9  |  0  |\n",
      "+----------------------------------------+------+---------------------+-----------+----------+----------------+-----+\n",
      "|  restricted_zone_b_subnet_user_host_2  | 8049 |   ProcessName.SSHD  |    SSH    |   user   |       -        |  -  |\n",
      "|                   \"                    | 8053 |       UNKNOWN       |     -     |  ubuntu  |  blue_agent_2  |  4  |\n",
      "|                   \"                    | 8054 |     GREY_SESSION    |     -     |  ubuntu  | green_agent_10 |  0  |\n",
      "+----------------------------------------+------+---------------------+-----------+----------+----------------+-----+\n",
      "| restricted_zone_b_subnet_server_host_0 | 1542 |   ProcessName.SSHD  |    SSH    |   user   |       -        |  -  |\n",
      "|                   \"                    | 7972 |  ProcessName.MYSQLD |   MYSQL   |   user   |       -        |  -  |\n",
      "|                   \"                    | 5208 |   ProcessName.SMTP  |    SMTP   |   user   |       -        |  -  |\n",
      "|                   \"                    | 8380 | ProcessName.APACHE2 | WEBSERVER |   user   |       -        |  -  |\n",
      "|                   \"                    | 8386 |       UNKNOWN       |     -     |  ubuntu  |  blue_agent_2  |  5  |\n",
      "+----------------------------------------+------+---------------------+-----------+----------+----------------+-----+\n",
      "| restricted_zone_b_subnet_server_host_1 | 1628 |   ProcessName.SSHD  |    SSH    |   user   |       -        |  -  |\n",
      "|                   \"                    | 7230 |  ProcessName.MYSQLD |   MYSQL   |   user   |       -        |  -  |\n",
      "|                   \"                    | 6198 |   ProcessName.SMTP  |    SMTP   |   user   |       -        |  -  |\n",
      "|                   \"                    | 7239 |       UNKNOWN       |     -     |  ubuntu  |  blue_agent_2  |  6  |\n",
      "+----------------------------------------+------+---------------------+-----------+----------+----------------+-----+\n",
      "| restricted_zone_b_subnet_server_host_2 | 3469 |   ProcessName.SSHD  |    SSH    |   user   |       -        |  -  |\n",
      "|                   \"                    | 3478 | VELOCIRAPTOR_SERVER |     -     |  ubuntu  |  blue_agent_2  |  0  |\n",
      "+----------------------------------------+------+---------------------+-----------+----------+----------------+-----+\n",
      "| restricted_zone_b_subnet_server_host_3 | 7388 |   ProcessName.SSHD  |    SSH    |   user   |       -        |  -  |\n",
      "|                   \"                    | 4966 |   ProcessName.SMTP  |    SMTP   |   user   |       -        |  -  |\n",
      "|                   \"                    | 2070 | ProcessName.APACHE2 | WEBSERVER |   user   |       -        |  -  |\n",
      "|                   \"                    | 4378 |  ProcessName.MYSQLD |   MYSQL   |   user   |       -        |  -  |\n",
      "|                   \"                    | 7391 |       UNKNOWN       |     -     |  ubuntu  |  blue_agent_2  |  7  |\n",
      "+----------------------------------------+------+---------------------+-----------+----------+----------------+-----+\n",
      "\n",
      "\n",
      "Host Processes Table: Subnet OPERATIONAL_ZONE_B \n",
      "\n",
      "+-----------------------------------------+------+-----------------------+-----------+----------+----------------+-----+\n",
      "|                 Hostname                | PID  |          Name         |    Type   | Username |    Session     | SID |\n",
      "+-----------------------------------------+------+-----------------------+-----------+----------+----------------+-----+\n",
      "|     operational_zone_b_subnet_router    |  9   |        UNKNOWN        |     -     |  ubuntu  |  blue_agent_3  |  1  |\n",
      "+-----------------------------------------+------+-----------------------+-----------+----------+----------------+-----+\n",
      "|  operational_zone_b_subnet_user_host_0  | 5705 |    ProcessName.SSHD   |    SSH    |   user   |       -        |  -  |\n",
      "|                    \"                    | 3486 | ProcessName.OTSERVICE |  UNKNOWN  |   user   |       -        |  -  |\n",
      "|                    \"                    | 5709 |        UNKNOWN        |     -     |  ubuntu  |  blue_agent_3  |  2  |\n",
      "|                    \"                    | 5716 |      GREY_SESSION     |     -     |  ubuntu  | green_agent_11 |  0  |\n",
      "+-----------------------------------------+------+-----------------------+-----------+----------+----------------+-----+\n",
      "|  operational_zone_b_subnet_user_host_1  | 9958 |    ProcessName.SSHD   |    SSH    |   user   |       -        |  -  |\n",
      "|                    \"                    | 4765 | ProcessName.OTSERVICE |  UNKNOWN  |   user   |       -        |  -  |\n",
      "|                    \"                    | 9965 |        UNKNOWN        |     -     |  ubuntu  |  blue_agent_3  |  3  |\n",
      "|                    \"                    | 9970 |      GREY_SESSION     |     -     |  ubuntu  | green_agent_12 |  0  |\n",
      "+-----------------------------------------+------+-----------------------+-----------+----------+----------------+-----+\n",
      "|  operational_zone_b_subnet_user_host_2  | 9850 |    ProcessName.SSHD   |    SSH    |   user   |       -        |  -  |\n",
      "|                    \"                    | 3057 | ProcessName.OTSERVICE |  UNKNOWN  |   user   |       -        |  -  |\n",
      "|                    \"                    | 1817 |   ProcessName.MYSQLD  |   MYSQL   |   user   |       -        |  -  |\n",
      "|                    \"                    | 6738 |  ProcessName.APACHE2  | WEBSERVER |   user   |       -        |  -  |\n",
      "|                    \"                    | 8884 |    ProcessName.SMTP   |    SMTP   |   user   |       -        |  -  |\n",
      "|                    \"                    | 9851 |        UNKNOWN        |     -     |  ubuntu  |  blue_agent_3  |  4  |\n",
      "|                    \"                    | 9854 |      GREY_SESSION     |     -     |  ubuntu  | green_agent_13 |  0  |\n",
      "+-----------------------------------------+------+-----------------------+-----------+----------+----------------+-----+\n",
      "|  operational_zone_b_subnet_user_host_3  | 5433 |    ProcessName.SSHD   |    SSH    |   user   |       -        |  -  |\n",
      "|                    \"                    | 9390 | ProcessName.OTSERVICE |  UNKNOWN  |   user   |       -        |  -  |\n",
      "|                    \"                    | 9392 |        UNKNOWN        |     -     |  ubuntu  |  blue_agent_3  |  5  |\n",
      "|                    \"                    | 9397 |      GREY_SESSION     |     -     |  ubuntu  | green_agent_14 |  0  |\n",
      "+-----------------------------------------+------+-----------------------+-----------+----------+----------------+-----+\n",
      "|  operational_zone_b_subnet_user_host_4  | 6401 |    ProcessName.SSHD   |    SSH    |   user   |       -        |  -  |\n",
      "|                    \"                    | 8839 | ProcessName.OTSERVICE |  UNKNOWN  |   user   |       -        |  -  |\n",
      "|                    \"                    | 7570 |  ProcessName.APACHE2  | WEBSERVER |   user   |       -        |  -  |\n",
      "|                    \"                    | 8841 |        UNKNOWN        |     -     |  ubuntu  |  blue_agent_3  |  6  |\n",
      "|                    \"                    | 8843 |      GREY_SESSION     |     -     |  ubuntu  | green_agent_15 |  0  |\n",
      "+-----------------------------------------+------+-----------------------+-----------+----------+----------------+-----+\n",
      "|  operational_zone_b_subnet_user_host_5  | 2862 |    ProcessName.SSHD   |    SSH    |   user   |       -        |  -  |\n",
      "|                    \"                    | 3342 | ProcessName.OTSERVICE |  UNKNOWN  |   user   |       -        |  -  |\n",
      "|                    \"                    | 4935 |    ProcessName.SMTP   |    SMTP   |   user   |       -        |  -  |\n",
      "|                    \"                    | 3088 |  ProcessName.APACHE2  | WEBSERVER |   user   |       -        |  -  |\n",
      "|                    \"                    | 1200 |   ProcessName.MYSQLD  |   MYSQL   |   user   |       -        |  -  |\n",
      "|                    \"                    | 4942 |        UNKNOWN        |     -     |  ubuntu  |  blue_agent_3  |  7  |\n",
      "|                    \"                    | 4943 |      GREY_SESSION     |     -     |  ubuntu  | green_agent_16 |  0  |\n",
      "+-----------------------------------------+------+-----------------------+-----------+----------+----------------+-----+\n",
      "|  operational_zone_b_subnet_user_host_6  | 3598 |    ProcessName.SSHD   |    SSH    |   user   |       -        |  -  |\n",
      "|                    \"                    | 5437 | ProcessName.OTSERVICE |  UNKNOWN  |   user   |       -        |  -  |\n",
      "|                    \"                    | 5815 |   ProcessName.MYSQLD  |   MYSQL   |   user   |       -        |  -  |\n",
      "|                    \"                    | 5822 |        UNKNOWN        |     -     |  ubuntu  |  blue_agent_3  |  8  |\n",
      "|                    \"                    | 5830 |      GREY_SESSION     |     -     |  ubuntu  | green_agent_17 |  0  |\n",
      "+-----------------------------------------+------+-----------------------+-----------+----------+----------------+-----+\n",
      "|  operational_zone_b_subnet_user_host_7  | 1723 |    ProcessName.SSHD   |    SSH    |   user   |       -        |  -  |\n",
      "|                    \"                    | 9619 | ProcessName.OTSERVICE |  UNKNOWN  |   user   |       -        |  -  |\n",
      "|                    \"                    | 9362 |  ProcessName.APACHE2  | WEBSERVER |   user   |       -        |  -  |\n",
      "|                    \"                    | 5486 |    ProcessName.SMTP   |    SMTP   |   user   |       -        |  -  |\n",
      "|                    \"                    | 8263 |   ProcessName.MYSQLD  |   MYSQL   |   user   |       -        |  -  |\n",
      "|                    \"                    | 9622 |        UNKNOWN        |     -     |  ubuntu  |  blue_agent_3  |  9  |\n",
      "|                    \"                    | 9625 |      GREY_SESSION     |     -     |  ubuntu  | green_agent_18 |  0  |\n",
      "+-----------------------------------------+------+-----------------------+-----------+----------+----------------+-----+\n",
      "|  operational_zone_b_subnet_user_host_8  | 1128 |    ProcessName.SSHD   |    SSH    |   user   |       -        |  -  |\n",
      "|                    \"                    | 9270 | ProcessName.OTSERVICE |  UNKNOWN  |   user   |       -        |  -  |\n",
      "|                    \"                    | 8069 |    ProcessName.SMTP   |    SMTP   |   user   |       -        |  -  |\n",
      "|                    \"                    | 9271 |        UNKNOWN        |     -     |  ubuntu  |  blue_agent_3  |  10 |\n",
      "|                    \"                    | 9274 |      GREY_SESSION     |     -     |  ubuntu  | green_agent_19 |  0  |\n",
      "+-----------------------------------------+------+-----------------------+-----------+----------+----------------+-----+\n",
      "|  operational_zone_b_subnet_user_host_9  | 1461 |    ProcessName.SSHD   |    SSH    |   user   |       -        |  -  |\n",
      "|                    \"                    | 3444 | ProcessName.OTSERVICE |  UNKNOWN  |   user   |       -        |  -  |\n",
      "|                    \"                    | 3148 |  ProcessName.APACHE2  | WEBSERVER |   user   |       -        |  -  |\n",
      "|                    \"                    | 3445 |        UNKNOWN        |     -     |  ubuntu  |  blue_agent_3  |  11 |\n",
      "|                    \"                    | 3450 |      GREY_SESSION     |     -     |  ubuntu  | green_agent_20 |  0  |\n",
      "+-----------------------------------------+------+-----------------------+-----------+----------+----------------+-----+\n",
      "| operational_zone_b_subnet_server_host_0 | 7547 |    ProcessName.SSHD   |    SSH    |   user   |       -        |  -  |\n",
      "|                    \"                    | 5149 | ProcessName.OTSERVICE |  UNKNOWN  |   user   |       -        |  -  |\n",
      "|                    \"                    | 1541 |  ProcessName.APACHE2  | WEBSERVER |   user   |       -        |  -  |\n",
      "|                    \"                    | 8021 |   ProcessName.MYSQLD  |   MYSQL   |   user   |       -        |  -  |\n",
      "|                    \"                    | 5188 |    ProcessName.SMTP   |    SMTP   |   user   |       -        |  -  |\n",
      "|                    \"                    | 8023 |        UNKNOWN        |     -     |  ubuntu  |  blue_agent_3  |  12 |\n",
      "+-----------------------------------------+------+-----------------------+-----------+----------+----------------+-----+\n",
      "| operational_zone_b_subnet_server_host_1 | 2882 |    ProcessName.SSHD   |    SSH    |   user   |       -        |  -  |\n",
      "|                    \"                    | 5354 | ProcessName.OTSERVICE |  UNKNOWN  |   user   |       -        |  -  |\n",
      "|                    \"                    | 8595 |    ProcessName.SMTP   |    SMTP   |   user   |       -        |  -  |\n",
      "|                    \"                    | 2381 |   ProcessName.MYSQLD  |   MYSQL   |   user   |       -        |  -  |\n",
      "|                    \"                    | 8600 |        UNKNOWN        |     -     |  ubuntu  |  blue_agent_3  |  13 |\n",
      "+-----------------------------------------+------+-----------------------+-----------+----------+----------------+-----+\n",
      "| operational_zone_b_subnet_server_host_2 | 6822 |    ProcessName.SSHD   |    SSH    |   user   |       -        |  -  |\n",
      "|                    \"                    | 7514 | ProcessName.OTSERVICE |  UNKNOWN  |   user   |       -        |  -  |\n",
      "|                    \"                    | 7516 |        UNKNOWN        |     -     |  ubuntu  |  blue_agent_3  |  14 |\n",
      "+-----------------------------------------+------+-----------------------+-----------+----------+----------------+-----+\n",
      "| operational_zone_b_subnet_server_host_3 | 4598 |    ProcessName.SSHD   |    SSH    |   user   |       -        |  -  |\n",
      "|                    \"                    | 2027 | ProcessName.OTSERVICE |  UNKNOWN  |   user   |       -        |  -  |\n",
      "|                    \"                    | 4599 |        UNKNOWN        |     -     |  ubuntu  |  blue_agent_3  |  15 |\n",
      "+-----------------------------------------+------+-----------------------+-----------+----------+----------------+-----+\n",
      "| operational_zone_b_subnet_server_host_4 | 3617 |    ProcessName.SSHD   |    SSH    |   user   |       -        |  -  |\n",
      "|                    \"                    | 2845 | ProcessName.OTSERVICE |  UNKNOWN  |   user   |       -        |  -  |\n",
      "|                    \"                    | 6971 |    ProcessName.SMTP   |    SMTP   |   user   |       -        |  -  |\n",
      "|                    \"                    | 8344 |  ProcessName.APACHE2  | WEBSERVER |   user   |       -        |  -  |\n",
      "|                    \"                    | 8375 |   ProcessName.MYSQLD  |   MYSQL   |   user   |       -        |  -  |\n",
      "|                    \"                    | 8384 |  VELOCIRAPTOR_SERVER  |     -     |  ubuntu  |  blue_agent_3  |  0  |\n",
      "+-----------------------------------------+------+-----------------------+-----------+----------+----------------+-----+\n",
      "\n",
      "\n",
      "Host Processes Table: Subnet CONTRACTOR_NETWORK \n",
      "\n",
      "+-----------------------------------------+------+----------------------+-----------+----------+----------------+-----+\n",
      "|                 Hostname                | PID  |         Name         |    Type   | Username |    Session     | SID |\n",
      "+-----------------------------------------+------+----------------------+-----------+----------+----------------+-----+\n",
      "|  contractor_network_subnet_user_host_0  | 1936 |   ProcessName.SSHD   |    SSH    |   user   |       -        |  -  |\n",
      "|                    \"                    | 1889 |   ProcessName.SMTP   |    SMTP   |   user   |       -        |  -  |\n",
      "|                    \"                    | 5561 |  ProcessName.MYSQLD  |   MYSQL   |   user   |       -        |  -  |\n",
      "|                    \"                    | 5568 |     GREY_SESSION     |     -     |  ubuntu  | green_agent_21 |  0  |\n",
      "+-----------------------------------------+------+----------------------+-----------+----------+----------------+-----+\n",
      "|  contractor_network_subnet_user_host_1  | 2265 |   ProcessName.SSHD   |    SSH    |   user   |       -        |  -  |\n",
      "|                    \"                    | 9121 |  ProcessName.MYSQLD  |   MYSQL   |   user   |       -        |  -  |\n",
      "|                    \"                    | 9268 |   ProcessName.SMTP   |    SMTP   |   user   |       -        |  -  |\n",
      "|                    \"                    | 9270 |     GREY_SESSION     |     -     |  ubuntu  | green_agent_22 |  0  |\n",
      "|                    \"                    | 9274 | RED_ABSTRACT_SESSION |     -     |  ubuntu  |  red_agent_0   |  0  |\n",
      "+-----------------------------------------+------+----------------------+-----------+----------+----------------+-----+\n",
      "|  contractor_network_subnet_user_host_2  | 8565 |   ProcessName.SSHD   |    SSH    |   user   |       -        |  -  |\n",
      "|                    \"                    | 3970 |   ProcessName.SMTP   |    SMTP   |   user   |       -        |  -  |\n",
      "|                    \"                    | 5025 |  ProcessName.MYSQLD  |   MYSQL   |   user   |       -        |  -  |\n",
      "|                    \"                    | 8568 |     GREY_SESSION     |     -     |  ubuntu  | green_agent_23 |  0  |\n",
      "+-----------------------------------------+------+----------------------+-----------+----------+----------------+-----+\n",
      "| contractor_network_subnet_server_host_0 | 7379 |   ProcessName.SSHD   |    SSH    |   user   |       -        |  -  |\n",
      "|                    \"                    | 2460 |   ProcessName.SMTP   |    SMTP   |   user   |       -        |  -  |\n",
      "+-----------------------------------------+------+----------------------+-----------+----------+----------------+-----+\n",
      "| contractor_network_subnet_server_host_1 | 6132 |   ProcessName.SSHD   |    SSH    |   user   |       -        |  -  |\n",
      "|                    \"                    | 7232 | ProcessName.APACHE2  | WEBSERVER |   user   |       -        |  -  |\n",
      "+-----------------------------------------+------+----------------------+-----------+----------+----------------+-----+\n",
      "| contractor_network_subnet_server_host_2 | 1075 |   ProcessName.SSHD   |    SSH    |   user   |       -        |  -  |\n",
      "+-----------------------------------------+------+----------------------+-----------+----------+----------------+-----+\n",
      "\n",
      "\n",
      "Host Processes Table: Subnet PUBLIC_ACCESS_ZONE \n",
      "\n",
      "+-----------------------------------------+------+---------------------+-----------+----------+----------------+-----+\n",
      "|                 Hostname                | PID  |         Name        |    Type   | Username |    Session     | SID |\n",
      "+-----------------------------------------+------+---------------------+-----------+----------+----------------+-----+\n",
      "|     public_access_zone_subnet_router    |  8   |       UNKNOWN       |     -     |  ubuntu  |  blue_agent_4  |  1  |\n",
      "+-----------------------------------------+------+---------------------+-----------+----------+----------------+-----+\n",
      "|  public_access_zone_subnet_user_host_0  | 9786 |   ProcessName.SSHD  |    SSH    |   user   |       -        |  -  |\n",
      "|                    \"                    | 5703 |  ProcessName.MYSQLD |   MYSQL   |   user   |       -        |  -  |\n",
      "|                    \"                    | 4567 | ProcessName.APACHE2 | WEBSERVER |   user   |       -        |  -  |\n",
      "|                    \"                    | 9793 |       UNKNOWN       |     -     |  ubuntu  |  blue_agent_4  |  2  |\n",
      "|                    \"                    | 9795 |     GREY_SESSION    |     -     |  ubuntu  | green_agent_24 |  0  |\n",
      "+-----------------------------------------+------+---------------------+-----------+----------+----------------+-----+\n",
      "|  public_access_zone_subnet_user_host_1  | 8330 |   ProcessName.SSHD  |    SSH    |   user   |       -        |  -  |\n",
      "|                    \"                    | 1551 | ProcessName.APACHE2 | WEBSERVER |   user   |       -        |  -  |\n",
      "|                    \"                    | 9500 |  ProcessName.MYSQLD |   MYSQL   |   user   |       -        |  -  |\n",
      "|                    \"                    | 6797 |   ProcessName.SMTP  |    SMTP   |   user   |       -        |  -  |\n",
      "|                    \"                    | 9505 |       UNKNOWN       |     -     |  ubuntu  |  blue_agent_4  |  3  |\n",
      "|                    \"                    | 9510 |     GREY_SESSION    |     -     |  ubuntu  | green_agent_25 |  0  |\n",
      "+-----------------------------------------+------+---------------------+-----------+----------+----------------+-----+\n",
      "|  public_access_zone_subnet_user_host_2  | 9125 |   ProcessName.SSHD  |    SSH    |   user   |       -        |  -  |\n",
      "|                    \"                    | 1911 | ProcessName.APACHE2 | WEBSERVER |   user   |       -        |  -  |\n",
      "|                    \"                    | 8295 |   ProcessName.SMTP  |    SMTP   |   user   |       -        |  -  |\n",
      "|                    \"                    | 9132 |       UNKNOWN       |     -     |  ubuntu  |  blue_agent_4  |  4  |\n",
      "|                    \"                    | 9139 |     GREY_SESSION    |     -     |  ubuntu  | green_agent_26 |  0  |\n",
      "+-----------------------------------------+------+---------------------+-----------+----------+----------------+-----+\n",
      "|  public_access_zone_subnet_user_host_3  | 4422 |   ProcessName.SSHD  |    SSH    |   user   |       -        |  -  |\n",
      "|                    \"                    | 6480 |   ProcessName.SMTP  |    SMTP   |   user   |       -        |  -  |\n",
      "|                    \"                    | 6483 |       UNKNOWN       |     -     |  ubuntu  |  blue_agent_4  |  5  |\n",
      "|                    \"                    | 6485 |     GREY_SESSION    |     -     |  ubuntu  | green_agent_27 |  0  |\n",
      "+-----------------------------------------+------+---------------------+-----------+----------+----------------+-----+\n",
      "|  public_access_zone_subnet_user_host_4  | 2093 |   ProcessName.SSHD  |    SSH    |   user   |       -        |  -  |\n",
      "|                    \"                    | 3594 | ProcessName.APACHE2 | WEBSERVER |   user   |       -        |  -  |\n",
      "|                    \"                    | 2652 |   ProcessName.SMTP  |    SMTP   |   user   |       -        |  -  |\n",
      "|                    \"                    | 1513 |  ProcessName.MYSQLD |   MYSQL   |   user   |       -        |  -  |\n",
      "|                    \"                    | 3601 |       UNKNOWN       |     -     |  ubuntu  |  blue_agent_4  |  6  |\n",
      "|                    \"                    | 3605 |     GREY_SESSION    |     -     |  ubuntu  | green_agent_28 |  0  |\n",
      "+-----------------------------------------+------+---------------------+-----------+----------+----------------+-----+\n",
      "| public_access_zone_subnet_server_host_0 | 1417 |   ProcessName.SSHD  |    SSH    |   user   |       -        |  -  |\n",
      "|                    \"                    | 3833 |   ProcessName.SMTP  |    SMTP   |   user   |       -        |  -  |\n",
      "|                    \"                    | 5084 |  ProcessName.MYSQLD |   MYSQL   |   user   |       -        |  -  |\n",
      "|                    \"                    | 5088 |       UNKNOWN       |     -     |  ubuntu  |  blue_agent_4  |  7  |\n",
      "+-----------------------------------------+------+---------------------+-----------+----------+----------------+-----+\n",
      "| public_access_zone_subnet_server_host_1 | 8822 |   ProcessName.SSHD  |    SSH    |   user   |       -        |  -  |\n",
      "|                    \"                    | 4515 |   ProcessName.SMTP  |    SMTP   |   user   |       -        |  -  |\n",
      "|                    \"                    | 3599 | ProcessName.APACHE2 | WEBSERVER |   user   |       -        |  -  |\n",
      "|                    \"                    | 5887 |  ProcessName.MYSQLD |   MYSQL   |   user   |       -        |  -  |\n",
      "|                    \"                    | 8827 |       UNKNOWN       |     -     |  ubuntu  |  blue_agent_4  |  8  |\n",
      "+-----------------------------------------+------+---------------------+-----------+----------+----------------+-----+\n",
      "| public_access_zone_subnet_server_host_2 | 9489 |   ProcessName.SSHD  |    SSH    |   user   |       -        |  -  |\n",
      "|                    \"                    | 9494 |       UNKNOWN       |     -     |  ubuntu  |  blue_agent_4  |  9  |\n",
      "+-----------------------------------------+------+---------------------+-----------+----------+----------------+-----+\n",
      "| public_access_zone_subnet_server_host_3 | 9189 |   ProcessName.SSHD  |    SSH    |   user   |       -        |  -  |\n",
      "|                    \"                    | 9197 |       UNKNOWN       |     -     |  ubuntu  |  blue_agent_4  |  10 |\n",
      "+-----------------------------------------+------+---------------------+-----------+----------+----------------+-----+\n",
      "| public_access_zone_subnet_server_host_4 | 8114 |   ProcessName.SSHD  |    SSH    |   user   |       -        |  -  |\n",
      "|                    \"                    | 8121 |       UNKNOWN       |     -     |  ubuntu  |  blue_agent_4  |  11 |\n",
      "+-----------------------------------------+------+---------------------+-----------+----------+----------------+-----+\n",
      "\n",
      "\n",
      "Host Processes Table: Subnet ADMIN_NETWORK \n",
      "\n",
      "+------------------------------------+------+---------------------+-----------+----------+----------------+-----+\n",
      "|              Hostname              | PID  |         Name        |    Type   | Username |    Session     | SID |\n",
      "+------------------------------------+------+---------------------+-----------+----------+----------------+-----+\n",
      "|    admin_network_subnet_router     |  8   |       UNKNOWN       |     -     |  ubuntu  |  blue_agent_4  |  12 |\n",
      "+------------------------------------+------+---------------------+-----------+----------+----------------+-----+\n",
      "|  admin_network_subnet_user_host_0  | 7295 |   ProcessName.SSHD  |    SSH    |   user   |       -        |  -  |\n",
      "|                 \"                  | 7299 |       UNKNOWN       |     -     |  ubuntu  |  blue_agent_4  |  13 |\n",
      "|                 \"                  | 7303 |     GREY_SESSION    |     -     |  ubuntu  | green_agent_29 |  0  |\n",
      "+------------------------------------+------+---------------------+-----------+----------+----------------+-----+\n",
      "|  admin_network_subnet_user_host_1  | 2812 |   ProcessName.SSHD  |    SSH    |   user   |       -        |  -  |\n",
      "|                 \"                  | 7955 |  ProcessName.MYSQLD |   MYSQL   |   user   |       -        |  -  |\n",
      "|                 \"                  | 2022 |   ProcessName.SMTP  |    SMTP   |   user   |       -        |  -  |\n",
      "|                 \"                  | 2678 | ProcessName.APACHE2 | WEBSERVER |   user   |       -        |  -  |\n",
      "|                 \"                  | 7964 |       UNKNOWN       |     -     |  ubuntu  |  blue_agent_4  |  14 |\n",
      "|                 \"                  | 7968 |     GREY_SESSION    |     -     |  ubuntu  | green_agent_30 |  0  |\n",
      "+------------------------------------+------+---------------------+-----------+----------+----------------+-----+\n",
      "|  admin_network_subnet_user_host_2  | 6191 |   ProcessName.SSHD  |    SSH    |   user   |       -        |  -  |\n",
      "|                 \"                  | 6093 | ProcessName.APACHE2 | WEBSERVER |   user   |       -        |  -  |\n",
      "|                 \"                  | 6635 |  ProcessName.MYSQLD |   MYSQL   |   user   |       -        |  -  |\n",
      "|                 \"                  | 6644 |       UNKNOWN       |     -     |  ubuntu  |  blue_agent_4  |  15 |\n",
      "|                 \"                  | 6645 |     GREY_SESSION    |     -     |  ubuntu  | green_agent_31 |  0  |\n",
      "+------------------------------------+------+---------------------+-----------+----------+----------------+-----+\n",
      "|  admin_network_subnet_user_host_3  | 4018 |   ProcessName.SSHD  |    SSH    |   user   |       -        |  -  |\n",
      "|                 \"                  | 4024 |       UNKNOWN       |     -     |  ubuntu  |  blue_agent_4  |  16 |\n",
      "|                 \"                  | 4032 |     GREY_SESSION    |     -     |  ubuntu  | green_agent_32 |  0  |\n",
      "+------------------------------------+------+---------------------+-----------+----------+----------------+-----+\n",
      "|  admin_network_subnet_user_host_4  | 5183 |   ProcessName.SSHD  |    SSH    |   user   |       -        |  -  |\n",
      "|                 \"                  | 9611 |  ProcessName.MYSQLD |   MYSQL   |   user   |       -        |  -  |\n",
      "|                 \"                  | 3553 |   ProcessName.SMTP  |    SMTP   |   user   |       -        |  -  |\n",
      "|                 \"                  | 9614 |       UNKNOWN       |     -     |  ubuntu  |  blue_agent_4  |  17 |\n",
      "|                 \"                  | 9620 |     GREY_SESSION    |     -     |  ubuntu  | green_agent_33 |  0  |\n",
      "+------------------------------------+------+---------------------+-----------+----------+----------------+-----+\n",
      "|  admin_network_subnet_user_host_5  | 4131 |   ProcessName.SSHD  |    SSH    |   user   |       -        |  -  |\n",
      "|                 \"                  | 8983 | ProcessName.APACHE2 | WEBSERVER |   user   |       -        |  -  |\n",
      "|                 \"                  | 8989 |       UNKNOWN       |     -     |  ubuntu  |  blue_agent_4  |  18 |\n",
      "|                 \"                  | 8997 |     GREY_SESSION    |     -     |  ubuntu  | green_agent_34 |  0  |\n",
      "+------------------------------------+------+---------------------+-----------+----------+----------------+-----+\n",
      "|  admin_network_subnet_user_host_6  | 4310 |   ProcessName.SSHD  |    SSH    |   user   |       -        |  -  |\n",
      "|                 \"                  | 7808 |   ProcessName.SMTP  |    SMTP   |   user   |       -        |  -  |\n",
      "|                 \"                  | 7810 |       UNKNOWN       |     -     |  ubuntu  |  blue_agent_4  |  19 |\n",
      "|                 \"                  | 7814 |     GREY_SESSION    |     -     |  ubuntu  | green_agent_35 |  0  |\n",
      "+------------------------------------+------+---------------------+-----------+----------+----------------+-----+\n",
      "|  admin_network_subnet_user_host_7  | 3526 |   ProcessName.SSHD  |    SSH    |   user   |       -        |  -  |\n",
      "|                 \"                  | 8602 |  ProcessName.MYSQLD |   MYSQL   |   user   |       -        |  -  |\n",
      "|                 \"                  | 8000 | ProcessName.APACHE2 | WEBSERVER |   user   |       -        |  -  |\n",
      "|                 \"                  | 5779 |   ProcessName.SMTP  |    SMTP   |   user   |       -        |  -  |\n",
      "|                 \"                  | 8605 |       UNKNOWN       |     -     |  ubuntu  |  blue_agent_4  |  20 |\n",
      "|                 \"                  | 8610 |     GREY_SESSION    |     -     |  ubuntu  | green_agent_36 |  0  |\n",
      "+------------------------------------+------+---------------------+-----------+----------+----------------+-----+\n",
      "|  admin_network_subnet_user_host_8  | 8376 |   ProcessName.SSHD  |    SSH    |   user   |       -        |  -  |\n",
      "|                 \"                  | 8385 |       UNKNOWN       |     -     |  ubuntu  |  blue_agent_4  |  21 |\n",
      "|                 \"                  | 8390 |     GREY_SESSION    |     -     |  ubuntu  | green_agent_37 |  0  |\n",
      "+------------------------------------+------+---------------------+-----------+----------+----------------+-----+\n",
      "| admin_network_subnet_server_host_0 | 6071 |   ProcessName.SSHD  |    SSH    |   user   |       -        |  -  |\n",
      "|                 \"                  | 3758 |   ProcessName.SMTP  |    SMTP   |   user   |       -        |  -  |\n",
      "|                 \"                  | 1620 | ProcessName.APACHE2 | WEBSERVER |   user   |       -        |  -  |\n",
      "|                 \"                  | 3471 |  ProcessName.MYSQLD |   MYSQL   |   user   |       -        |  -  |\n",
      "|                 \"                  | 6072 |       UNKNOWN       |     -     |  ubuntu  |  blue_agent_4  |  22 |\n",
      "+------------------------------------+------+---------------------+-----------+----------+----------------+-----+\n",
      "\n",
      "\n",
      "Host Processes Table: Subnet OFFICE_NETWORK \n",
      "\n",
      "+-------------------------------------+------+---------------------+-----------+----------+----------------+-----+\n",
      "|               Hostname              | PID  |         Name        |    Type   | Username |    Session     | SID |\n",
      "+-------------------------------------+------+---------------------+-----------+----------+----------------+-----+\n",
      "|     office_network_subnet_router    |  1   |       UNKNOWN       |     -     |  ubuntu  |  blue_agent_4  |  23 |\n",
      "+-------------------------------------+------+---------------------+-----------+----------+----------------+-----+\n",
      "|  office_network_subnet_user_host_0  | 7830 |   ProcessName.SSHD  |    SSH    |   user   |       -        |  -  |\n",
      "|                  \"                  | 7834 |       UNKNOWN       |     -     |  ubuntu  |  blue_agent_4  |  24 |\n",
      "|                  \"                  | 7843 |     GREY_SESSION    |     -     |  ubuntu  | green_agent_38 |  0  |\n",
      "+-------------------------------------+------+---------------------+-----------+----------+----------------+-----+\n",
      "|  office_network_subnet_user_host_1  | 1840 |   ProcessName.SSHD  |    SSH    |   user   |       -        |  -  |\n",
      "|                  \"                  | 6448 |   ProcessName.SMTP  |    SMTP   |   user   |       -        |  -  |\n",
      "|                  \"                  | 6449 |       UNKNOWN       |     -     |  ubuntu  |  blue_agent_4  |  25 |\n",
      "|                  \"                  | 6458 |     GREY_SESSION    |     -     |  ubuntu  | green_agent_39 |  0  |\n",
      "+-------------------------------------+------+---------------------+-----------+----------+----------------+-----+\n",
      "|  office_network_subnet_user_host_2  | 7851 |   ProcessName.SSHD  |    SSH    |   user   |       -        |  -  |\n",
      "|                  \"                  | 5858 | ProcessName.APACHE2 | WEBSERVER |   user   |       -        |  -  |\n",
      "|                  \"                  | 8915 |   ProcessName.SMTP  |    SMTP   |   user   |       -        |  -  |\n",
      "|                  \"                  | 8051 |  ProcessName.MYSQLD |   MYSQL   |   user   |       -        |  -  |\n",
      "|                  \"                  | 8924 |       UNKNOWN       |     -     |  ubuntu  |  blue_agent_4  |  26 |\n",
      "|                  \"                  | 8926 |     GREY_SESSION    |     -     |  ubuntu  | green_agent_40 |  0  |\n",
      "+-------------------------------------+------+---------------------+-----------+----------+----------------+-----+\n",
      "|  office_network_subnet_user_host_3  | 3081 |   ProcessName.SSHD  |    SSH    |   user   |       -        |  -  |\n",
      "|                  \"                  | 3085 | VELOCIRAPTOR_SERVER |     -     |  ubuntu  |  blue_agent_4  |  0  |\n",
      "|                  \"                  | 3089 |     GREY_SESSION    |     -     |  ubuntu  | green_agent_41 |  0  |\n",
      "+-------------------------------------+------+---------------------+-----------+----------+----------------+-----+\n",
      "|  office_network_subnet_user_host_4  | 2396 |   ProcessName.SSHD  |    SSH    |   user   |       -        |  -  |\n",
      "|                  \"                  | 2256 |  ProcessName.MYSQLD |   MYSQL   |   user   |       -        |  -  |\n",
      "|                  \"                  | 2403 |       UNKNOWN       |     -     |  ubuntu  |  blue_agent_4  |  27 |\n",
      "|                  \"                  | 2406 |     GREY_SESSION    |     -     |  ubuntu  | green_agent_42 |  0  |\n",
      "+-------------------------------------+------+---------------------+-----------+----------+----------------+-----+\n",
      "|  office_network_subnet_user_host_5  | 6257 |   ProcessName.SSHD  |    SSH    |   user   |       -        |  -  |\n",
      "|                  \"                  | 7238 |   ProcessName.SMTP  |    SMTP   |   user   |       -        |  -  |\n",
      "|                  \"                  | 7242 |       UNKNOWN       |     -     |  ubuntu  |  blue_agent_4  |  28 |\n",
      "|                  \"                  | 7250 |     GREY_SESSION    |     -     |  ubuntu  | green_agent_43 |  0  |\n",
      "+-------------------------------------+------+---------------------+-----------+----------+----------------+-----+\n",
      "| office_network_subnet_server_host_0 | 2559 |   ProcessName.SSHD  |    SSH    |   user   |       -        |  -  |\n",
      "|                  \"                  | 1440 | ProcessName.APACHE2 | WEBSERVER |   user   |       -        |  -  |\n",
      "|                  \"                  | 7932 |   ProcessName.SMTP  |    SMTP   |   user   |       -        |  -  |\n",
      "|                  \"                  | 7939 |       UNKNOWN       |     -     |  ubuntu  |  blue_agent_4  |  29 |\n",
      "+-------------------------------------+------+---------------------+-----------+----------+----------------+-----+\n",
      "\n",
      "\n",
      "Host Processes Table: Subnet INTERNET \n",
      "\n",
      "+----------+-----+------+------+----------+---------+-----+\n",
      "| Hostname | PID | Name | Type | Username | Session | SID |\n",
      "+----------+-----+------+------+----------+---------+-----+\n",
      "+----------+-----+------+------+----------+---------+-----+\n",
      "\n",
      "\n"
     ]
    }
   ],
   "source": [
    "from CybORG.Agents.Wrappers.TrueStateWrapper import TrueStateTableWrapper\n",
    "true_env = TrueStateTableWrapper(env)\n",
    "true_env.print_host_processes_tables()"
   ]
  },
  {
   "cell_type": "code",
   "execution_count": null,
   "metadata": {},
   "outputs": [],
   "source": []
  }
 ],
 "metadata": {
  "kernelspec": {
   "display_name": "cage4",
   "language": "python",
   "name": "python3"
  },
  "language_info": {
   "codemirror_mode": {
    "name": "ipython",
    "version": 3
   },
   "file_extension": ".py",
   "mimetype": "text/x-python",
   "name": "python",
   "nbconvert_exporter": "python",
   "pygments_lexer": "ipython3",
   "version": "3.10.13"
  }
 },
 "nbformat": 4,
 "nbformat_minor": 2
}
